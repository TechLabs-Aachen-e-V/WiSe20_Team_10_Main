{
 "cells": [
  {
   "cell_type": "code",
   "execution_count": 1,
   "metadata": {},
   "outputs": [],
   "source": [
    "import numpy as np\n",
    "import pandas as pd\n",
    "import matplotlib.pyplot as plt\n",
    "import seaborn as sns\n",
    "%matplotlib inline"
   ]
  },
  {
   "cell_type": "code",
   "execution_count": 2,
   "metadata": {},
   "outputs": [],
   "source": [
    "df = pd.read_csv('../../data/processed/LOLOracleDataWr.csv')"
   ]
  },
  {
   "cell_type": "code",
   "execution_count": 3,
   "metadata": {},
   "outputs": [
    {
     "data": {
      "text/html": [
       "<div>\n",
       "<style scoped>\n",
       "    .dataframe tbody tr th:only-of-type {\n",
       "        vertical-align: middle;\n",
       "    }\n",
       "\n",
       "    .dataframe tbody tr th {\n",
       "        vertical-align: top;\n",
       "    }\n",
       "\n",
       "    .dataframe thead th {\n",
       "        text-align: right;\n",
       "    }\n",
       "</style>\n",
       "<table border=\"1\" class=\"dataframe\">\n",
       "  <thead>\n",
       "    <tr style=\"text-align: right;\">\n",
       "      <th></th>\n",
       "      <th>BTop</th>\n",
       "      <th>BJng</th>\n",
       "      <th>BMid</th>\n",
       "      <th>BAdc</th>\n",
       "      <th>BSup</th>\n",
       "      <th>RTop</th>\n",
       "      <th>RJng</th>\n",
       "      <th>RMid</th>\n",
       "      <th>RAdc</th>\n",
       "      <th>RSup</th>\n",
       "      <th>Winner</th>\n",
       "    </tr>\n",
       "  </thead>\n",
       "  <tbody>\n",
       "    <tr>\n",
       "      <th>0</th>\n",
       "      <td>0.524364</td>\n",
       "      <td>0.506967</td>\n",
       "      <td>0.497972</td>\n",
       "      <td>0.523989</td>\n",
       "      <td>0.438144</td>\n",
       "      <td>0.533592</td>\n",
       "      <td>0.494477</td>\n",
       "      <td>0.491465</td>\n",
       "      <td>0.503883</td>\n",
       "      <td>0.492260</td>\n",
       "      <td>1</td>\n",
       "    </tr>\n",
       "    <tr>\n",
       "      <th>1</th>\n",
       "      <td>0.524364</td>\n",
       "      <td>0.504318</td>\n",
       "      <td>0.565594</td>\n",
       "      <td>0.523989</td>\n",
       "      <td>0.491429</td>\n",
       "      <td>0.516260</td>\n",
       "      <td>0.509972</td>\n",
       "      <td>0.559211</td>\n",
       "      <td>0.504505</td>\n",
       "      <td>0.440678</td>\n",
       "      <td>0</td>\n",
       "    </tr>\n",
       "    <tr>\n",
       "      <th>2</th>\n",
       "      <td>0.513399</td>\n",
       "      <td>0.486450</td>\n",
       "      <td>0.553073</td>\n",
       "      <td>0.525246</td>\n",
       "      <td>0.524819</td>\n",
       "      <td>0.489831</td>\n",
       "      <td>0.539535</td>\n",
       "      <td>0.465315</td>\n",
       "      <td>0.470158</td>\n",
       "      <td>0.527418</td>\n",
       "      <td>0</td>\n",
       "    </tr>\n",
       "    <tr>\n",
       "      <th>3</th>\n",
       "      <td>0.511305</td>\n",
       "      <td>0.505097</td>\n",
       "      <td>0.502868</td>\n",
       "      <td>0.524169</td>\n",
       "      <td>0.534702</td>\n",
       "      <td>0.508671</td>\n",
       "      <td>0.502106</td>\n",
       "      <td>0.508434</td>\n",
       "      <td>0.393443</td>\n",
       "      <td>0.492582</td>\n",
       "      <td>1</td>\n",
       "    </tr>\n",
       "    <tr>\n",
       "      <th>4</th>\n",
       "      <td>0.524364</td>\n",
       "      <td>0.509764</td>\n",
       "      <td>0.421169</td>\n",
       "      <td>0.525246</td>\n",
       "      <td>0.516461</td>\n",
       "      <td>0.499863</td>\n",
       "      <td>0.502106</td>\n",
       "      <td>0.445918</td>\n",
       "      <td>0.465315</td>\n",
       "      <td>0.473513</td>\n",
       "      <td>1</td>\n",
       "    </tr>\n",
       "  </tbody>\n",
       "</table>\n",
       "</div>"
      ],
      "text/plain": [
       "       BTop      BJng      BMid      BAdc      BSup      RTop      RJng  \\\n",
       "0  0.524364  0.506967  0.497972  0.523989  0.438144  0.533592  0.494477   \n",
       "1  0.524364  0.504318  0.565594  0.523989  0.491429  0.516260  0.509972   \n",
       "2  0.513399  0.486450  0.553073  0.525246  0.524819  0.489831  0.539535   \n",
       "3  0.511305  0.505097  0.502868  0.524169  0.534702  0.508671  0.502106   \n",
       "4  0.524364  0.509764  0.421169  0.525246  0.516461  0.499863  0.502106   \n",
       "\n",
       "       RMid      RAdc      RSup  Winner  \n",
       "0  0.491465  0.503883  0.492260       1  \n",
       "1  0.559211  0.504505  0.440678       0  \n",
       "2  0.465315  0.470158  0.527418       0  \n",
       "3  0.508434  0.393443  0.492582       1  \n",
       "4  0.445918  0.465315  0.473513       1  "
      ]
     },
     "execution_count": 3,
     "metadata": {},
     "output_type": "execute_result"
    }
   ],
   "source": [
    "df.head()"
   ]
  },
  {
   "cell_type": "code",
   "execution_count": 4,
   "metadata": {},
   "outputs": [
    {
     "data": {
      "text/plain": [
       "Index(['BTop', 'BJng', 'BMid', 'BAdc', 'BSup', 'RTop', 'RJng', 'RMid', 'RAdc',\n",
       "       'RSup', 'Winner'],\n",
       "      dtype='object')"
      ]
     },
     "execution_count": 4,
     "metadata": {},
     "output_type": "execute_result"
    }
   ],
   "source": [
    "df.columns"
   ]
  },
  {
   "cell_type": "code",
   "execution_count": 5,
   "metadata": {},
   "outputs": [],
   "source": [
    "Red = ['RTop', 'RJng', 'RMid', 'RAdc','RSup']\n",
    "Blue = ['BTop', 'BJng', 'BMid', 'BAdc', 'BSup']"
   ]
  },
  {
   "cell_type": "code",
   "execution_count": 6,
   "metadata": {},
   "outputs": [],
   "source": [
    "for i in Red:\n",
    "    df[i]=-df[i]"
   ]
  },
  {
   "cell_type": "code",
   "execution_count": 7,
   "metadata": {},
   "outputs": [
    {
     "data": {
      "text/html": [
       "<div>\n",
       "<style scoped>\n",
       "    .dataframe tbody tr th:only-of-type {\n",
       "        vertical-align: middle;\n",
       "    }\n",
       "\n",
       "    .dataframe tbody tr th {\n",
       "        vertical-align: top;\n",
       "    }\n",
       "\n",
       "    .dataframe thead th {\n",
       "        text-align: right;\n",
       "    }\n",
       "</style>\n",
       "<table border=\"1\" class=\"dataframe\">\n",
       "  <thead>\n",
       "    <tr style=\"text-align: right;\">\n",
       "      <th></th>\n",
       "      <th>BTop</th>\n",
       "      <th>BJng</th>\n",
       "      <th>BMid</th>\n",
       "      <th>BAdc</th>\n",
       "      <th>BSup</th>\n",
       "      <th>RTop</th>\n",
       "      <th>RJng</th>\n",
       "      <th>RMid</th>\n",
       "      <th>RAdc</th>\n",
       "      <th>RSup</th>\n",
       "      <th>Winner</th>\n",
       "    </tr>\n",
       "  </thead>\n",
       "  <tbody>\n",
       "    <tr>\n",
       "      <th>0</th>\n",
       "      <td>0.524364</td>\n",
       "      <td>0.506967</td>\n",
       "      <td>0.497972</td>\n",
       "      <td>0.523989</td>\n",
       "      <td>0.438144</td>\n",
       "      <td>-0.533592</td>\n",
       "      <td>-0.494477</td>\n",
       "      <td>-0.491465</td>\n",
       "      <td>-0.503883</td>\n",
       "      <td>-0.492260</td>\n",
       "      <td>1</td>\n",
       "    </tr>\n",
       "    <tr>\n",
       "      <th>1</th>\n",
       "      <td>0.524364</td>\n",
       "      <td>0.504318</td>\n",
       "      <td>0.565594</td>\n",
       "      <td>0.523989</td>\n",
       "      <td>0.491429</td>\n",
       "      <td>-0.516260</td>\n",
       "      <td>-0.509972</td>\n",
       "      <td>-0.559211</td>\n",
       "      <td>-0.504505</td>\n",
       "      <td>-0.440678</td>\n",
       "      <td>0</td>\n",
       "    </tr>\n",
       "    <tr>\n",
       "      <th>2</th>\n",
       "      <td>0.513399</td>\n",
       "      <td>0.486450</td>\n",
       "      <td>0.553073</td>\n",
       "      <td>0.525246</td>\n",
       "      <td>0.524819</td>\n",
       "      <td>-0.489831</td>\n",
       "      <td>-0.539535</td>\n",
       "      <td>-0.465315</td>\n",
       "      <td>-0.470158</td>\n",
       "      <td>-0.527418</td>\n",
       "      <td>0</td>\n",
       "    </tr>\n",
       "    <tr>\n",
       "      <th>3</th>\n",
       "      <td>0.511305</td>\n",
       "      <td>0.505097</td>\n",
       "      <td>0.502868</td>\n",
       "      <td>0.524169</td>\n",
       "      <td>0.534702</td>\n",
       "      <td>-0.508671</td>\n",
       "      <td>-0.502106</td>\n",
       "      <td>-0.508434</td>\n",
       "      <td>-0.393443</td>\n",
       "      <td>-0.492582</td>\n",
       "      <td>1</td>\n",
       "    </tr>\n",
       "    <tr>\n",
       "      <th>4</th>\n",
       "      <td>0.524364</td>\n",
       "      <td>0.509764</td>\n",
       "      <td>0.421169</td>\n",
       "      <td>0.525246</td>\n",
       "      <td>0.516461</td>\n",
       "      <td>-0.499863</td>\n",
       "      <td>-0.502106</td>\n",
       "      <td>-0.445918</td>\n",
       "      <td>-0.465315</td>\n",
       "      <td>-0.473513</td>\n",
       "      <td>1</td>\n",
       "    </tr>\n",
       "  </tbody>\n",
       "</table>\n",
       "</div>"
      ],
      "text/plain": [
       "       BTop      BJng      BMid      BAdc      BSup      RTop      RJng  \\\n",
       "0  0.524364  0.506967  0.497972  0.523989  0.438144 -0.533592 -0.494477   \n",
       "1  0.524364  0.504318  0.565594  0.523989  0.491429 -0.516260 -0.509972   \n",
       "2  0.513399  0.486450  0.553073  0.525246  0.524819 -0.489831 -0.539535   \n",
       "3  0.511305  0.505097  0.502868  0.524169  0.534702 -0.508671 -0.502106   \n",
       "4  0.524364  0.509764  0.421169  0.525246  0.516461 -0.499863 -0.502106   \n",
       "\n",
       "       RMid      RAdc      RSup  Winner  \n",
       "0 -0.491465 -0.503883 -0.492260       1  \n",
       "1 -0.559211 -0.504505 -0.440678       0  \n",
       "2 -0.465315 -0.470158 -0.527418       0  \n",
       "3 -0.508434 -0.393443 -0.492582       1  \n",
       "4 -0.445918 -0.465315 -0.473513       1  "
      ]
     },
     "execution_count": 7,
     "metadata": {},
     "output_type": "execute_result"
    }
   ],
   "source": [
    "df.head()"
   ]
  },
  {
   "cell_type": "code",
   "execution_count": 8,
   "metadata": {},
   "outputs": [],
   "source": [
    "#For all entries with Blue = 1 and Red = -1\n",
    "\n",
    "for i in range(len(df)):\n",
    "    if df.loc[i,'Winner']==0:\n",
    "        df.loc[i,'Winner']=1\n",
    "    else:\n",
    "        df.loc[i,'Winner']=-1\n",
    "        \n",
    "df['Winner'] = df['Winner'].astype(int)"
   ]
  },
  {
   "cell_type": "code",
   "execution_count": 9,
   "metadata": {},
   "outputs": [
    {
     "data": {
      "text/html": [
       "<div>\n",
       "<style scoped>\n",
       "    .dataframe tbody tr th:only-of-type {\n",
       "        vertical-align: middle;\n",
       "    }\n",
       "\n",
       "    .dataframe tbody tr th {\n",
       "        vertical-align: top;\n",
       "    }\n",
       "\n",
       "    .dataframe thead th {\n",
       "        text-align: right;\n",
       "    }\n",
       "</style>\n",
       "<table border=\"1\" class=\"dataframe\">\n",
       "  <thead>\n",
       "    <tr style=\"text-align: right;\">\n",
       "      <th></th>\n",
       "      <th>BTop</th>\n",
       "      <th>BJng</th>\n",
       "      <th>BMid</th>\n",
       "      <th>BAdc</th>\n",
       "      <th>BSup</th>\n",
       "      <th>RTop</th>\n",
       "      <th>RJng</th>\n",
       "      <th>RMid</th>\n",
       "      <th>RAdc</th>\n",
       "      <th>RSup</th>\n",
       "      <th>Winner</th>\n",
       "    </tr>\n",
       "  </thead>\n",
       "  <tbody>\n",
       "    <tr>\n",
       "      <th>0</th>\n",
       "      <td>0.524364</td>\n",
       "      <td>0.506967</td>\n",
       "      <td>0.497972</td>\n",
       "      <td>0.523989</td>\n",
       "      <td>0.438144</td>\n",
       "      <td>-0.533592</td>\n",
       "      <td>-0.494477</td>\n",
       "      <td>-0.491465</td>\n",
       "      <td>-0.503883</td>\n",
       "      <td>-0.492260</td>\n",
       "      <td>-1</td>\n",
       "    </tr>\n",
       "    <tr>\n",
       "      <th>1</th>\n",
       "      <td>0.524364</td>\n",
       "      <td>0.504318</td>\n",
       "      <td>0.565594</td>\n",
       "      <td>0.523989</td>\n",
       "      <td>0.491429</td>\n",
       "      <td>-0.516260</td>\n",
       "      <td>-0.509972</td>\n",
       "      <td>-0.559211</td>\n",
       "      <td>-0.504505</td>\n",
       "      <td>-0.440678</td>\n",
       "      <td>1</td>\n",
       "    </tr>\n",
       "    <tr>\n",
       "      <th>2</th>\n",
       "      <td>0.513399</td>\n",
       "      <td>0.486450</td>\n",
       "      <td>0.553073</td>\n",
       "      <td>0.525246</td>\n",
       "      <td>0.524819</td>\n",
       "      <td>-0.489831</td>\n",
       "      <td>-0.539535</td>\n",
       "      <td>-0.465315</td>\n",
       "      <td>-0.470158</td>\n",
       "      <td>-0.527418</td>\n",
       "      <td>1</td>\n",
       "    </tr>\n",
       "    <tr>\n",
       "      <th>3</th>\n",
       "      <td>0.511305</td>\n",
       "      <td>0.505097</td>\n",
       "      <td>0.502868</td>\n",
       "      <td>0.524169</td>\n",
       "      <td>0.534702</td>\n",
       "      <td>-0.508671</td>\n",
       "      <td>-0.502106</td>\n",
       "      <td>-0.508434</td>\n",
       "      <td>-0.393443</td>\n",
       "      <td>-0.492582</td>\n",
       "      <td>-1</td>\n",
       "    </tr>\n",
       "    <tr>\n",
       "      <th>4</th>\n",
       "      <td>0.524364</td>\n",
       "      <td>0.509764</td>\n",
       "      <td>0.421169</td>\n",
       "      <td>0.525246</td>\n",
       "      <td>0.516461</td>\n",
       "      <td>-0.499863</td>\n",
       "      <td>-0.502106</td>\n",
       "      <td>-0.445918</td>\n",
       "      <td>-0.465315</td>\n",
       "      <td>-0.473513</td>\n",
       "      <td>-1</td>\n",
       "    </tr>\n",
       "  </tbody>\n",
       "</table>\n",
       "</div>"
      ],
      "text/plain": [
       "       BTop      BJng      BMid      BAdc      BSup      RTop      RJng  \\\n",
       "0  0.524364  0.506967  0.497972  0.523989  0.438144 -0.533592 -0.494477   \n",
       "1  0.524364  0.504318  0.565594  0.523989  0.491429 -0.516260 -0.509972   \n",
       "2  0.513399  0.486450  0.553073  0.525246  0.524819 -0.489831 -0.539535   \n",
       "3  0.511305  0.505097  0.502868  0.524169  0.534702 -0.508671 -0.502106   \n",
       "4  0.524364  0.509764  0.421169  0.525246  0.516461 -0.499863 -0.502106   \n",
       "\n",
       "       RMid      RAdc      RSup  Winner  \n",
       "0 -0.491465 -0.503883 -0.492260      -1  \n",
       "1 -0.559211 -0.504505 -0.440678       1  \n",
       "2 -0.465315 -0.470158 -0.527418       1  \n",
       "3 -0.508434 -0.393443 -0.492582      -1  \n",
       "4 -0.445918 -0.465315 -0.473513      -1  "
      ]
     },
     "execution_count": 9,
     "metadata": {},
     "output_type": "execute_result"
    }
   ],
   "source": [
    "df.head()"
   ]
  },
  {
   "cell_type": "code",
   "execution_count": null,
   "metadata": {},
   "outputs": [],
   "source": []
  },
  {
   "cell_type": "markdown",
   "metadata": {},
   "source": [
    "#### Lets try training the data without encoding every single champion using one hot enocder / dummies"
   ]
  },
  {
   "cell_type": "code",
   "execution_count": 10,
   "metadata": {},
   "outputs": [],
   "source": [
    "from sklearn.model_selection import train_test_split"
   ]
  },
  {
   "cell_type": "code",
   "execution_count": 11,
   "metadata": {},
   "outputs": [],
   "source": [
    "X = df.drop('Winner',axis=1)\n",
    "y = df['Winner']"
   ]
  },
  {
   "cell_type": "code",
   "execution_count": 12,
   "metadata": {},
   "outputs": [],
   "source": [
    "X_train,X_test,y_train,y_test = train_test_split(X,y,test_size=0.3,random_state=101)"
   ]
  },
  {
   "cell_type": "code",
   "execution_count": 13,
   "metadata": {},
   "outputs": [],
   "source": [
    "from sklearn.svm import SVC"
   ]
  },
  {
   "cell_type": "code",
   "execution_count": 14,
   "metadata": {},
   "outputs": [],
   "source": [
    "svm = SVC()"
   ]
  },
  {
   "cell_type": "code",
   "execution_count": 15,
   "metadata": {},
   "outputs": [
    {
     "name": "stderr",
     "output_type": "stream",
     "text": [
      "/Users/deepakbuddha/anaconda3/lib/python3.7/site-packages/sklearn/svm/base.py:193: FutureWarning: The default value of gamma will change from 'auto' to 'scale' in version 0.22 to account better for unscaled features. Set gamma explicitly to 'auto' or 'scale' to avoid this warning.\n",
      "  \"avoid this warning.\", FutureWarning)\n"
     ]
    },
    {
     "data": {
      "text/plain": [
       "SVC(C=1.0, cache_size=200, class_weight=None, coef0=0.0,\n",
       "    decision_function_shape='ovr', degree=3, gamma='auto_deprecated',\n",
       "    kernel='rbf', max_iter=-1, probability=False, random_state=None,\n",
       "    shrinking=True, tol=0.001, verbose=False)"
      ]
     },
     "execution_count": 15,
     "metadata": {},
     "output_type": "execute_result"
    }
   ],
   "source": [
    "svm.fit(X_train,y_train)"
   ]
  },
  {
   "cell_type": "code",
   "execution_count": 16,
   "metadata": {},
   "outputs": [],
   "source": [
    "predictions = svm.predict(X_test)"
   ]
  },
  {
   "cell_type": "code",
   "execution_count": 17,
   "metadata": {},
   "outputs": [],
   "source": [
    "from sklearn.metrics import classification_report,confusion_matrix"
   ]
  },
  {
   "cell_type": "code",
   "execution_count": 18,
   "metadata": {},
   "outputs": [
    {
     "name": "stdout",
     "output_type": "stream",
     "text": [
      "[[1010 1939]\n",
      " [ 711 2244]]\n",
      "\n",
      "\n",
      "              precision    recall  f1-score   support\n",
      "\n",
      "          -1       0.59      0.34      0.43      2949\n",
      "           1       0.54      0.76      0.63      2955\n",
      "\n",
      "    accuracy                           0.55      5904\n",
      "   macro avg       0.56      0.55      0.53      5904\n",
      "weighted avg       0.56      0.55      0.53      5904\n",
      "\n"
     ]
    }
   ],
   "source": [
    "print(confusion_matrix(y_test,predictions))\n",
    "print('\\n')\n",
    "print(classification_report(y_test,predictions))"
   ]
  },
  {
   "cell_type": "markdown",
   "metadata": {},
   "source": [
    "### Lets try using Gridsearch to get the optimum values for hyperparameters C and Gamma"
   ]
  },
  {
   "cell_type": "code",
   "execution_count": 19,
   "metadata": {},
   "outputs": [],
   "source": [
    "from sklearn.model_selection import GridSearchCV"
   ]
  },
  {
   "cell_type": "code",
   "execution_count": 20,
   "metadata": {},
   "outputs": [],
   "source": [
    "params = {'C':[0.1,1,10,100,1000],'gamma':[1,0.1,0.01,0.001,0.0001]}"
   ]
  },
  {
   "cell_type": "code",
   "execution_count": 21,
   "metadata": {},
   "outputs": [],
   "source": [
    "grid = GridSearchCV(SVC(),params,verbose=3)"
   ]
  },
  {
   "cell_type": "code",
   "execution_count": 22,
   "metadata": {},
   "outputs": [
    {
     "name": "stderr",
     "output_type": "stream",
     "text": [
      "/Users/deepakbuddha/anaconda3/lib/python3.7/site-packages/sklearn/model_selection/_split.py:1978: FutureWarning: The default value of cv will change from 3 to 5 in version 0.22. Specify it explicitly to silence this warning.\n",
      "  warnings.warn(CV_WARNING, FutureWarning)\n",
      "[Parallel(n_jobs=1)]: Using backend SequentialBackend with 1 concurrent workers.\n"
     ]
    },
    {
     "name": "stdout",
     "output_type": "stream",
     "text": [
      "Fitting 3 folds for each of 25 candidates, totalling 75 fits\n",
      "[CV] C=0.1, gamma=1 ..................................................\n",
      "[CV] ...................... C=0.1, gamma=1, score=0.536, total=   3.6s\n",
      "[CV] C=0.1, gamma=1 ..................................................\n"
     ]
    },
    {
     "name": "stderr",
     "output_type": "stream",
     "text": [
      "[Parallel(n_jobs=1)]: Done   1 out of   1 | elapsed:    3.6s remaining:    0.0s\n"
     ]
    },
    {
     "name": "stdout",
     "output_type": "stream",
     "text": [
      "[CV] ...................... C=0.1, gamma=1, score=0.536, total=   3.6s\n",
      "[CV] C=0.1, gamma=1 ..................................................\n"
     ]
    },
    {
     "name": "stderr",
     "output_type": "stream",
     "text": [
      "[Parallel(n_jobs=1)]: Done   2 out of   2 | elapsed:    7.2s remaining:    0.0s\n"
     ]
    },
    {
     "name": "stdout",
     "output_type": "stream",
     "text": [
      "[CV] ...................... C=0.1, gamma=1, score=0.532, total=   3.5s\n",
      "[CV] C=0.1, gamma=0.1 ................................................\n",
      "[CV] .................... C=0.1, gamma=0.1, score=0.506, total=   3.6s\n",
      "[CV] C=0.1, gamma=0.1 ................................................\n",
      "[CV] .................... C=0.1, gamma=0.1, score=0.506, total=   3.7s\n",
      "[CV] C=0.1, gamma=0.1 ................................................\n",
      "[CV] .................... C=0.1, gamma=0.1, score=0.506, total=   3.6s\n",
      "[CV] C=0.1, gamma=0.01 ...............................................\n",
      "[CV] ................... C=0.1, gamma=0.01, score=0.506, total=   3.6s\n",
      "[CV] C=0.1, gamma=0.01 ...............................................\n",
      "[CV] ................... C=0.1, gamma=0.01, score=0.506, total=   3.6s\n",
      "[CV] C=0.1, gamma=0.01 ...............................................\n",
      "[CV] ................... C=0.1, gamma=0.01, score=0.506, total=   3.5s\n",
      "[CV] C=0.1, gamma=0.001 ..............................................\n",
      "[CV] .................. C=0.1, gamma=0.001, score=0.506, total=   3.4s\n",
      "[CV] C=0.1, gamma=0.001 ..............................................\n",
      "[CV] .................. C=0.1, gamma=0.001, score=0.506, total=   3.6s\n",
      "[CV] C=0.1, gamma=0.001 ..............................................\n",
      "[CV] .................. C=0.1, gamma=0.001, score=0.506, total=   3.5s\n",
      "[CV] C=0.1, gamma=0.0001 .............................................\n",
      "[CV] ................. C=0.1, gamma=0.0001, score=0.506, total=   3.6s\n",
      "[CV] C=0.1, gamma=0.0001 .............................................\n",
      "[CV] ................. C=0.1, gamma=0.0001, score=0.506, total=   3.7s\n",
      "[CV] C=0.1, gamma=0.0001 .............................................\n",
      "[CV] ................. C=0.1, gamma=0.0001, score=0.506, total=   3.8s\n",
      "[CV] C=1, gamma=1 ....................................................\n",
      "[CV] ........................ C=1, gamma=1, score=0.568, total=   3.5s\n",
      "[CV] C=1, gamma=1 ....................................................\n",
      "[CV] ........................ C=1, gamma=1, score=0.574, total=   3.8s\n",
      "[CV] C=1, gamma=1 ....................................................\n",
      "[CV] ........................ C=1, gamma=1, score=0.570, total=   3.5s\n",
      "[CV] C=1, gamma=0.1 ..................................................\n",
      "[CV] ...................... C=1, gamma=0.1, score=0.537, total=   3.7s\n",
      "[CV] C=1, gamma=0.1 ..................................................\n",
      "[CV] ...................... C=1, gamma=0.1, score=0.539, total=   3.6s\n",
      "[CV] C=1, gamma=0.1 ..................................................\n",
      "[CV] ...................... C=1, gamma=0.1, score=0.535, total=   3.6s\n",
      "[CV] C=1, gamma=0.01 .................................................\n",
      "[CV] ..................... C=1, gamma=0.01, score=0.506, total=   3.6s\n",
      "[CV] C=1, gamma=0.01 .................................................\n",
      "[CV] ..................... C=1, gamma=0.01, score=0.506, total=   3.6s\n",
      "[CV] C=1, gamma=0.01 .................................................\n",
      "[CV] ..................... C=1, gamma=0.01, score=0.506, total=   3.6s\n",
      "[CV] C=1, gamma=0.001 ................................................\n",
      "[CV] .................... C=1, gamma=0.001, score=0.506, total=   3.7s\n",
      "[CV] C=1, gamma=0.001 ................................................\n",
      "[CV] .................... C=1, gamma=0.001, score=0.506, total=   4.4s\n",
      "[CV] C=1, gamma=0.001 ................................................\n",
      "[CV] .................... C=1, gamma=0.001, score=0.506, total=   4.3s\n",
      "[CV] C=1, gamma=0.0001 ...............................................\n",
      "[CV] ................... C=1, gamma=0.0001, score=0.506, total=   3.8s\n",
      "[CV] C=1, gamma=0.0001 ...............................................\n",
      "[CV] ................... C=1, gamma=0.0001, score=0.506, total=   3.7s\n",
      "[CV] C=1, gamma=0.0001 ...............................................\n",
      "[CV] ................... C=1, gamma=0.0001, score=0.506, total=   3.9s\n",
      "[CV] C=10, gamma=1 ...................................................\n",
      "[CV] ....................... C=10, gamma=1, score=0.567, total=   3.6s\n",
      "[CV] C=10, gamma=1 ...................................................\n",
      "[CV] ....................... C=10, gamma=1, score=0.572, total=   3.4s\n",
      "[CV] C=10, gamma=1 ...................................................\n",
      "[CV] ....................... C=10, gamma=1, score=0.573, total=   3.3s\n",
      "[CV] C=10, gamma=0.1 .................................................\n",
      "[CV] ..................... C=10, gamma=0.1, score=0.569, total=   3.6s\n",
      "[CV] C=10, gamma=0.1 .................................................\n",
      "[CV] ..................... C=10, gamma=0.1, score=0.574, total=   3.5s\n",
      "[CV] C=10, gamma=0.1 .................................................\n",
      "[CV] ..................... C=10, gamma=0.1, score=0.569, total=   3.5s\n",
      "[CV] C=10, gamma=0.01 ................................................\n",
      "[CV] .................... C=10, gamma=0.01, score=0.537, total=   3.6s\n",
      "[CV] C=10, gamma=0.01 ................................................\n",
      "[CV] .................... C=10, gamma=0.01, score=0.539, total=   3.6s\n",
      "[CV] C=10, gamma=0.01 ................................................\n",
      "[CV] .................... C=10, gamma=0.01, score=0.535, total=   3.6s\n",
      "[CV] C=10, gamma=0.001 ...............................................\n",
      "[CV] ................... C=10, gamma=0.001, score=0.506, total=   3.6s\n",
      "[CV] C=10, gamma=0.001 ...............................................\n",
      "[CV] ................... C=10, gamma=0.001, score=0.506, total=   3.6s\n",
      "[CV] C=10, gamma=0.001 ...............................................\n",
      "[CV] ................... C=10, gamma=0.001, score=0.506, total=   3.6s\n",
      "[CV] C=10, gamma=0.0001 ..............................................\n",
      "[CV] .................. C=10, gamma=0.0001, score=0.506, total=   3.7s\n",
      "[CV] C=10, gamma=0.0001 ..............................................\n",
      "[CV] .................. C=10, gamma=0.0001, score=0.506, total=   3.7s\n",
      "[CV] C=10, gamma=0.0001 ..............................................\n",
      "[CV] .................. C=10, gamma=0.0001, score=0.506, total=   3.7s\n",
      "[CV] C=100, gamma=1 ..................................................\n",
      "[CV] ...................... C=100, gamma=1, score=0.568, total=   3.8s\n",
      "[CV] C=100, gamma=1 ..................................................\n",
      "[CV] ...................... C=100, gamma=1, score=0.575, total=   3.8s\n",
      "[CV] C=100, gamma=1 ..................................................\n",
      "[CV] ...................... C=100, gamma=1, score=0.571, total=   3.7s\n",
      "[CV] C=100, gamma=0.1 ................................................\n",
      "[CV] .................... C=100, gamma=0.1, score=0.567, total=   3.5s\n",
      "[CV] C=100, gamma=0.1 ................................................\n",
      "[CV] .................... C=100, gamma=0.1, score=0.571, total=   3.5s\n",
      "[CV] C=100, gamma=0.1 ................................................\n",
      "[CV] .................... C=100, gamma=0.1, score=0.574, total=   3.4s\n",
      "[CV] C=100, gamma=0.01 ...............................................\n",
      "[CV] ................... C=100, gamma=0.01, score=0.569, total=   3.6s\n",
      "[CV] C=100, gamma=0.01 ...............................................\n",
      "[CV] ................... C=100, gamma=0.01, score=0.574, total=   3.5s\n",
      "[CV] C=100, gamma=0.01 ...............................................\n",
      "[CV] ................... C=100, gamma=0.01, score=0.569, total=   3.4s\n",
      "[CV] C=100, gamma=0.001 ..............................................\n",
      "[CV] .................. C=100, gamma=0.001, score=0.537, total=   3.5s\n",
      "[CV] C=100, gamma=0.001 ..............................................\n",
      "[CV] .................. C=100, gamma=0.001, score=0.539, total=   3.7s\n",
      "[CV] C=100, gamma=0.001 ..............................................\n",
      "[CV] .................. C=100, gamma=0.001, score=0.535, total=   3.7s\n",
      "[CV] C=100, gamma=0.0001 .............................................\n",
      "[CV] ................. C=100, gamma=0.0001, score=0.506, total=   3.8s\n",
      "[CV] C=100, gamma=0.0001 .............................................\n",
      "[CV] ................. C=100, gamma=0.0001, score=0.506, total=   3.9s\n",
      "[CV] C=100, gamma=0.0001 .............................................\n",
      "[CV] ................. C=100, gamma=0.0001, score=0.506, total=   4.0s\n",
      "[CV] C=1000, gamma=1 .................................................\n"
     ]
    },
    {
     "name": "stdout",
     "output_type": "stream",
     "text": [
      "[CV] ..................... C=1000, gamma=1, score=0.572, total=   6.1s\n",
      "[CV] C=1000, gamma=1 .................................................\n",
      "[CV] ..................... C=1000, gamma=1, score=0.569, total=   6.1s\n",
      "[CV] C=1000, gamma=1 .................................................\n",
      "[CV] ..................... C=1000, gamma=1, score=0.566, total=   6.4s\n",
      "[CV] C=1000, gamma=0.1 ...............................................\n",
      "[CV] ................... C=1000, gamma=0.1, score=0.567, total=   3.7s\n",
      "[CV] C=1000, gamma=0.1 ...............................................\n",
      "[CV] ................... C=1000, gamma=0.1, score=0.572, total=   3.9s\n",
      "[CV] C=1000, gamma=0.1 ...............................................\n",
      "[CV] ................... C=1000, gamma=0.1, score=0.573, total=   3.7s\n",
      "[CV] C=1000, gamma=0.01 ..............................................\n",
      "[CV] .................. C=1000, gamma=0.01, score=0.568, total=   3.7s\n",
      "[CV] C=1000, gamma=0.01 ..............................................\n",
      "[CV] .................. C=1000, gamma=0.01, score=0.571, total=   4.1s\n",
      "[CV] C=1000, gamma=0.01 ..............................................\n",
      "[CV] .................. C=1000, gamma=0.01, score=0.573, total=   3.6s\n",
      "[CV] C=1000, gamma=0.001 .............................................\n",
      "[CV] ................. C=1000, gamma=0.001, score=0.568, total=   3.6s\n",
      "[CV] C=1000, gamma=0.001 .............................................\n",
      "[CV] ................. C=1000, gamma=0.001, score=0.573, total=   3.7s\n",
      "[CV] C=1000, gamma=0.001 .............................................\n",
      "[CV] ................. C=1000, gamma=0.001, score=0.569, total=   4.2s\n",
      "[CV] C=1000, gamma=0.0001 ............................................\n",
      "[CV] ................ C=1000, gamma=0.0001, score=0.537, total=   3.9s\n",
      "[CV] C=1000, gamma=0.0001 ............................................\n",
      "[CV] ................ C=1000, gamma=0.0001, score=0.539, total=   3.9s\n",
      "[CV] C=1000, gamma=0.0001 ............................................\n",
      "[CV] ................ C=1000, gamma=0.0001, score=0.535, total=   3.8s\n"
     ]
    },
    {
     "name": "stderr",
     "output_type": "stream",
     "text": [
      "[Parallel(n_jobs=1)]: Done  75 out of  75 | elapsed:  4.7min finished\n"
     ]
    },
    {
     "data": {
      "text/plain": [
       "GridSearchCV(cv='warn', error_score='raise-deprecating',\n",
       "             estimator=SVC(C=1.0, cache_size=200, class_weight=None, coef0=0.0,\n",
       "                           decision_function_shape='ovr', degree=3,\n",
       "                           gamma='auto_deprecated', kernel='rbf', max_iter=-1,\n",
       "                           probability=False, random_state=None, shrinking=True,\n",
       "                           tol=0.001, verbose=False),\n",
       "             iid='warn', n_jobs=None,\n",
       "             param_grid={'C': [0.1, 1, 10, 100, 1000],\n",
       "                         'gamma': [1, 0.1, 0.01, 0.001, 0.0001]},\n",
       "             pre_dispatch='2*n_jobs', refit=True, return_train_score=False,\n",
       "             scoring=None, verbose=3)"
      ]
     },
     "execution_count": 22,
     "metadata": {},
     "output_type": "execute_result"
    }
   ],
   "source": [
    "grid.fit(X_train,y_train)"
   ]
  },
  {
   "cell_type": "code",
   "execution_count": 23,
   "metadata": {},
   "outputs": [],
   "source": [
    "grid_predictions = grid.predict(X_test)"
   ]
  },
  {
   "cell_type": "code",
   "execution_count": 24,
   "metadata": {},
   "outputs": [
    {
     "name": "stdout",
     "output_type": "stream",
     "text": [
      "[[1504 1445]\n",
      " [1157 1798]]\n",
      "\n",
      "\n",
      "              precision    recall  f1-score   support\n",
      "\n",
      "          -1       0.57      0.51      0.54      2949\n",
      "           1       0.55      0.61      0.58      2955\n",
      "\n",
      "    accuracy                           0.56      5904\n",
      "   macro avg       0.56      0.56      0.56      5904\n",
      "weighted avg       0.56      0.56      0.56      5904\n",
      "\n"
     ]
    }
   ],
   "source": [
    "print(confusion_matrix(y_test,grid_predictions))\n",
    "print('\\n')\n",
    "print(classification_report(y_test,grid_predictions))"
   ]
  },
  {
   "cell_type": "code",
   "execution_count": null,
   "metadata": {},
   "outputs": [],
   "source": []
  }
 ],
 "metadata": {
  "jupytext": {
   "encoding": "# -*- coding: utf-8 -*-",
   "formats": "ipynb,py:light"
  },
  "kernelspec": {
   "display_name": "Python 3",
   "language": "python",
   "name": "python3"
  },
  "language_info": {
   "codemirror_mode": {
    "name": "ipython",
    "version": 3
   },
   "file_extension": ".py",
   "mimetype": "text/x-python",
   "name": "python",
   "nbconvert_exporter": "python",
   "pygments_lexer": "ipython3",
   "version": "3.8.5"
  }
 },
 "nbformat": 4,
 "nbformat_minor": 2
}
