{
 "cells": [
  {
   "cell_type": "markdown",
   "metadata": {},
   "source": [
    "# To determine the classification of Game results using Decision trees & Random Forests"
   ]
  },
  {
   "cell_type": "code",
   "execution_count": 1,
   "metadata": {},
   "outputs": [],
   "source": [
    "import numpy as np\n",
    "import pandas as pd\n",
    "import matplotlib.pyplot as plt\n",
    "import seaborn as sns\n",
    "%matplotlib inline"
   ]
  },
  {
   "cell_type": "code",
   "execution_count": 2,
   "metadata": {},
   "outputs": [],
   "source": [
    "df = pd.read_csv('../../data/processed/LOLOracleDataWr.csv')"
   ]
  },
  {
   "cell_type": "code",
   "execution_count": 3,
   "metadata": {},
   "outputs": [
    {
     "data": {
      "text/html": [
       "<div>\n",
       "<style scoped>\n",
       "    .dataframe tbody tr th:only-of-type {\n",
       "        vertical-align: middle;\n",
       "    }\n",
       "\n",
       "    .dataframe tbody tr th {\n",
       "        vertical-align: top;\n",
       "    }\n",
       "\n",
       "    .dataframe thead th {\n",
       "        text-align: right;\n",
       "    }\n",
       "</style>\n",
       "<table border=\"1\" class=\"dataframe\">\n",
       "  <thead>\n",
       "    <tr style=\"text-align: right;\">\n",
       "      <th></th>\n",
       "      <th>BTop</th>\n",
       "      <th>BJng</th>\n",
       "      <th>BMid</th>\n",
       "      <th>BAdc</th>\n",
       "      <th>BSup</th>\n",
       "      <th>RTop</th>\n",
       "      <th>RJng</th>\n",
       "      <th>RMid</th>\n",
       "      <th>RAdc</th>\n",
       "      <th>RSup</th>\n",
       "      <th>Winner</th>\n",
       "    </tr>\n",
       "  </thead>\n",
       "  <tbody>\n",
       "    <tr>\n",
       "      <th>0</th>\n",
       "      <td>0.524364</td>\n",
       "      <td>0.506967</td>\n",
       "      <td>0.497972</td>\n",
       "      <td>0.523989</td>\n",
       "      <td>0.438144</td>\n",
       "      <td>0.533592</td>\n",
       "      <td>0.494477</td>\n",
       "      <td>0.491465</td>\n",
       "      <td>0.503883</td>\n",
       "      <td>0.492260</td>\n",
       "      <td>1</td>\n",
       "    </tr>\n",
       "    <tr>\n",
       "      <th>1</th>\n",
       "      <td>0.524364</td>\n",
       "      <td>0.504318</td>\n",
       "      <td>0.565594</td>\n",
       "      <td>0.523989</td>\n",
       "      <td>0.491429</td>\n",
       "      <td>0.516260</td>\n",
       "      <td>0.509972</td>\n",
       "      <td>0.559211</td>\n",
       "      <td>0.504505</td>\n",
       "      <td>0.440678</td>\n",
       "      <td>0</td>\n",
       "    </tr>\n",
       "    <tr>\n",
       "      <th>2</th>\n",
       "      <td>0.513399</td>\n",
       "      <td>0.486450</td>\n",
       "      <td>0.553073</td>\n",
       "      <td>0.525246</td>\n",
       "      <td>0.524819</td>\n",
       "      <td>0.489831</td>\n",
       "      <td>0.539535</td>\n",
       "      <td>0.465315</td>\n",
       "      <td>0.470158</td>\n",
       "      <td>0.527418</td>\n",
       "      <td>0</td>\n",
       "    </tr>\n",
       "    <tr>\n",
       "      <th>3</th>\n",
       "      <td>0.511305</td>\n",
       "      <td>0.505097</td>\n",
       "      <td>0.502868</td>\n",
       "      <td>0.524169</td>\n",
       "      <td>0.534702</td>\n",
       "      <td>0.508671</td>\n",
       "      <td>0.502106</td>\n",
       "      <td>0.508434</td>\n",
       "      <td>0.393443</td>\n",
       "      <td>0.492582</td>\n",
       "      <td>1</td>\n",
       "    </tr>\n",
       "    <tr>\n",
       "      <th>4</th>\n",
       "      <td>0.524364</td>\n",
       "      <td>0.509764</td>\n",
       "      <td>0.421169</td>\n",
       "      <td>0.525246</td>\n",
       "      <td>0.516461</td>\n",
       "      <td>0.499863</td>\n",
       "      <td>0.502106</td>\n",
       "      <td>0.445918</td>\n",
       "      <td>0.465315</td>\n",
       "      <td>0.473513</td>\n",
       "      <td>1</td>\n",
       "    </tr>\n",
       "  </tbody>\n",
       "</table>\n",
       "</div>"
      ],
      "text/plain": [
       "       BTop      BJng      BMid      BAdc      BSup      RTop      RJng  \\\n",
       "0  0.524364  0.506967  0.497972  0.523989  0.438144  0.533592  0.494477   \n",
       "1  0.524364  0.504318  0.565594  0.523989  0.491429  0.516260  0.509972   \n",
       "2  0.513399  0.486450  0.553073  0.525246  0.524819  0.489831  0.539535   \n",
       "3  0.511305  0.505097  0.502868  0.524169  0.534702  0.508671  0.502106   \n",
       "4  0.524364  0.509764  0.421169  0.525246  0.516461  0.499863  0.502106   \n",
       "\n",
       "       RMid      RAdc      RSup  Winner  \n",
       "0  0.491465  0.503883  0.492260       1  \n",
       "1  0.559211  0.504505  0.440678       0  \n",
       "2  0.465315  0.470158  0.527418       0  \n",
       "3  0.508434  0.393443  0.492582       1  \n",
       "4  0.445918  0.465315  0.473513       1  "
      ]
     },
     "execution_count": 3,
     "metadata": {},
     "output_type": "execute_result"
    }
   ],
   "source": [
    "df.head()"
   ]
  },
  {
   "cell_type": "markdown",
   "metadata": {},
   "source": [
    "### Lets perform Decision Trees and Random Forests"
   ]
  },
  {
   "cell_type": "code",
   "execution_count": 4,
   "metadata": {},
   "outputs": [],
   "source": [
    "X = df.drop('Winner',axis=1)\n",
    "y = df['Winner']"
   ]
  },
  {
   "cell_type": "code",
   "execution_count": 5,
   "metadata": {},
   "outputs": [],
   "source": [
    "from sklearn.model_selection import train_test_split"
   ]
  },
  {
   "cell_type": "code",
   "execution_count": 6,
   "metadata": {},
   "outputs": [],
   "source": [
    "X_train,X_test,y_train,y_test = train_test_split(X,y,test_size=0.3,random_state=101)"
   ]
  },
  {
   "cell_type": "code",
   "execution_count": 7,
   "metadata": {},
   "outputs": [],
   "source": [
    "from sklearn.tree import DecisionTreeClassifier"
   ]
  },
  {
   "cell_type": "code",
   "execution_count": 8,
   "metadata": {},
   "outputs": [],
   "source": [
    "dtc = DecisionTreeClassifier()\n"
   ]
  },
  {
   "cell_type": "code",
   "execution_count": 9,
   "metadata": {},
   "outputs": [
    {
     "data": {
      "text/plain": [
       "DecisionTreeClassifier(class_weight=None, criterion='gini', max_depth=None,\n",
       "                       max_features=None, max_leaf_nodes=None,\n",
       "                       min_impurity_decrease=0.0, min_impurity_split=None,\n",
       "                       min_samples_leaf=1, min_samples_split=2,\n",
       "                       min_weight_fraction_leaf=0.0, presort=False,\n",
       "                       random_state=None, splitter='best')"
      ]
     },
     "execution_count": 9,
     "metadata": {},
     "output_type": "execute_result"
    }
   ],
   "source": [
    "dtc.fit(X_train,y_train)"
   ]
  },
  {
   "cell_type": "code",
   "execution_count": 10,
   "metadata": {},
   "outputs": [],
   "source": [
    "predict_dtc = dtc.predict(X_test)"
   ]
  },
  {
   "cell_type": "code",
   "execution_count": 11,
   "metadata": {},
   "outputs": [],
   "source": [
    "from sklearn.metrics import classification_report,confusion_matrix"
   ]
  },
  {
   "cell_type": "code",
   "execution_count": 12,
   "metadata": {},
   "outputs": [
    {
     "name": "stdout",
     "output_type": "stream",
     "text": [
      "[[1558 1397]\n",
      " [1442 1507]]\n",
      "\n",
      "\n",
      "              precision    recall  f1-score   support\n",
      "\n",
      "           0       0.52      0.53      0.52      2955\n",
      "           1       0.52      0.51      0.51      2949\n",
      "\n",
      "    accuracy                           0.52      5904\n",
      "   macro avg       0.52      0.52      0.52      5904\n",
      "weighted avg       0.52      0.52      0.52      5904\n",
      "\n"
     ]
    }
   ],
   "source": [
    "print (confusion_matrix(y_test,predict_dtc))\n",
    "print('\\n')\n",
    "print(classification_report(y_test,predict_dtc))"
   ]
  },
  {
   "cell_type": "markdown",
   "metadata": {},
   "source": [
    "### The results above show that for Decision Trees the precision isnt better than random chance. :("
   ]
  },
  {
   "cell_type": "code",
   "execution_count": 13,
   "metadata": {},
   "outputs": [],
   "source": [
    "from sklearn.ensemble import RandomForestClassifier"
   ]
  },
  {
   "cell_type": "code",
   "execution_count": 14,
   "metadata": {},
   "outputs": [],
   "source": [
    "rfc = RandomForestClassifier(n_estimators=300)\n"
   ]
  },
  {
   "cell_type": "code",
   "execution_count": 15,
   "metadata": {},
   "outputs": [
    {
     "data": {
      "text/plain": [
       "RandomForestClassifier(bootstrap=True, class_weight=None, criterion='gini',\n",
       "                       max_depth=None, max_features='auto', max_leaf_nodes=None,\n",
       "                       min_impurity_decrease=0.0, min_impurity_split=None,\n",
       "                       min_samples_leaf=1, min_samples_split=2,\n",
       "                       min_weight_fraction_leaf=0.0, n_estimators=300,\n",
       "                       n_jobs=None, oob_score=False, random_state=None,\n",
       "                       verbose=0, warm_start=False)"
      ]
     },
     "execution_count": 15,
     "metadata": {},
     "output_type": "execute_result"
    }
   ],
   "source": [
    "rfc.fit(X_train,y_train)"
   ]
  },
  {
   "cell_type": "code",
   "execution_count": 16,
   "metadata": {},
   "outputs": [],
   "source": [
    "predict_rfc = rfc.predict(X_test)"
   ]
  },
  {
   "cell_type": "code",
   "execution_count": 17,
   "metadata": {
    "scrolled": false
   },
   "outputs": [
    {
     "name": "stdout",
     "output_type": "stream",
     "text": [
      "[[1675 1280]\n",
      " [1435 1514]]\n",
      "\n",
      "\n",
      "              precision    recall  f1-score   support\n",
      "\n",
      "           0       0.54      0.57      0.55      2955\n",
      "           1       0.54      0.51      0.53      2949\n",
      "\n",
      "    accuracy                           0.54      5904\n",
      "   macro avg       0.54      0.54      0.54      5904\n",
      "weighted avg       0.54      0.54      0.54      5904\n",
      "\n"
     ]
    }
   ],
   "source": [
    "print (confusion_matrix(y_test,predict_rfc))\n",
    "print('\\n')\n",
    "print(classification_report(y_test,predict_rfc))"
   ]
  },
  {
   "cell_type": "markdown",
   "metadata": {},
   "source": [
    "### Unfortunately even Random Forests dont seem promising"
   ]
  },
  {
   "cell_type": "code",
   "execution_count": null,
   "metadata": {},
   "outputs": [],
   "source": []
  }
 ],
 "metadata": {
  "jupytext": {
   "encoding": "# -*- coding: utf-8 -*-",
   "formats": "ipynb,py:light"
  },
  "kernelspec": {
   "display_name": "Python 3",
   "language": "python",
   "name": "python3"
  },
  "language_info": {
   "codemirror_mode": {
    "name": "ipython",
    "version": 3
   },
   "file_extension": ".py",
   "mimetype": "text/x-python",
   "name": "python",
   "nbconvert_exporter": "python",
   "pygments_lexer": "ipython3",
   "version": "3.8.5"
  }
 },
 "nbformat": 4,
 "nbformat_minor": 2
}
