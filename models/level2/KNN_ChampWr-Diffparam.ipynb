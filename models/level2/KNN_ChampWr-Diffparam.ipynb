{
 "cells": [
  {
   "cell_type": "code",
   "execution_count": 1,
   "metadata": {},
   "outputs": [],
   "source": [
    "import numpy as np\n",
    "import pandas as pd\n",
    "import matplotlib.pyplot as plt\n",
    "import seaborn as sns\n",
    "%matplotlib inline"
   ]
  },
  {
   "cell_type": "code",
   "execution_count": 2,
   "metadata": {},
   "outputs": [],
   "source": [
    "df = pd.read_csv('../Data/LOLOracleDataWr.csv')"
   ]
  },
  {
   "cell_type": "code",
   "execution_count": 3,
   "metadata": {},
   "outputs": [
    {
     "data": {
      "text/html": [
       "<div>\n",
       "<style scoped>\n",
       "    .dataframe tbody tr th:only-of-type {\n",
       "        vertical-align: middle;\n",
       "    }\n",
       "\n",
       "    .dataframe tbody tr th {\n",
       "        vertical-align: top;\n",
       "    }\n",
       "\n",
       "    .dataframe thead th {\n",
       "        text-align: right;\n",
       "    }\n",
       "</style>\n",
       "<table border=\"1\" class=\"dataframe\">\n",
       "  <thead>\n",
       "    <tr style=\"text-align: right;\">\n",
       "      <th></th>\n",
       "      <th>BTop</th>\n",
       "      <th>BJng</th>\n",
       "      <th>BMid</th>\n",
       "      <th>BAdc</th>\n",
       "      <th>BSup</th>\n",
       "      <th>RTop</th>\n",
       "      <th>RJng</th>\n",
       "      <th>RMid</th>\n",
       "      <th>RAdc</th>\n",
       "      <th>RSup</th>\n",
       "      <th>Winner</th>\n",
       "    </tr>\n",
       "  </thead>\n",
       "  <tbody>\n",
       "    <tr>\n",
       "      <th>0</th>\n",
       "      <td>0.524364</td>\n",
       "      <td>0.506967</td>\n",
       "      <td>0.497972</td>\n",
       "      <td>0.523989</td>\n",
       "      <td>0.438144</td>\n",
       "      <td>0.533592</td>\n",
       "      <td>0.494477</td>\n",
       "      <td>0.491465</td>\n",
       "      <td>0.503883</td>\n",
       "      <td>0.492260</td>\n",
       "      <td>1</td>\n",
       "    </tr>\n",
       "    <tr>\n",
       "      <th>1</th>\n",
       "      <td>0.524364</td>\n",
       "      <td>0.504318</td>\n",
       "      <td>0.565594</td>\n",
       "      <td>0.523989</td>\n",
       "      <td>0.491429</td>\n",
       "      <td>0.516260</td>\n",
       "      <td>0.509972</td>\n",
       "      <td>0.559211</td>\n",
       "      <td>0.504505</td>\n",
       "      <td>0.440678</td>\n",
       "      <td>0</td>\n",
       "    </tr>\n",
       "    <tr>\n",
       "      <th>2</th>\n",
       "      <td>0.513399</td>\n",
       "      <td>0.486450</td>\n",
       "      <td>0.553073</td>\n",
       "      <td>0.525246</td>\n",
       "      <td>0.524819</td>\n",
       "      <td>0.489831</td>\n",
       "      <td>0.539535</td>\n",
       "      <td>0.465315</td>\n",
       "      <td>0.470158</td>\n",
       "      <td>0.527418</td>\n",
       "      <td>0</td>\n",
       "    </tr>\n",
       "    <tr>\n",
       "      <th>3</th>\n",
       "      <td>0.511305</td>\n",
       "      <td>0.505097</td>\n",
       "      <td>0.502868</td>\n",
       "      <td>0.524169</td>\n",
       "      <td>0.534702</td>\n",
       "      <td>0.508671</td>\n",
       "      <td>0.502106</td>\n",
       "      <td>0.508434</td>\n",
       "      <td>0.393443</td>\n",
       "      <td>0.492582</td>\n",
       "      <td>1</td>\n",
       "    </tr>\n",
       "    <tr>\n",
       "      <th>4</th>\n",
       "      <td>0.524364</td>\n",
       "      <td>0.509764</td>\n",
       "      <td>0.421169</td>\n",
       "      <td>0.525246</td>\n",
       "      <td>0.516461</td>\n",
       "      <td>0.499863</td>\n",
       "      <td>0.502106</td>\n",
       "      <td>0.445918</td>\n",
       "      <td>0.465315</td>\n",
       "      <td>0.473513</td>\n",
       "      <td>1</td>\n",
       "    </tr>\n",
       "  </tbody>\n",
       "</table>\n",
       "</div>"
      ],
      "text/plain": [
       "       BTop      BJng      BMid      BAdc      BSup      RTop      RJng  \\\n",
       "0  0.524364  0.506967  0.497972  0.523989  0.438144  0.533592  0.494477   \n",
       "1  0.524364  0.504318  0.565594  0.523989  0.491429  0.516260  0.509972   \n",
       "2  0.513399  0.486450  0.553073  0.525246  0.524819  0.489831  0.539535   \n",
       "3  0.511305  0.505097  0.502868  0.524169  0.534702  0.508671  0.502106   \n",
       "4  0.524364  0.509764  0.421169  0.525246  0.516461  0.499863  0.502106   \n",
       "\n",
       "       RMid      RAdc      RSup  Winner  \n",
       "0  0.491465  0.503883  0.492260       1  \n",
       "1  0.559211  0.504505  0.440678       0  \n",
       "2  0.465315  0.470158  0.527418       0  \n",
       "3  0.508434  0.393443  0.492582       1  \n",
       "4  0.445918  0.465315  0.473513       1  "
      ]
     },
     "execution_count": 3,
     "metadata": {},
     "output_type": "execute_result"
    }
   ],
   "source": [
    "df.head()"
   ]
  },
  {
   "cell_type": "code",
   "execution_count": 4,
   "metadata": {},
   "outputs": [
    {
     "data": {
      "text/plain": [
       "Index(['BTop', 'BJng', 'BMid', 'BAdc', 'BSup', 'RTop', 'RJng', 'RMid', 'RAdc',\n",
       "       'RSup', 'Winner'],\n",
       "      dtype='object')"
      ]
     },
     "execution_count": 4,
     "metadata": {},
     "output_type": "execute_result"
    }
   ],
   "source": [
    "df.columns"
   ]
  },
  {
   "cell_type": "code",
   "execution_count": 5,
   "metadata": {},
   "outputs": [],
   "source": [
    "Red = ['RTop', 'RJng', 'RMid', 'RAdc','RSup']\n",
    "Blue = ['BTop', 'BJng', 'BMid', 'BAdc', 'BSup']"
   ]
  },
  {
   "cell_type": "code",
   "execution_count": 6,
   "metadata": {},
   "outputs": [],
   "source": [
    "for i in Red:\n",
    "    df[i]=-df[i]"
   ]
  },
  {
   "cell_type": "code",
   "execution_count": 7,
   "metadata": {},
   "outputs": [
    {
     "data": {
      "text/html": [
       "<div>\n",
       "<style scoped>\n",
       "    .dataframe tbody tr th:only-of-type {\n",
       "        vertical-align: middle;\n",
       "    }\n",
       "\n",
       "    .dataframe tbody tr th {\n",
       "        vertical-align: top;\n",
       "    }\n",
       "\n",
       "    .dataframe thead th {\n",
       "        text-align: right;\n",
       "    }\n",
       "</style>\n",
       "<table border=\"1\" class=\"dataframe\">\n",
       "  <thead>\n",
       "    <tr style=\"text-align: right;\">\n",
       "      <th></th>\n",
       "      <th>BTop</th>\n",
       "      <th>BJng</th>\n",
       "      <th>BMid</th>\n",
       "      <th>BAdc</th>\n",
       "      <th>BSup</th>\n",
       "      <th>RTop</th>\n",
       "      <th>RJng</th>\n",
       "      <th>RMid</th>\n",
       "      <th>RAdc</th>\n",
       "      <th>RSup</th>\n",
       "      <th>Winner</th>\n",
       "    </tr>\n",
       "  </thead>\n",
       "  <tbody>\n",
       "    <tr>\n",
       "      <th>0</th>\n",
       "      <td>0.524364</td>\n",
       "      <td>0.506967</td>\n",
       "      <td>0.497972</td>\n",
       "      <td>0.523989</td>\n",
       "      <td>0.438144</td>\n",
       "      <td>-0.533592</td>\n",
       "      <td>-0.494477</td>\n",
       "      <td>-0.491465</td>\n",
       "      <td>-0.503883</td>\n",
       "      <td>-0.492260</td>\n",
       "      <td>1</td>\n",
       "    </tr>\n",
       "    <tr>\n",
       "      <th>1</th>\n",
       "      <td>0.524364</td>\n",
       "      <td>0.504318</td>\n",
       "      <td>0.565594</td>\n",
       "      <td>0.523989</td>\n",
       "      <td>0.491429</td>\n",
       "      <td>-0.516260</td>\n",
       "      <td>-0.509972</td>\n",
       "      <td>-0.559211</td>\n",
       "      <td>-0.504505</td>\n",
       "      <td>-0.440678</td>\n",
       "      <td>0</td>\n",
       "    </tr>\n",
       "    <tr>\n",
       "      <th>2</th>\n",
       "      <td>0.513399</td>\n",
       "      <td>0.486450</td>\n",
       "      <td>0.553073</td>\n",
       "      <td>0.525246</td>\n",
       "      <td>0.524819</td>\n",
       "      <td>-0.489831</td>\n",
       "      <td>-0.539535</td>\n",
       "      <td>-0.465315</td>\n",
       "      <td>-0.470158</td>\n",
       "      <td>-0.527418</td>\n",
       "      <td>0</td>\n",
       "    </tr>\n",
       "    <tr>\n",
       "      <th>3</th>\n",
       "      <td>0.511305</td>\n",
       "      <td>0.505097</td>\n",
       "      <td>0.502868</td>\n",
       "      <td>0.524169</td>\n",
       "      <td>0.534702</td>\n",
       "      <td>-0.508671</td>\n",
       "      <td>-0.502106</td>\n",
       "      <td>-0.508434</td>\n",
       "      <td>-0.393443</td>\n",
       "      <td>-0.492582</td>\n",
       "      <td>1</td>\n",
       "    </tr>\n",
       "    <tr>\n",
       "      <th>4</th>\n",
       "      <td>0.524364</td>\n",
       "      <td>0.509764</td>\n",
       "      <td>0.421169</td>\n",
       "      <td>0.525246</td>\n",
       "      <td>0.516461</td>\n",
       "      <td>-0.499863</td>\n",
       "      <td>-0.502106</td>\n",
       "      <td>-0.445918</td>\n",
       "      <td>-0.465315</td>\n",
       "      <td>-0.473513</td>\n",
       "      <td>1</td>\n",
       "    </tr>\n",
       "  </tbody>\n",
       "</table>\n",
       "</div>"
      ],
      "text/plain": [
       "       BTop      BJng      BMid      BAdc      BSup      RTop      RJng  \\\n",
       "0  0.524364  0.506967  0.497972  0.523989  0.438144 -0.533592 -0.494477   \n",
       "1  0.524364  0.504318  0.565594  0.523989  0.491429 -0.516260 -0.509972   \n",
       "2  0.513399  0.486450  0.553073  0.525246  0.524819 -0.489831 -0.539535   \n",
       "3  0.511305  0.505097  0.502868  0.524169  0.534702 -0.508671 -0.502106   \n",
       "4  0.524364  0.509764  0.421169  0.525246  0.516461 -0.499863 -0.502106   \n",
       "\n",
       "       RMid      RAdc      RSup  Winner  \n",
       "0 -0.491465 -0.503883 -0.492260       1  \n",
       "1 -0.559211 -0.504505 -0.440678       0  \n",
       "2 -0.465315 -0.470158 -0.527418       0  \n",
       "3 -0.508434 -0.393443 -0.492582       1  \n",
       "4 -0.445918 -0.465315 -0.473513       1  "
      ]
     },
     "execution_count": 7,
     "metadata": {},
     "output_type": "execute_result"
    }
   ],
   "source": [
    "df.head()"
   ]
  },
  {
   "cell_type": "code",
   "execution_count": 8,
   "metadata": {},
   "outputs": [],
   "source": [
    "#For all entries with Blue = 1 and Red = -1\n",
    "\n",
    "for i in range(len(df)):\n",
    "    if df.loc[i,'Winner']==0:\n",
    "        df.loc[i,'Winner']=1\n",
    "    else:\n",
    "        df.loc[i,'Winner']=-1\n",
    "        \n",
    "df['Winner'] = df['Winner'].astype(int)"
   ]
  },
  {
   "cell_type": "code",
   "execution_count": 9,
   "metadata": {},
   "outputs": [
    {
     "data": {
      "text/html": [
       "<div>\n",
       "<style scoped>\n",
       "    .dataframe tbody tr th:only-of-type {\n",
       "        vertical-align: middle;\n",
       "    }\n",
       "\n",
       "    .dataframe tbody tr th {\n",
       "        vertical-align: top;\n",
       "    }\n",
       "\n",
       "    .dataframe thead th {\n",
       "        text-align: right;\n",
       "    }\n",
       "</style>\n",
       "<table border=\"1\" class=\"dataframe\">\n",
       "  <thead>\n",
       "    <tr style=\"text-align: right;\">\n",
       "      <th></th>\n",
       "      <th>BTop</th>\n",
       "      <th>BJng</th>\n",
       "      <th>BMid</th>\n",
       "      <th>BAdc</th>\n",
       "      <th>BSup</th>\n",
       "      <th>RTop</th>\n",
       "      <th>RJng</th>\n",
       "      <th>RMid</th>\n",
       "      <th>RAdc</th>\n",
       "      <th>RSup</th>\n",
       "      <th>Winner</th>\n",
       "    </tr>\n",
       "  </thead>\n",
       "  <tbody>\n",
       "    <tr>\n",
       "      <th>0</th>\n",
       "      <td>0.524364</td>\n",
       "      <td>0.506967</td>\n",
       "      <td>0.497972</td>\n",
       "      <td>0.523989</td>\n",
       "      <td>0.438144</td>\n",
       "      <td>-0.533592</td>\n",
       "      <td>-0.494477</td>\n",
       "      <td>-0.491465</td>\n",
       "      <td>-0.503883</td>\n",
       "      <td>-0.492260</td>\n",
       "      <td>-1</td>\n",
       "    </tr>\n",
       "    <tr>\n",
       "      <th>1</th>\n",
       "      <td>0.524364</td>\n",
       "      <td>0.504318</td>\n",
       "      <td>0.565594</td>\n",
       "      <td>0.523989</td>\n",
       "      <td>0.491429</td>\n",
       "      <td>-0.516260</td>\n",
       "      <td>-0.509972</td>\n",
       "      <td>-0.559211</td>\n",
       "      <td>-0.504505</td>\n",
       "      <td>-0.440678</td>\n",
       "      <td>1</td>\n",
       "    </tr>\n",
       "    <tr>\n",
       "      <th>2</th>\n",
       "      <td>0.513399</td>\n",
       "      <td>0.486450</td>\n",
       "      <td>0.553073</td>\n",
       "      <td>0.525246</td>\n",
       "      <td>0.524819</td>\n",
       "      <td>-0.489831</td>\n",
       "      <td>-0.539535</td>\n",
       "      <td>-0.465315</td>\n",
       "      <td>-0.470158</td>\n",
       "      <td>-0.527418</td>\n",
       "      <td>1</td>\n",
       "    </tr>\n",
       "    <tr>\n",
       "      <th>3</th>\n",
       "      <td>0.511305</td>\n",
       "      <td>0.505097</td>\n",
       "      <td>0.502868</td>\n",
       "      <td>0.524169</td>\n",
       "      <td>0.534702</td>\n",
       "      <td>-0.508671</td>\n",
       "      <td>-0.502106</td>\n",
       "      <td>-0.508434</td>\n",
       "      <td>-0.393443</td>\n",
       "      <td>-0.492582</td>\n",
       "      <td>-1</td>\n",
       "    </tr>\n",
       "    <tr>\n",
       "      <th>4</th>\n",
       "      <td>0.524364</td>\n",
       "      <td>0.509764</td>\n",
       "      <td>0.421169</td>\n",
       "      <td>0.525246</td>\n",
       "      <td>0.516461</td>\n",
       "      <td>-0.499863</td>\n",
       "      <td>-0.502106</td>\n",
       "      <td>-0.445918</td>\n",
       "      <td>-0.465315</td>\n",
       "      <td>-0.473513</td>\n",
       "      <td>-1</td>\n",
       "    </tr>\n",
       "  </tbody>\n",
       "</table>\n",
       "</div>"
      ],
      "text/plain": [
       "       BTop      BJng      BMid      BAdc      BSup      RTop      RJng  \\\n",
       "0  0.524364  0.506967  0.497972  0.523989  0.438144 -0.533592 -0.494477   \n",
       "1  0.524364  0.504318  0.565594  0.523989  0.491429 -0.516260 -0.509972   \n",
       "2  0.513399  0.486450  0.553073  0.525246  0.524819 -0.489831 -0.539535   \n",
       "3  0.511305  0.505097  0.502868  0.524169  0.534702 -0.508671 -0.502106   \n",
       "4  0.524364  0.509764  0.421169  0.525246  0.516461 -0.499863 -0.502106   \n",
       "\n",
       "       RMid      RAdc      RSup  Winner  \n",
       "0 -0.491465 -0.503883 -0.492260      -1  \n",
       "1 -0.559211 -0.504505 -0.440678       1  \n",
       "2 -0.465315 -0.470158 -0.527418       1  \n",
       "3 -0.508434 -0.393443 -0.492582      -1  \n",
       "4 -0.445918 -0.465315 -0.473513      -1  "
      ]
     },
     "execution_count": 9,
     "metadata": {},
     "output_type": "execute_result"
    }
   ],
   "source": [
    "df.head()"
   ]
  },
  {
   "cell_type": "markdown",
   "metadata": {},
   "source": [
    "### Lets implement KNN model now"
   ]
  },
  {
   "cell_type": "code",
   "execution_count": 10,
   "metadata": {},
   "outputs": [],
   "source": [
    "from sklearn.model_selection import train_test_split"
   ]
  },
  {
   "cell_type": "code",
   "execution_count": 11,
   "metadata": {},
   "outputs": [],
   "source": [
    "X = df.drop('Winner',axis=1)\n",
    "y = df['Winner']"
   ]
  },
  {
   "cell_type": "code",
   "execution_count": 12,
   "metadata": {},
   "outputs": [],
   "source": [
    "X_train,X_test,y_train,y_test = train_test_split(X,y,test_size=0.3,random_state=101)"
   ]
  },
  {
   "cell_type": "code",
   "execution_count": 13,
   "metadata": {},
   "outputs": [],
   "source": [
    "from sklearn.neighbors import KNeighborsClassifier"
   ]
  },
  {
   "cell_type": "code",
   "execution_count": 14,
   "metadata": {},
   "outputs": [],
   "source": [
    "knn = KNeighborsClassifier(n_neighbors=1)"
   ]
  },
  {
   "cell_type": "code",
   "execution_count": 15,
   "metadata": {
    "scrolled": true
   },
   "outputs": [
    {
     "data": {
      "text/plain": [
       "KNeighborsClassifier(algorithm='auto', leaf_size=30, metric='minkowski',\n",
       "                     metric_params=None, n_jobs=None, n_neighbors=1, p=2,\n",
       "                     weights='uniform')"
      ]
     },
     "execution_count": 15,
     "metadata": {},
     "output_type": "execute_result"
    }
   ],
   "source": [
    "knn.fit(X_train,y_train)"
   ]
  },
  {
   "cell_type": "code",
   "execution_count": 16,
   "metadata": {},
   "outputs": [],
   "source": [
    "predictions = knn.predict(X_test)"
   ]
  },
  {
   "cell_type": "code",
   "execution_count": 17,
   "metadata": {},
   "outputs": [],
   "source": [
    "from sklearn.metrics import confusion_matrix,classification_report"
   ]
  },
  {
   "cell_type": "code",
   "execution_count": 18,
   "metadata": {},
   "outputs": [
    {
     "name": "stdout",
     "output_type": "stream",
     "text": [
      "[[1431 1518]\n",
      " [1391 1564]]\n",
      "\n",
      "\n",
      "              precision    recall  f1-score   support\n",
      "\n",
      "          -1       0.51      0.49      0.50      2949\n",
      "           1       0.51      0.53      0.52      2955\n",
      "\n",
      "    accuracy                           0.51      5904\n",
      "   macro avg       0.51      0.51      0.51      5904\n",
      "weighted avg       0.51      0.51      0.51      5904\n",
      "\n"
     ]
    }
   ],
   "source": [
    "print(confusion_matrix(y_test,predictions))\n",
    "print('\\n')\n",
    "print(classification_report(y_test,predictions))"
   ]
  },
  {
   "cell_type": "code",
   "execution_count": 19,
   "metadata": {},
   "outputs": [],
   "source": [
    "#Lets choose a K value now"
   ]
  },
  {
   "cell_type": "code",
   "execution_count": 20,
   "metadata": {},
   "outputs": [],
   "source": [
    "error_rate = []\n",
    "\n",
    "for i in range(1,100):\n",
    "    \n",
    "    knn = KNeighborsClassifier(n_neighbors=i)\n",
    "    knn.fit(X_train,y_train)\n",
    "    pred_i = knn.predict(X_test)\n",
    "    error_rate.append(np.mean(pred_i != y_test))"
   ]
  },
  {
   "cell_type": "code",
   "execution_count": 22,
   "metadata": {},
   "outputs": [
    {
     "data": {
      "text/plain": [
       "Text(0, 0.5, 'Error Rate')"
      ]
     },
     "execution_count": 22,
     "metadata": {},
     "output_type": "execute_result"
    },
    {
     "data": {
      "image/png": "[encoded data removed]",
      "text/plain": [
       "<Figure size 720x432 with 1 Axes>"
      ]
     },
     "metadata": {
      "needs_background": "light"
     },
     "output_type": "display_data"
    }
   ],
   "source": [
    "plt.figure(figsize=(10,6))\n",
    "plt.plot(range(1,100),error_rate,color='blue', linestyle='dashed', marker='o',\n",
    "         markerfacecolor='red', markersize=10)\n",
    "plt.title('Error Rate vs. K Value')\n",
    "plt.xlabel('K')\n",
    "plt.ylabel('Error Rate')"
   ]
  },
  {
   "cell_type": "code",
   "execution_count": 23,
   "metadata": {},
   "outputs": [],
   "source": [
    "knn = KNeighborsClassifier(n_neighbors=64)"
   ]
  },
  {
   "cell_type": "code",
   "execution_count": 24,
   "metadata": {
    "scrolled": true
   },
   "outputs": [
    {
     "data": {
      "text/plain": [
       "KNeighborsClassifier(algorithm='auto', leaf_size=30, metric='minkowski',\n",
       "                     metric_params=None, n_jobs=None, n_neighbors=64, p=2,\n",
       "                     weights='uniform')"
      ]
     },
     "execution_count": 24,
     "metadata": {},
     "output_type": "execute_result"
    }
   ],
   "source": [
    "knn.fit(X_train,y_train)"
   ]
  },
  {
   "cell_type": "code",
   "execution_count": 25,
   "metadata": {},
   "outputs": [],
   "source": [
    "predictions = knn.predict(X_test)"
   ]
  },
  {
   "cell_type": "code",
   "execution_count": 26,
   "metadata": {},
   "outputs": [],
   "source": [
    "from sklearn.metrics import confusion_matrix,classification_report"
   ]
  },
  {
   "cell_type": "code",
   "execution_count": 27,
   "metadata": {},
   "outputs": [
    {
     "name": "stdout",
     "output_type": "stream",
     "text": [
      "[[1616 1333]\n",
      " [1319 1636]]\n",
      "\n",
      "\n",
      "              precision    recall  f1-score   support\n",
      "\n",
      "          -1       0.55      0.55      0.55      2949\n",
      "           1       0.55      0.55      0.55      2955\n",
      "\n",
      "    accuracy                           0.55      5904\n",
      "   macro avg       0.55      0.55      0.55      5904\n",
      "weighted avg       0.55      0.55      0.55      5904\n",
      "\n"
     ]
    }
   ],
   "source": [
    "print(confusion_matrix(y_test,predictions))\n",
    "print('\\n')\n",
    "print(classification_report(y_test,predictions))"
   ]
  },
  {
   "cell_type": "code",
   "execution_count": null,
   "metadata": {},
   "outputs": [],
   "source": []
  }
 ],
 "metadata": {
  "jupytext": {
   "encoding": "# -*- coding: utf-8 -*-",
   "formats": "ipynb,py:light"
  },
  "kernelspec": {
   "display_name": "Python 3",
   "language": "python",
   "name": "python3"
  },
  "language_info": {
   "codemirror_mode": {
    "name": "ipython",
    "version": 3
   },
   "file_extension": ".py",
   "mimetype": "text/x-python",
   "name": "python",
   "nbconvert_exporter": "python",
   "pygments_lexer": "ipython3",
   "version": "3.7.3"
  }
 },
 "nbformat": 4,
 "nbformat_minor": 2
}
