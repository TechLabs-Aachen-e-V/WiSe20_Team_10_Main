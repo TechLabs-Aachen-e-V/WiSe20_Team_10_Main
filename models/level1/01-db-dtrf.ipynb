{
 "cells": [
  {
   "cell_type": "markdown",
   "metadata": {},
   "source": [
    "# To determine the classification of Game results using Decision trees & Random Forests"
   ]
  },
  {
   "cell_type": "code",
   "execution_count": 1,
   "metadata": {},
   "outputs": [],
   "source": [
    "import numpy as np\n",
    "import pandas as pd\n",
    "import matplotlib.pyplot as plt\n",
    "import seaborn as sns\n",
    "%matplotlib inline"
   ]
  },
  {
   "cell_type": "code",
   "execution_count": 2,
   "metadata": {},
   "outputs": [],
   "source": [
    "df = pd.read_csv('../../data/processedLOLOracleData.csv')"
   ]
  },
  {
   "cell_type": "code",
   "execution_count": 3,
   "metadata": {},
   "outputs": [
    {
     "data": {
      "text/html": [
       "<div>\n",
       "<style scoped>\n",
       "    .dataframe tbody tr th:only-of-type {\n",
       "        vertical-align: middle;\n",
       "    }\n",
       "\n",
       "    .dataframe tbody tr th {\n",
       "        vertical-align: top;\n",
       "    }\n",
       "\n",
       "    .dataframe thead th {\n",
       "        text-align: right;\n",
       "    }\n",
       "</style>\n",
       "<table border=\"1\" class=\"dataframe\">\n",
       "  <thead>\n",
       "    <tr style=\"text-align: right;\">\n",
       "      <th></th>\n",
       "      <th>server</th>\n",
       "      <th>summoner_name</th>\n",
       "      <th>winner</th>\n",
       "      <th>BTop</th>\n",
       "      <th>BJng</th>\n",
       "      <th>BMid</th>\n",
       "      <th>BAdc</th>\n",
       "      <th>BSup</th>\n",
       "      <th>RTop</th>\n",
       "      <th>RJng</th>\n",
       "      <th>RMid</th>\n",
       "      <th>RAdc</th>\n",
       "      <th>RSup</th>\n",
       "      <th>Time</th>\n",
       "    </tr>\n",
       "  </thead>\n",
       "  <tbody>\n",
       "    <tr>\n",
       "      <th>0</th>\n",
       "      <td>na</td>\n",
       "      <td>AnDa</td>\n",
       "      <td>Red</td>\n",
       "      <td>Camille</td>\n",
       "      <td>Gragas</td>\n",
       "      <td>Yone</td>\n",
       "      <td>Jhin</td>\n",
       "      <td>Brand</td>\n",
       "      <td>Shen</td>\n",
       "      <td>Graves</td>\n",
       "      <td>Sylas</td>\n",
       "      <td>Kai'Sa</td>\n",
       "      <td>Karma</td>\n",
       "      <td>2020-12-23 14:12:18 26m 18s</td>\n",
       "    </tr>\n",
       "    <tr>\n",
       "      <th>1</th>\n",
       "      <td>na</td>\n",
       "      <td>AnDa</td>\n",
       "      <td>Blue</td>\n",
       "      <td>Camille</td>\n",
       "      <td>Nidalee</td>\n",
       "      <td>Galio</td>\n",
       "      <td>Jhin</td>\n",
       "      <td>Anivia</td>\n",
       "      <td>Riven</td>\n",
       "      <td>Hecarim</td>\n",
       "      <td>Xerath</td>\n",
       "      <td>Miss Fortune</td>\n",
       "      <td>Vel'Koz</td>\n",
       "      <td>2020-12-23 13:19:48 20m 42s</td>\n",
       "    </tr>\n",
       "    <tr>\n",
       "      <th>2</th>\n",
       "      <td>na</td>\n",
       "      <td>AnDa</td>\n",
       "      <td>Blue</td>\n",
       "      <td>Irelia</td>\n",
       "      <td>Ekko</td>\n",
       "      <td>Annie</td>\n",
       "      <td>Kai'Sa</td>\n",
       "      <td>Thresh</td>\n",
       "      <td>Aatrox</td>\n",
       "      <td>Jarvan IV</td>\n",
       "      <td>Orianna</td>\n",
       "      <td>Aphelios</td>\n",
       "      <td>Maokai</td>\n",
       "      <td>2020-12-22 15:11:07 15m 20s</td>\n",
       "    </tr>\n",
       "    <tr>\n",
       "      <th>3</th>\n",
       "      <td>na</td>\n",
       "      <td>AnDa</td>\n",
       "      <td>Red</td>\n",
       "      <td>Graves</td>\n",
       "      <td>Kindred</td>\n",
       "      <td>Sylas</td>\n",
       "      <td>Vayne</td>\n",
       "      <td>Bard</td>\n",
       "      <td>Renekton</td>\n",
       "      <td>Nidalee</td>\n",
       "      <td>Ekko</td>\n",
       "      <td>Sivir</td>\n",
       "      <td>Pyke</td>\n",
       "      <td>2020-12-22 14:46:00 30m 34s</td>\n",
       "    </tr>\n",
       "    <tr>\n",
       "      <th>4</th>\n",
       "      <td>na</td>\n",
       "      <td>AnDa</td>\n",
       "      <td>Red</td>\n",
       "      <td>Camille</td>\n",
       "      <td>Lee Sin</td>\n",
       "      <td>Lucian</td>\n",
       "      <td>Kai'Sa</td>\n",
       "      <td>Leona</td>\n",
       "      <td>Jhin</td>\n",
       "      <td>Nidalee</td>\n",
       "      <td>Yone</td>\n",
       "      <td>Orianna</td>\n",
       "      <td>Pantheon</td>\n",
       "      <td>2020-12-22 13:59:22 29m 58s</td>\n",
       "    </tr>\n",
       "  </tbody>\n",
       "</table>\n",
       "</div>"
      ],
      "text/plain": [
       "  server summoner_name winner     BTop     BJng    BMid    BAdc    BSup  \\\n",
       "0     na          AnDa    Red  Camille   Gragas    Yone    Jhin   Brand   \n",
       "1     na          AnDa   Blue  Camille  Nidalee   Galio    Jhin  Anivia   \n",
       "2     na          AnDa   Blue   Irelia     Ekko   Annie  Kai'Sa  Thresh   \n",
       "3     na          AnDa    Red   Graves  Kindred   Sylas   Vayne    Bard   \n",
       "4     na          AnDa    Red  Camille  Lee Sin  Lucian  Kai'Sa   Leona   \n",
       "\n",
       "       RTop       RJng     RMid          RAdc      RSup  \\\n",
       "0      Shen     Graves    Sylas        Kai'Sa     Karma   \n",
       "1     Riven    Hecarim   Xerath  Miss Fortune   Vel'Koz   \n",
       "2    Aatrox  Jarvan IV  Orianna      Aphelios    Maokai   \n",
       "3  Renekton    Nidalee     Ekko         Sivir      Pyke   \n",
       "4      Jhin    Nidalee     Yone       Orianna  Pantheon   \n",
       "\n",
       "                          Time  \n",
       "0  2020-12-23 14:12:18 26m 18s  \n",
       "1  2020-12-23 13:19:48 20m 42s  \n",
       "2  2020-12-22 15:11:07 15m 20s  \n",
       "3  2020-12-22 14:46:00 30m 34s  \n",
       "4  2020-12-22 13:59:22 29m 58s  "
      ]
     },
     "execution_count": 3,
     "metadata": {},
     "output_type": "execute_result"
    }
   ],
   "source": [
    "df.head()"
   ]
  },
  {
   "cell_type": "code",
   "execution_count": 4,
   "metadata": {},
   "outputs": [],
   "source": [
    "df.drop(['server','summoner_name','Time'],axis=1,inplace=True)"
   ]
  },
  {
   "cell_type": "code",
   "execution_count": 5,
   "metadata": {},
   "outputs": [
    {
     "data": {
      "text/html": [
       "<div>\n",
       "<style scoped>\n",
       "    .dataframe tbody tr th:only-of-type {\n",
       "        vertical-align: middle;\n",
       "    }\n",
       "\n",
       "    .dataframe tbody tr th {\n",
       "        vertical-align: top;\n",
       "    }\n",
       "\n",
       "    .dataframe thead th {\n",
       "        text-align: right;\n",
       "    }\n",
       "</style>\n",
       "<table border=\"1\" class=\"dataframe\">\n",
       "  <thead>\n",
       "    <tr style=\"text-align: right;\">\n",
       "      <th></th>\n",
       "      <th>winner</th>\n",
       "      <th>BTop</th>\n",
       "      <th>BJng</th>\n",
       "      <th>BMid</th>\n",
       "      <th>BAdc</th>\n",
       "      <th>BSup</th>\n",
       "      <th>RTop</th>\n",
       "      <th>RJng</th>\n",
       "      <th>RMid</th>\n",
       "      <th>RAdc</th>\n",
       "      <th>RSup</th>\n",
       "    </tr>\n",
       "  </thead>\n",
       "  <tbody>\n",
       "    <tr>\n",
       "      <th>0</th>\n",
       "      <td>Red</td>\n",
       "      <td>Camille</td>\n",
       "      <td>Gragas</td>\n",
       "      <td>Yone</td>\n",
       "      <td>Jhin</td>\n",
       "      <td>Brand</td>\n",
       "      <td>Shen</td>\n",
       "      <td>Graves</td>\n",
       "      <td>Sylas</td>\n",
       "      <td>Kai'Sa</td>\n",
       "      <td>Karma</td>\n",
       "    </tr>\n",
       "    <tr>\n",
       "      <th>1</th>\n",
       "      <td>Blue</td>\n",
       "      <td>Camille</td>\n",
       "      <td>Nidalee</td>\n",
       "      <td>Galio</td>\n",
       "      <td>Jhin</td>\n",
       "      <td>Anivia</td>\n",
       "      <td>Riven</td>\n",
       "      <td>Hecarim</td>\n",
       "      <td>Xerath</td>\n",
       "      <td>Miss Fortune</td>\n",
       "      <td>Vel'Koz</td>\n",
       "    </tr>\n",
       "    <tr>\n",
       "      <th>2</th>\n",
       "      <td>Blue</td>\n",
       "      <td>Irelia</td>\n",
       "      <td>Ekko</td>\n",
       "      <td>Annie</td>\n",
       "      <td>Kai'Sa</td>\n",
       "      <td>Thresh</td>\n",
       "      <td>Aatrox</td>\n",
       "      <td>Jarvan IV</td>\n",
       "      <td>Orianna</td>\n",
       "      <td>Aphelios</td>\n",
       "      <td>Maokai</td>\n",
       "    </tr>\n",
       "    <tr>\n",
       "      <th>3</th>\n",
       "      <td>Red</td>\n",
       "      <td>Graves</td>\n",
       "      <td>Kindred</td>\n",
       "      <td>Sylas</td>\n",
       "      <td>Vayne</td>\n",
       "      <td>Bard</td>\n",
       "      <td>Renekton</td>\n",
       "      <td>Nidalee</td>\n",
       "      <td>Ekko</td>\n",
       "      <td>Sivir</td>\n",
       "      <td>Pyke</td>\n",
       "    </tr>\n",
       "    <tr>\n",
       "      <th>4</th>\n",
       "      <td>Red</td>\n",
       "      <td>Camille</td>\n",
       "      <td>Lee Sin</td>\n",
       "      <td>Lucian</td>\n",
       "      <td>Kai'Sa</td>\n",
       "      <td>Leona</td>\n",
       "      <td>Jhin</td>\n",
       "      <td>Nidalee</td>\n",
       "      <td>Yone</td>\n",
       "      <td>Orianna</td>\n",
       "      <td>Pantheon</td>\n",
       "    </tr>\n",
       "  </tbody>\n",
       "</table>\n",
       "</div>"
      ],
      "text/plain": [
       "  winner     BTop     BJng    BMid    BAdc    BSup      RTop       RJng  \\\n",
       "0    Red  Camille   Gragas    Yone    Jhin   Brand      Shen     Graves   \n",
       "1   Blue  Camille  Nidalee   Galio    Jhin  Anivia     Riven    Hecarim   \n",
       "2   Blue   Irelia     Ekko   Annie  Kai'Sa  Thresh    Aatrox  Jarvan IV   \n",
       "3    Red   Graves  Kindred   Sylas   Vayne    Bard  Renekton    Nidalee   \n",
       "4    Red  Camille  Lee Sin  Lucian  Kai'Sa   Leona      Jhin    Nidalee   \n",
       "\n",
       "      RMid          RAdc      RSup  \n",
       "0    Sylas        Kai'Sa     Karma  \n",
       "1   Xerath  Miss Fortune   Vel'Koz  \n",
       "2  Orianna      Aphelios    Maokai  \n",
       "3     Ekko         Sivir      Pyke  \n",
       "4     Yone       Orianna  Pantheon  "
      ]
     },
     "execution_count": 5,
     "metadata": {},
     "output_type": "execute_result"
    }
   ],
   "source": [
    "df.head()"
   ]
  },
  {
   "cell_type": "markdown",
   "metadata": {},
   "source": [
    "### To collect all the unique champion names"
   ]
  },
  {
   "cell_type": "code",
   "execution_count": 6,
   "metadata": {},
   "outputs": [],
   "source": [
    "\n",
    "\n",
    "col = ['BTop', 'BJng', 'BMid', 'BAdc', 'BSup', 'RTop', 'RJng',\n",
    "       'RMid', 'RAdc', 'RSup']\n",
    "champ= []\n",
    "for i in col:\n",
    "    tempchamp = df[i].unique()\n",
    "    champ = np.append(champ,tempchamp)\n",
    "    \n",
    "    \n",
    "#Converting the data to a series to extract unique values and converting it back to a list    \n",
    "temp = pd.Series(champ)\n",
    "champions = temp.unique()\n",
    "champions = list(champions)"
   ]
  },
  {
   "cell_type": "markdown",
   "metadata": {},
   "source": [
    "### Encoding champion name into numbers in order to make it easier for processing"
   ]
  },
  {
   "cell_type": "code",
   "execution_count": 7,
   "metadata": {},
   "outputs": [],
   "source": [
    "\n",
    "\n",
    "#For one champion\n",
    "\n",
    "for i in range(len(df)):\n",
    "    for j in col:\n",
    "        if(df.loc[i,j]=='Camille'):\n",
    "            df.loc[i,j]=1\n",
    "            "
   ]
  },
  {
   "cell_type": "code",
   "execution_count": 8,
   "metadata": {},
   "outputs": [
    {
     "data": {
      "text/html": [
       "<div>\n",
       "<style scoped>\n",
       "    .dataframe tbody tr th:only-of-type {\n",
       "        vertical-align: middle;\n",
       "    }\n",
       "\n",
       "    .dataframe tbody tr th {\n",
       "        vertical-align: top;\n",
       "    }\n",
       "\n",
       "    .dataframe thead th {\n",
       "        text-align: right;\n",
       "    }\n",
       "</style>\n",
       "<table border=\"1\" class=\"dataframe\">\n",
       "  <thead>\n",
       "    <tr style=\"text-align: right;\">\n",
       "      <th></th>\n",
       "      <th>winner</th>\n",
       "      <th>BTop</th>\n",
       "      <th>BJng</th>\n",
       "      <th>BMid</th>\n",
       "      <th>BAdc</th>\n",
       "      <th>BSup</th>\n",
       "      <th>RTop</th>\n",
       "      <th>RJng</th>\n",
       "      <th>RMid</th>\n",
       "      <th>RAdc</th>\n",
       "      <th>RSup</th>\n",
       "    </tr>\n",
       "  </thead>\n",
       "  <tbody>\n",
       "    <tr>\n",
       "      <th>0</th>\n",
       "      <td>Red</td>\n",
       "      <td>1</td>\n",
       "      <td>Gragas</td>\n",
       "      <td>Yone</td>\n",
       "      <td>Jhin</td>\n",
       "      <td>Brand</td>\n",
       "      <td>Shen</td>\n",
       "      <td>Graves</td>\n",
       "      <td>Sylas</td>\n",
       "      <td>Kai'Sa</td>\n",
       "      <td>Karma</td>\n",
       "    </tr>\n",
       "    <tr>\n",
       "      <th>1</th>\n",
       "      <td>Blue</td>\n",
       "      <td>1</td>\n",
       "      <td>Nidalee</td>\n",
       "      <td>Galio</td>\n",
       "      <td>Jhin</td>\n",
       "      <td>Anivia</td>\n",
       "      <td>Riven</td>\n",
       "      <td>Hecarim</td>\n",
       "      <td>Xerath</td>\n",
       "      <td>Miss Fortune</td>\n",
       "      <td>Vel'Koz</td>\n",
       "    </tr>\n",
       "    <tr>\n",
       "      <th>2</th>\n",
       "      <td>Blue</td>\n",
       "      <td>Irelia</td>\n",
       "      <td>Ekko</td>\n",
       "      <td>Annie</td>\n",
       "      <td>Kai'Sa</td>\n",
       "      <td>Thresh</td>\n",
       "      <td>Aatrox</td>\n",
       "      <td>Jarvan IV</td>\n",
       "      <td>Orianna</td>\n",
       "      <td>Aphelios</td>\n",
       "      <td>Maokai</td>\n",
       "    </tr>\n",
       "    <tr>\n",
       "      <th>3</th>\n",
       "      <td>Red</td>\n",
       "      <td>Graves</td>\n",
       "      <td>Kindred</td>\n",
       "      <td>Sylas</td>\n",
       "      <td>Vayne</td>\n",
       "      <td>Bard</td>\n",
       "      <td>Renekton</td>\n",
       "      <td>Nidalee</td>\n",
       "      <td>Ekko</td>\n",
       "      <td>Sivir</td>\n",
       "      <td>Pyke</td>\n",
       "    </tr>\n",
       "    <tr>\n",
       "      <th>4</th>\n",
       "      <td>Red</td>\n",
       "      <td>1</td>\n",
       "      <td>Lee Sin</td>\n",
       "      <td>Lucian</td>\n",
       "      <td>Kai'Sa</td>\n",
       "      <td>Leona</td>\n",
       "      <td>Jhin</td>\n",
       "      <td>Nidalee</td>\n",
       "      <td>Yone</td>\n",
       "      <td>Orianna</td>\n",
       "      <td>Pantheon</td>\n",
       "    </tr>\n",
       "  </tbody>\n",
       "</table>\n",
       "</div>"
      ],
      "text/plain": [
       "  winner    BTop     BJng    BMid    BAdc    BSup      RTop       RJng  \\\n",
       "0    Red       1   Gragas    Yone    Jhin   Brand      Shen     Graves   \n",
       "1   Blue       1  Nidalee   Galio    Jhin  Anivia     Riven    Hecarim   \n",
       "2   Blue  Irelia     Ekko   Annie  Kai'Sa  Thresh    Aatrox  Jarvan IV   \n",
       "3    Red  Graves  Kindred   Sylas   Vayne    Bard  Renekton    Nidalee   \n",
       "4    Red       1  Lee Sin  Lucian  Kai'Sa   Leona      Jhin    Nidalee   \n",
       "\n",
       "      RMid          RAdc      RSup  \n",
       "0    Sylas        Kai'Sa     Karma  \n",
       "1   Xerath  Miss Fortune   Vel'Koz  \n",
       "2  Orianna      Aphelios    Maokai  \n",
       "3     Ekko         Sivir      Pyke  \n",
       "4     Yone       Orianna  Pantheon  "
      ]
     },
     "execution_count": 8,
     "metadata": {},
     "output_type": "execute_result"
    }
   ],
   "source": [
    "df.head()"
   ]
  },
  {
   "cell_type": "code",
   "execution_count": 9,
   "metadata": {},
   "outputs": [],
   "source": [
    "#For all champions\n",
    "\n",
    "for k in range(len(champions)):\n",
    "    for i in range(len(df)):\n",
    "        for j in col:\n",
    "            if(df.loc[i,j]==champions[k]):\n",
    "                df.loc[i,j]=k\n",
    "            "
   ]
  },
  {
   "cell_type": "code",
   "execution_count": 10,
   "metadata": {},
   "outputs": [
    {
     "data": {
      "text/html": [
       "<div>\n",
       "<style scoped>\n",
       "    .dataframe tbody tr th:only-of-type {\n",
       "        vertical-align: middle;\n",
       "    }\n",
       "\n",
       "    .dataframe tbody tr th {\n",
       "        vertical-align: top;\n",
       "    }\n",
       "\n",
       "    .dataframe thead th {\n",
       "        text-align: right;\n",
       "    }\n",
       "</style>\n",
       "<table border=\"1\" class=\"dataframe\">\n",
       "  <thead>\n",
       "    <tr style=\"text-align: right;\">\n",
       "      <th></th>\n",
       "      <th>winner</th>\n",
       "      <th>BTop</th>\n",
       "      <th>BJng</th>\n",
       "      <th>BMid</th>\n",
       "      <th>BAdc</th>\n",
       "      <th>BSup</th>\n",
       "      <th>RTop</th>\n",
       "      <th>RJng</th>\n",
       "      <th>RMid</th>\n",
       "      <th>RAdc</th>\n",
       "      <th>RSup</th>\n",
       "    </tr>\n",
       "  </thead>\n",
       "  <tbody>\n",
       "    <tr>\n",
       "      <th>0</th>\n",
       "      <td>Red</td>\n",
       "      <td>1</td>\n",
       "      <td>33</td>\n",
       "      <td>27</td>\n",
       "      <td>76</td>\n",
       "      <td>110</td>\n",
       "      <td>12</td>\n",
       "      <td>3</td>\n",
       "      <td>11</td>\n",
       "      <td>88</td>\n",
       "      <td>43</td>\n",
       "    </tr>\n",
       "    <tr>\n",
       "      <th>1</th>\n",
       "      <td>Blue</td>\n",
       "      <td>1</td>\n",
       "      <td>129</td>\n",
       "      <td>54</td>\n",
       "      <td>76</td>\n",
       "      <td>100</td>\n",
       "      <td>7</td>\n",
       "      <td>17</td>\n",
       "      <td>64</td>\n",
       "      <td>66</td>\n",
       "      <td>105</td>\n",
       "    </tr>\n",
       "    <tr>\n",
       "      <th>2</th>\n",
       "      <td>Blue</td>\n",
       "      <td>2</td>\n",
       "      <td>32</td>\n",
       "      <td>18</td>\n",
       "      <td>88</td>\n",
       "      <td>139</td>\n",
       "      <td>8</td>\n",
       "      <td>113</td>\n",
       "      <td>75</td>\n",
       "      <td>78</td>\n",
       "      <td>52</td>\n",
       "    </tr>\n",
       "    <tr>\n",
       "      <th>3</th>\n",
       "      <td>Red</td>\n",
       "      <td>3</td>\n",
       "      <td>143</td>\n",
       "      <td>11</td>\n",
       "      <td>62</td>\n",
       "      <td>127</td>\n",
       "      <td>6</td>\n",
       "      <td>129</td>\n",
       "      <td>32</td>\n",
       "      <td>132</td>\n",
       "      <td>24</td>\n",
       "    </tr>\n",
       "    <tr>\n",
       "      <th>4</th>\n",
       "      <td>Red</td>\n",
       "      <td>1</td>\n",
       "      <td>123</td>\n",
       "      <td>26</td>\n",
       "      <td>88</td>\n",
       "      <td>135</td>\n",
       "      <td>76</td>\n",
       "      <td>129</td>\n",
       "      <td>27</td>\n",
       "      <td>75</td>\n",
       "      <td>37</td>\n",
       "    </tr>\n",
       "  </tbody>\n",
       "</table>\n",
       "</div>"
      ],
      "text/plain": [
       "  winner BTop BJng BMid BAdc BSup RTop RJng RMid RAdc RSup\n",
       "0    Red    1   33   27   76  110   12    3   11   88   43\n",
       "1   Blue    1  129   54   76  100    7   17   64   66  105\n",
       "2   Blue    2   32   18   88  139    8  113   75   78   52\n",
       "3    Red    3  143   11   62  127    6  129   32  132   24\n",
       "4    Red    1  123   26   88  135   76  129   27   75   37"
      ]
     },
     "execution_count": 10,
     "metadata": {},
     "output_type": "execute_result"
    }
   ],
   "source": [
    "df.head()"
   ]
  },
  {
   "cell_type": "code",
   "execution_count": 11,
   "metadata": {},
   "outputs": [],
   "source": [
    "#For all entries with Blue = 0 and Red = 1\n",
    "\n",
    "for i in range(len(df)):\n",
    "    if df.loc[i,'winner']=='Blue':\n",
    "        df.loc[i,'Winner']=0\n",
    "    else:\n",
    "        df.loc[i,'Winner']=1\n",
    "        \n",
    "df['Winner'] = df['Winner'].astype(int)"
   ]
  },
  {
   "cell_type": "code",
   "execution_count": 12,
   "metadata": {},
   "outputs": [
    {
     "data": {
      "text/html": [
       "<div>\n",
       "<style scoped>\n",
       "    .dataframe tbody tr th:only-of-type {\n",
       "        vertical-align: middle;\n",
       "    }\n",
       "\n",
       "    .dataframe tbody tr th {\n",
       "        vertical-align: top;\n",
       "    }\n",
       "\n",
       "    .dataframe thead th {\n",
       "        text-align: right;\n",
       "    }\n",
       "</style>\n",
       "<table border=\"1\" class=\"dataframe\">\n",
       "  <thead>\n",
       "    <tr style=\"text-align: right;\">\n",
       "      <th></th>\n",
       "      <th>winner</th>\n",
       "      <th>BTop</th>\n",
       "      <th>BJng</th>\n",
       "      <th>BMid</th>\n",
       "      <th>BAdc</th>\n",
       "      <th>BSup</th>\n",
       "      <th>RTop</th>\n",
       "      <th>RJng</th>\n",
       "      <th>RMid</th>\n",
       "      <th>RAdc</th>\n",
       "      <th>RSup</th>\n",
       "      <th>Winner</th>\n",
       "    </tr>\n",
       "  </thead>\n",
       "  <tbody>\n",
       "    <tr>\n",
       "      <th>0</th>\n",
       "      <td>Red</td>\n",
       "      <td>1</td>\n",
       "      <td>33</td>\n",
       "      <td>27</td>\n",
       "      <td>76</td>\n",
       "      <td>110</td>\n",
       "      <td>12</td>\n",
       "      <td>3</td>\n",
       "      <td>11</td>\n",
       "      <td>88</td>\n",
       "      <td>43</td>\n",
       "      <td>1</td>\n",
       "    </tr>\n",
       "    <tr>\n",
       "      <th>1</th>\n",
       "      <td>Blue</td>\n",
       "      <td>1</td>\n",
       "      <td>129</td>\n",
       "      <td>54</td>\n",
       "      <td>76</td>\n",
       "      <td>100</td>\n",
       "      <td>7</td>\n",
       "      <td>17</td>\n",
       "      <td>64</td>\n",
       "      <td>66</td>\n",
       "      <td>105</td>\n",
       "      <td>0</td>\n",
       "    </tr>\n",
       "    <tr>\n",
       "      <th>2</th>\n",
       "      <td>Blue</td>\n",
       "      <td>2</td>\n",
       "      <td>32</td>\n",
       "      <td>18</td>\n",
       "      <td>88</td>\n",
       "      <td>139</td>\n",
       "      <td>8</td>\n",
       "      <td>113</td>\n",
       "      <td>75</td>\n",
       "      <td>78</td>\n",
       "      <td>52</td>\n",
       "      <td>0</td>\n",
       "    </tr>\n",
       "    <tr>\n",
       "      <th>3</th>\n",
       "      <td>Red</td>\n",
       "      <td>3</td>\n",
       "      <td>143</td>\n",
       "      <td>11</td>\n",
       "      <td>62</td>\n",
       "      <td>127</td>\n",
       "      <td>6</td>\n",
       "      <td>129</td>\n",
       "      <td>32</td>\n",
       "      <td>132</td>\n",
       "      <td>24</td>\n",
       "      <td>1</td>\n",
       "    </tr>\n",
       "    <tr>\n",
       "      <th>4</th>\n",
       "      <td>Red</td>\n",
       "      <td>1</td>\n",
       "      <td>123</td>\n",
       "      <td>26</td>\n",
       "      <td>88</td>\n",
       "      <td>135</td>\n",
       "      <td>76</td>\n",
       "      <td>129</td>\n",
       "      <td>27</td>\n",
       "      <td>75</td>\n",
       "      <td>37</td>\n",
       "      <td>1</td>\n",
       "    </tr>\n",
       "  </tbody>\n",
       "</table>\n",
       "</div>"
      ],
      "text/plain": [
       "  winner BTop BJng BMid BAdc BSup RTop RJng RMid RAdc RSup  Winner\n",
       "0    Red    1   33   27   76  110   12    3   11   88   43       1\n",
       "1   Blue    1  129   54   76  100    7   17   64   66  105       0\n",
       "2   Blue    2   32   18   88  139    8  113   75   78   52       0\n",
       "3    Red    3  143   11   62  127    6  129   32  132   24       1\n",
       "4    Red    1  123   26   88  135   76  129   27   75   37       1"
      ]
     },
     "execution_count": 12,
     "metadata": {},
     "output_type": "execute_result"
    }
   ],
   "source": [
    "df.head()"
   ]
  },
  {
   "cell_type": "code",
   "execution_count": 13,
   "metadata": {},
   "outputs": [],
   "source": [
    "df.drop('winner',axis=1,inplace=True)"
   ]
  },
  {
   "cell_type": "code",
   "execution_count": 14,
   "metadata": {},
   "outputs": [
    {
     "data": {
      "text/html": [
       "<div>\n",
       "<style scoped>\n",
       "    .dataframe tbody tr th:only-of-type {\n",
       "        vertical-align: middle;\n",
       "    }\n",
       "\n",
       "    .dataframe tbody tr th {\n",
       "        vertical-align: top;\n",
       "    }\n",
       "\n",
       "    .dataframe thead th {\n",
       "        text-align: right;\n",
       "    }\n",
       "</style>\n",
       "<table border=\"1\" class=\"dataframe\">\n",
       "  <thead>\n",
       "    <tr style=\"text-align: right;\">\n",
       "      <th></th>\n",
       "      <th>BTop</th>\n",
       "      <th>BJng</th>\n",
       "      <th>BMid</th>\n",
       "      <th>BAdc</th>\n",
       "      <th>BSup</th>\n",
       "      <th>RTop</th>\n",
       "      <th>RJng</th>\n",
       "      <th>RMid</th>\n",
       "      <th>RAdc</th>\n",
       "      <th>RSup</th>\n",
       "      <th>Winner</th>\n",
       "    </tr>\n",
       "  </thead>\n",
       "  <tbody>\n",
       "    <tr>\n",
       "      <th>0</th>\n",
       "      <td>1</td>\n",
       "      <td>33</td>\n",
       "      <td>27</td>\n",
       "      <td>76</td>\n",
       "      <td>110</td>\n",
       "      <td>12</td>\n",
       "      <td>3</td>\n",
       "      <td>11</td>\n",
       "      <td>88</td>\n",
       "      <td>43</td>\n",
       "      <td>1</td>\n",
       "    </tr>\n",
       "    <tr>\n",
       "      <th>1</th>\n",
       "      <td>1</td>\n",
       "      <td>129</td>\n",
       "      <td>54</td>\n",
       "      <td>76</td>\n",
       "      <td>100</td>\n",
       "      <td>7</td>\n",
       "      <td>17</td>\n",
       "      <td>64</td>\n",
       "      <td>66</td>\n",
       "      <td>105</td>\n",
       "      <td>0</td>\n",
       "    </tr>\n",
       "    <tr>\n",
       "      <th>2</th>\n",
       "      <td>2</td>\n",
       "      <td>32</td>\n",
       "      <td>18</td>\n",
       "      <td>88</td>\n",
       "      <td>139</td>\n",
       "      <td>8</td>\n",
       "      <td>113</td>\n",
       "      <td>75</td>\n",
       "      <td>78</td>\n",
       "      <td>52</td>\n",
       "      <td>0</td>\n",
       "    </tr>\n",
       "    <tr>\n",
       "      <th>3</th>\n",
       "      <td>3</td>\n",
       "      <td>143</td>\n",
       "      <td>11</td>\n",
       "      <td>62</td>\n",
       "      <td>127</td>\n",
       "      <td>6</td>\n",
       "      <td>129</td>\n",
       "      <td>32</td>\n",
       "      <td>132</td>\n",
       "      <td>24</td>\n",
       "      <td>1</td>\n",
       "    </tr>\n",
       "    <tr>\n",
       "      <th>4</th>\n",
       "      <td>1</td>\n",
       "      <td>123</td>\n",
       "      <td>26</td>\n",
       "      <td>88</td>\n",
       "      <td>135</td>\n",
       "      <td>76</td>\n",
       "      <td>129</td>\n",
       "      <td>27</td>\n",
       "      <td>75</td>\n",
       "      <td>37</td>\n",
       "      <td>1</td>\n",
       "    </tr>\n",
       "  </tbody>\n",
       "</table>\n",
       "</div>"
      ],
      "text/plain": [
       "  BTop BJng BMid BAdc BSup RTop RJng RMid RAdc RSup  Winner\n",
       "0    1   33   27   76  110   12    3   11   88   43       1\n",
       "1    1  129   54   76  100    7   17   64   66  105       0\n",
       "2    2   32   18   88  139    8  113   75   78   52       0\n",
       "3    3  143   11   62  127    6  129   32  132   24       1\n",
       "4    1  123   26   88  135   76  129   27   75   37       1"
      ]
     },
     "execution_count": 14,
     "metadata": {},
     "output_type": "execute_result"
    }
   ],
   "source": [
    "df.head()"
   ]
  },
  {
   "cell_type": "markdown",
   "metadata": {},
   "source": [
    "### Note that the above process of encoding champion names takes close to 7 mins. To prevent doing that action every single time, the converted data is exported"
   ]
  },
  {
   "cell_type": "code",
   "execution_count": 15,
   "metadata": {
    "lines_to_end_of_cell_marker": 2
   },
   "outputs": [],
   "source": [
    "df.to_csv('../../data/interim/EncodedLOLData.csv',index=False) #Exporting the encoded data for further processing"
   ]
  },
  {
   "cell_type": "markdown",
   "metadata": {},
   "source": [
    "### Lets perform Decision Trees and Random Forests"
   ]
  },
  {
   "cell_type": "code",
   "execution_count": 16,
   "metadata": {},
   "outputs": [],
   "source": [
    "X = df.drop('Winner',axis=1)\n",
    "y = df['Winner']"
   ]
  },
  {
   "cell_type": "code",
   "execution_count": 17,
   "metadata": {},
   "outputs": [],
   "source": [
    "from sklearn.model_selection import train_test_split"
   ]
  },
  {
   "cell_type": "code",
   "execution_count": 18,
   "metadata": {},
   "outputs": [],
   "source": [
    "X_train,X_test,y_train,y_test = train_test_split(X,y,test_size=0.3,random_state=101)"
   ]
  },
  {
   "cell_type": "code",
   "execution_count": 19,
   "metadata": {},
   "outputs": [],
   "source": [
    "from sklearn.tree import DecisionTreeClassifier"
   ]
  },
  {
   "cell_type": "code",
   "execution_count": 20,
   "metadata": {
    "lines_to_next_cell": 2
   },
   "outputs": [],
   "source": [
    "dtc = DecisionTreeClassifier()"
   ]
  },
  {
   "cell_type": "code",
   "execution_count": 21,
   "metadata": {},
   "outputs": [
    {
     "data": {
      "text/plain": [
       "DecisionTreeClassifier(class_weight=None, criterion='gini', max_depth=None,\n",
       "                       max_features=None, max_leaf_nodes=None,\n",
       "                       min_impurity_decrease=0.0, min_impurity_split=None,\n",
       "                       min_samples_leaf=1, min_samples_split=2,\n",
       "                       min_weight_fraction_leaf=0.0, presort=False,\n",
       "                       random_state=None, splitter='best')"
      ]
     },
     "execution_count": 21,
     "metadata": {},
     "output_type": "execute_result"
    }
   ],
   "source": [
    "dtc.fit(X_train,y_train)"
   ]
  },
  {
   "cell_type": "code",
   "execution_count": 22,
   "metadata": {},
   "outputs": [],
   "source": [
    "predict_dtc = dtc.predict(X_test)"
   ]
  },
  {
   "cell_type": "code",
   "execution_count": 23,
   "metadata": {},
   "outputs": [],
   "source": [
    "from sklearn.metrics import classification_report,confusion_matrix"
   ]
  },
  {
   "cell_type": "code",
   "execution_count": 24,
   "metadata": {},
   "outputs": [
    {
     "name": "stdout",
     "output_type": "stream",
     "text": [
      "[[1534 1421]\n",
      " [1524 1425]]\n",
      "\n",
      "\n",
      "              precision    recall  f1-score   support\n",
      "\n",
      "           0       0.50      0.52      0.51      2955\n",
      "           1       0.50      0.48      0.49      2949\n",
      "\n",
      "    accuracy                           0.50      5904\n",
      "   macro avg       0.50      0.50      0.50      5904\n",
      "weighted avg       0.50      0.50      0.50      5904\n",
      "\n"
     ]
    }
   ],
   "source": [
    "print (confusion_matrix(y_test,predict_dtc))\n",
    "print('\\n')\n",
    "print(classification_report(y_test,predict_dtc))"
   ]
  },
  {
   "cell_type": "markdown",
   "metadata": {},
   "source": [
    "### The results above show that for Decision Trees the precision isnt better than random chance. :("
   ]
  },
  {
   "cell_type": "code",
   "execution_count": 25,
   "metadata": {},
   "outputs": [],
   "source": [
    "from sklearn.ensemble import RandomForestClassifier"
   ]
  },
  {
   "cell_type": "code",
   "execution_count": 26,
   "metadata": {
    "lines_to_next_cell": 2
   },
   "outputs": [],
   "source": [
    "rfc = RandomForestClassifier(n_estimators=300)"
   ]
  },
  {
   "cell_type": "code",
   "execution_count": 27,
   "metadata": {},
   "outputs": [
    {
     "data": {
      "text/plain": [
       "RandomForestClassifier(bootstrap=True, class_weight=None, criterion='gini',\n",
       "                       max_depth=None, max_features='auto', max_leaf_nodes=None,\n",
       "                       min_impurity_decrease=0.0, min_impurity_split=None,\n",
       "                       min_samples_leaf=1, min_samples_split=2,\n",
       "                       min_weight_fraction_leaf=0.0, n_estimators=300,\n",
       "                       n_jobs=None, oob_score=False, random_state=None,\n",
       "                       verbose=0, warm_start=False)"
      ]
     },
     "execution_count": 27,
     "metadata": {},
     "output_type": "execute_result"
    }
   ],
   "source": [
    "rfc.fit(X_train,y_train)"
   ]
  },
  {
   "cell_type": "code",
   "execution_count": 28,
   "metadata": {},
   "outputs": [],
   "source": [
    "predict_rfc = rfc.predict(X_test)"
   ]
  },
  {
   "cell_type": "code",
   "execution_count": 29,
   "metadata": {
    "scrolled": false
   },
   "outputs": [
    {
     "name": "stdout",
     "output_type": "stream",
     "text": [
      "[[1595 1360]\n",
      " [1545 1404]]\n",
      "\n",
      "\n",
      "              precision    recall  f1-score   support\n",
      "\n",
      "           0       0.51      0.54      0.52      2955\n",
      "           1       0.51      0.48      0.49      2949\n",
      "\n",
      "    accuracy                           0.51      5904\n",
      "   macro avg       0.51      0.51      0.51      5904\n",
      "weighted avg       0.51      0.51      0.51      5904\n",
      "\n"
     ]
    }
   ],
   "source": [
    "print (confusion_matrix(y_test,predict_rfc))\n",
    "print('\\n')\n",
    "print(classification_report(y_test,predict_rfc))"
   ]
  },
  {
   "cell_type": "markdown",
   "metadata": {},
   "source": [
    "### Unfortunately even Random Forests dont seem promising"
   ]
  },
  {
   "cell_type": "markdown",
   "metadata": {},
   "source": [
    "### Possibly the next step we can do is encode every single champion name into a dummy variable and try it"
   ]
  },
  {
   "cell_type": "code",
   "execution_count": null,
   "metadata": {},
   "outputs": [],
   "source": []
  },
  {
   "cell_type": "code",
   "execution_count": null,
   "metadata": {},
   "outputs": [],
   "source": []
  },
  {
   "cell_type": "code",
   "execution_count": null,
   "metadata": {},
   "outputs": [],
   "source": []
  },
  {
   "cell_type": "code",
   "execution_count": 30,
   "metadata": {},
   "outputs": [],
   "source": [
    "X = pd.get_dummies(df[['BTop', 'BJng', 'BMid', 'BAdc', 'BSup', 'RTop', 'RJng', 'RMid', 'RAdc','RSup']])\n",
    "y = df['Winner']"
   ]
  },
  {
   "cell_type": "code",
   "execution_count": 31,
   "metadata": {},
   "outputs": [
    {
     "data": {
      "text/html": [
       "<div>\n",
       "<style scoped>\n",
       "    .dataframe tbody tr th:only-of-type {\n",
       "        vertical-align: middle;\n",
       "    }\n",
       "\n",
       "    .dataframe tbody tr th {\n",
       "        vertical-align: top;\n",
       "    }\n",
       "\n",
       "    .dataframe thead th {\n",
       "        text-align: right;\n",
       "    }\n",
       "</style>\n",
       "<table border=\"1\" class=\"dataframe\">\n",
       "  <thead>\n",
       "    <tr style=\"text-align: right;\">\n",
       "      <th></th>\n",
       "      <th>BTop_1</th>\n",
       "      <th>BTop_2</th>\n",
       "      <th>BTop_3</th>\n",
       "      <th>BTop_4</th>\n",
       "      <th>BTop_5</th>\n",
       "      <th>BTop_6</th>\n",
       "      <th>BTop_7</th>\n",
       "      <th>BTop_8</th>\n",
       "      <th>BTop_9</th>\n",
       "      <th>BTop_10</th>\n",
       "      <th>...</th>\n",
       "      <th>RSup_141</th>\n",
       "      <th>RSup_143</th>\n",
       "      <th>RSup_145</th>\n",
       "      <th>RSup_146</th>\n",
       "      <th>RSup_147</th>\n",
       "      <th>RSup_148</th>\n",
       "      <th>RSup_149</th>\n",
       "      <th>RSup_150</th>\n",
       "      <th>RSup_152</th>\n",
       "      <th>RSup_153</th>\n",
       "    </tr>\n",
       "  </thead>\n",
       "  <tbody>\n",
       "    <tr>\n",
       "      <th>0</th>\n",
       "      <td>1</td>\n",
       "      <td>0</td>\n",
       "      <td>0</td>\n",
       "      <td>0</td>\n",
       "      <td>0</td>\n",
       "      <td>0</td>\n",
       "      <td>0</td>\n",
       "      <td>0</td>\n",
       "      <td>0</td>\n",
       "      <td>0</td>\n",
       "      <td>...</td>\n",
       "      <td>0</td>\n",
       "      <td>0</td>\n",
       "      <td>0</td>\n",
       "      <td>0</td>\n",
       "      <td>0</td>\n",
       "      <td>0</td>\n",
       "      <td>0</td>\n",
       "      <td>0</td>\n",
       "      <td>0</td>\n",
       "      <td>0</td>\n",
       "    </tr>\n",
       "    <tr>\n",
       "      <th>1</th>\n",
       "      <td>1</td>\n",
       "      <td>0</td>\n",
       "      <td>0</td>\n",
       "      <td>0</td>\n",
       "      <td>0</td>\n",
       "      <td>0</td>\n",
       "      <td>0</td>\n",
       "      <td>0</td>\n",
       "      <td>0</td>\n",
       "      <td>0</td>\n",
       "      <td>...</td>\n",
       "      <td>0</td>\n",
       "      <td>0</td>\n",
       "      <td>0</td>\n",
       "      <td>0</td>\n",
       "      <td>0</td>\n",
       "      <td>0</td>\n",
       "      <td>0</td>\n",
       "      <td>0</td>\n",
       "      <td>0</td>\n",
       "      <td>0</td>\n",
       "    </tr>\n",
       "    <tr>\n",
       "      <th>2</th>\n",
       "      <td>0</td>\n",
       "      <td>1</td>\n",
       "      <td>0</td>\n",
       "      <td>0</td>\n",
       "      <td>0</td>\n",
       "      <td>0</td>\n",
       "      <td>0</td>\n",
       "      <td>0</td>\n",
       "      <td>0</td>\n",
       "      <td>0</td>\n",
       "      <td>...</td>\n",
       "      <td>0</td>\n",
       "      <td>0</td>\n",
       "      <td>0</td>\n",
       "      <td>0</td>\n",
       "      <td>0</td>\n",
       "      <td>0</td>\n",
       "      <td>0</td>\n",
       "      <td>0</td>\n",
       "      <td>0</td>\n",
       "      <td>0</td>\n",
       "    </tr>\n",
       "    <tr>\n",
       "      <th>3</th>\n",
       "      <td>0</td>\n",
       "      <td>0</td>\n",
       "      <td>1</td>\n",
       "      <td>0</td>\n",
       "      <td>0</td>\n",
       "      <td>0</td>\n",
       "      <td>0</td>\n",
       "      <td>0</td>\n",
       "      <td>0</td>\n",
       "      <td>0</td>\n",
       "      <td>...</td>\n",
       "      <td>0</td>\n",
       "      <td>0</td>\n",
       "      <td>0</td>\n",
       "      <td>0</td>\n",
       "      <td>0</td>\n",
       "      <td>0</td>\n",
       "      <td>0</td>\n",
       "      <td>0</td>\n",
       "      <td>0</td>\n",
       "      <td>0</td>\n",
       "    </tr>\n",
       "    <tr>\n",
       "      <th>4</th>\n",
       "      <td>1</td>\n",
       "      <td>0</td>\n",
       "      <td>0</td>\n",
       "      <td>0</td>\n",
       "      <td>0</td>\n",
       "      <td>0</td>\n",
       "      <td>0</td>\n",
       "      <td>0</td>\n",
       "      <td>0</td>\n",
       "      <td>0</td>\n",
       "      <td>...</td>\n",
       "      <td>0</td>\n",
       "      <td>0</td>\n",
       "      <td>0</td>\n",
       "      <td>0</td>\n",
       "      <td>0</td>\n",
       "      <td>0</td>\n",
       "      <td>0</td>\n",
       "      <td>0</td>\n",
       "      <td>0</td>\n",
       "      <td>0</td>\n",
       "    </tr>\n",
       "  </tbody>\n",
       "</table>\n",
       "<p>5 rows × 1237 columns</p>\n",
       "</div>"
      ],
      "text/plain": [
       "   BTop_1  BTop_2  BTop_3  BTop_4  BTop_5  BTop_6  BTop_7  BTop_8  BTop_9  \\\n",
       "0       1       0       0       0       0       0       0       0       0   \n",
       "1       1       0       0       0       0       0       0       0       0   \n",
       "2       0       1       0       0       0       0       0       0       0   \n",
       "3       0       0       1       0       0       0       0       0       0   \n",
       "4       1       0       0       0       0       0       0       0       0   \n",
       "\n",
       "   BTop_10  ...  RSup_141  RSup_143  RSup_145  RSup_146  RSup_147  RSup_148  \\\n",
       "0        0  ...         0         0         0         0         0         0   \n",
       "1        0  ...         0         0         0         0         0         0   \n",
       "2        0  ...         0         0         0         0         0         0   \n",
       "3        0  ...         0         0         0         0         0         0   \n",
       "4        0  ...         0         0         0         0         0         0   \n",
       "\n",
       "   RSup_149  RSup_150  RSup_152  RSup_153  \n",
       "0         0         0         0         0  \n",
       "1         0         0         0         0  \n",
       "2         0         0         0         0  \n",
       "3         0         0         0         0  \n",
       "4         0         0         0         0  \n",
       "\n",
       "[5 rows x 1237 columns]"
      ]
     },
     "execution_count": 31,
     "metadata": {},
     "output_type": "execute_result"
    }
   ],
   "source": [
    "X.head()"
   ]
  },
  {
   "cell_type": "code",
   "execution_count": 32,
   "metadata": {},
   "outputs": [
    {
     "data": {
      "text/plain": [
       "(19679, 1237)"
      ]
     },
     "execution_count": 32,
     "metadata": {},
     "output_type": "execute_result"
    }
   ],
   "source": [
    "X.shape"
   ]
  },
  {
   "cell_type": "code",
   "execution_count": 33,
   "metadata": {},
   "outputs": [],
   "source": [
    "from sklearn.model_selection import train_test_split"
   ]
  },
  {
   "cell_type": "code",
   "execution_count": 34,
   "metadata": {},
   "outputs": [],
   "source": [
    "X_train,X_test,y_train,y_test = train_test_split(X,y,test_size=0.3,random_state=101)"
   ]
  },
  {
   "cell_type": "code",
   "execution_count": 35,
   "metadata": {},
   "outputs": [],
   "source": [
    "from sklearn.tree import DecisionTreeClassifier"
   ]
  },
  {
   "cell_type": "code",
   "execution_count": 36,
   "metadata": {
    "lines_to_next_cell": 2
   },
   "outputs": [],
   "source": [
    "dtc = DecisionTreeClassifier()"
   ]
  },
  {
   "cell_type": "code",
   "execution_count": 37,
   "metadata": {},
   "outputs": [
    {
     "data": {
      "text/plain": [
       "DecisionTreeClassifier(class_weight=None, criterion='gini', max_depth=None,\n",
       "                       max_features=None, max_leaf_nodes=None,\n",
       "                       min_impurity_decrease=0.0, min_impurity_split=None,\n",
       "                       min_samples_leaf=1, min_samples_split=2,\n",
       "                       min_weight_fraction_leaf=0.0, presort=False,\n",
       "                       random_state=None, splitter='best')"
      ]
     },
     "execution_count": 37,
     "metadata": {},
     "output_type": "execute_result"
    }
   ],
   "source": [
    "dtc.fit(X_train,y_train)"
   ]
  },
  {
   "cell_type": "code",
   "execution_count": 38,
   "metadata": {},
   "outputs": [],
   "source": [
    "predict_dtc = dtc.predict(X_test)"
   ]
  },
  {
   "cell_type": "code",
   "execution_count": 39,
   "metadata": {},
   "outputs": [],
   "source": [
    "from sklearn.metrics import classification_report,confusion_matrix"
   ]
  },
  {
   "cell_type": "code",
   "execution_count": 40,
   "metadata": {},
   "outputs": [
    {
     "name": "stdout",
     "output_type": "stream",
     "text": [
      "[[1546 1409]\n",
      " [1480 1469]]\n",
      "\n",
      "\n",
      "              precision    recall  f1-score   support\n",
      "\n",
      "           0       0.51      0.52      0.52      2955\n",
      "           1       0.51      0.50      0.50      2949\n",
      "\n",
      "    accuracy                           0.51      5904\n",
      "   macro avg       0.51      0.51      0.51      5904\n",
      "weighted avg       0.51      0.51      0.51      5904\n",
      "\n"
     ]
    }
   ],
   "source": [
    "print (confusion_matrix(y_test,predict_dtc))\n",
    "print('\\n')\n",
    "print(classification_report(y_test,predict_dtc))"
   ]
  },
  {
   "cell_type": "code",
   "execution_count": 41,
   "metadata": {},
   "outputs": [],
   "source": [
    "from sklearn.ensemble import RandomForestClassifier"
   ]
  },
  {
   "cell_type": "code",
   "execution_count": 42,
   "metadata": {
    "lines_to_next_cell": 2
   },
   "outputs": [],
   "source": [
    "rfc = RandomForestClassifier(n_estimators=300)"
   ]
  },
  {
   "cell_type": "code",
   "execution_count": 43,
   "metadata": {},
   "outputs": [
    {
     "data": {
      "text/plain": [
       "RandomForestClassifier(bootstrap=True, class_weight=None, criterion='gini',\n",
       "                       max_depth=None, max_features='auto', max_leaf_nodes=None,\n",
       "                       min_impurity_decrease=0.0, min_impurity_split=None,\n",
       "                       min_samples_leaf=1, min_samples_split=2,\n",
       "                       min_weight_fraction_leaf=0.0, n_estimators=300,\n",
       "                       n_jobs=None, oob_score=False, random_state=None,\n",
       "                       verbose=0, warm_start=False)"
      ]
     },
     "execution_count": 43,
     "metadata": {},
     "output_type": "execute_result"
    }
   ],
   "source": [
    "rfc.fit(X_train,y_train)"
   ]
  },
  {
   "cell_type": "code",
   "execution_count": 44,
   "metadata": {},
   "outputs": [],
   "source": [
    "predict_rfc = rfc.predict(X_test)"
   ]
  },
  {
   "cell_type": "code",
   "execution_count": 45,
   "metadata": {
    "scrolled": false
   },
   "outputs": [
    {
     "name": "stdout",
     "output_type": "stream",
     "text": [
      "[[1694 1261]\n",
      " [1576 1373]]\n",
      "\n",
      "\n",
      "              precision    recall  f1-score   support\n",
      "\n",
      "           0       0.52      0.57      0.54      2955\n",
      "           1       0.52      0.47      0.49      2949\n",
      "\n",
      "    accuracy                           0.52      5904\n",
      "   macro avg       0.52      0.52      0.52      5904\n",
      "weighted avg       0.52      0.52      0.52      5904\n",
      "\n"
     ]
    }
   ],
   "source": [
    "print (confusion_matrix(y_test,predict_rfc))\n",
    "print('\\n')\n",
    "print(classification_report(y_test,predict_rfc))"
   ]
  }
 ],
 "metadata": {
  "jupytext": {
   "encoding": "# -*- coding: utf-8 -*-",
   "formats": "ipynb,py:light"
  },
  "kernelspec": {
   "display_name": "Python 3",
   "language": "python",
   "name": "python3"
  },
  "language_info": {
   "codemirror_mode": {
    "name": "ipython",
    "version": 3
   },
   "file_extension": ".py",
   "mimetype": "text/x-python",
   "name": "python",
   "nbconvert_exporter": "python",
   "pygments_lexer": "ipython3",
   "version": "3.7.3"
  }
 },
 "nbformat": 4,
 "nbformat_minor": 2
}
