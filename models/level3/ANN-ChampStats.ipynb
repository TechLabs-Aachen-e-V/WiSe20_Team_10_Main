{
 "cells": [
  {
   "cell_type": "code",
   "execution_count": 2,
   "id": "motivated-criterion",
   "metadata": {},
   "outputs": [],
   "source": [
    "import pandas as pd\n",
    "import numpy as np\n",
    "import matplotlib.pyplot as plt\n",
    "import seaborn as sns\n",
    "%matplotlib inline\n",
    "\n",
    "import torch\n",
    "import torch.nn as nn"
   ]
  },
  {
   "cell_type": "code",
   "execution_count": 4,
   "id": "played-oakland",
   "metadata": {},
   "outputs": [],
   "source": [
    "df = pd.read_csv('../../data/processed/LOLOracleData_ChampStats.csv')"
   ]
  },
  {
   "cell_type": "code",
   "execution_count": 5,
   "id": "persistent-mailman",
   "metadata": {},
   "outputs": [
    {
     "data": {
      "text/html": [
       "<div>\n",
       "<style scoped>\n",
       "    .dataframe tbody tr th:only-of-type {\n",
       "        vertical-align: middle;\n",
       "    }\n",
       "\n",
       "    .dataframe tbody tr th {\n",
       "        vertical-align: top;\n",
       "    }\n",
       "\n",
       "    .dataframe thead th {\n",
       "        text-align: right;\n",
       "    }\n",
       "</style>\n",
       "<table border=\"1\" class=\"dataframe\">\n",
       "  <thead>\n",
       "    <tr style=\"text-align: right;\">\n",
       "      <th></th>\n",
       "      <th>BTop</th>\n",
       "      <th>BTopWr</th>\n",
       "      <th>BToptags</th>\n",
       "      <th>BTophp</th>\n",
       "      <th>BTophpperlevel</th>\n",
       "      <th>BTopmovespeed</th>\n",
       "      <th>BToparmor</th>\n",
       "      <th>BToparmorperlevel</th>\n",
       "      <th>BTopspellblock</th>\n",
       "      <th>BTopspellblockperlevel</th>\n",
       "      <th>...</th>\n",
       "      <th>RSupspellblock</th>\n",
       "      <th>RSupspellblockperlevel</th>\n",
       "      <th>RSupattackrange</th>\n",
       "      <th>RSuphpregen</th>\n",
       "      <th>RSuphpregenperlevel</th>\n",
       "      <th>RSupattackdamage</th>\n",
       "      <th>RSupattackdamageperlevel</th>\n",
       "      <th>RSupattackspeedperlevel</th>\n",
       "      <th>RSupattackspeed</th>\n",
       "      <th>Winner</th>\n",
       "    </tr>\n",
       "  </thead>\n",
       "  <tbody>\n",
       "    <tr>\n",
       "      <th>0</th>\n",
       "      <td>Camille</td>\n",
       "      <td>0.524364</td>\n",
       "      <td>Diver</td>\n",
       "      <td>575.6</td>\n",
       "      <td>85</td>\n",
       "      <td>340</td>\n",
       "      <td>35.0</td>\n",
       "      <td>3.8</td>\n",
       "      <td>32.1</td>\n",
       "      <td>1.25</td>\n",
       "      <td>...</td>\n",
       "      <td>30.0</td>\n",
       "      <td>0.50</td>\n",
       "      <td>525</td>\n",
       "      <td>5.5</td>\n",
       "      <td>0.55</td>\n",
       "      <td>53.5440</td>\n",
       "      <td>3.3000</td>\n",
       "      <td>2.300</td>\n",
       "      <td>0.625</td>\n",
       "      <td>1</td>\n",
       "    </tr>\n",
       "    <tr>\n",
       "      <th>1</th>\n",
       "      <td>Camille</td>\n",
       "      <td>0.524364</td>\n",
       "      <td>Diver</td>\n",
       "      <td>575.6</td>\n",
       "      <td>85</td>\n",
       "      <td>340</td>\n",
       "      <td>35.0</td>\n",
       "      <td>3.8</td>\n",
       "      <td>32.1</td>\n",
       "      <td>1.25</td>\n",
       "      <td>...</td>\n",
       "      <td>30.0</td>\n",
       "      <td>0.50</td>\n",
       "      <td>525</td>\n",
       "      <td>5.5</td>\n",
       "      <td>0.55</td>\n",
       "      <td>54.9379</td>\n",
       "      <td>3.1416</td>\n",
       "      <td>1.360</td>\n",
       "      <td>0.625</td>\n",
       "      <td>0</td>\n",
       "    </tr>\n",
       "    <tr>\n",
       "      <th>2</th>\n",
       "      <td>Irelia</td>\n",
       "      <td>0.513399</td>\n",
       "      <td>Diver</td>\n",
       "      <td>580.0</td>\n",
       "      <td>95</td>\n",
       "      <td>335</td>\n",
       "      <td>36.0</td>\n",
       "      <td>3.0</td>\n",
       "      <td>32.0</td>\n",
       "      <td>1.25</td>\n",
       "      <td>...</td>\n",
       "      <td>32.1</td>\n",
       "      <td>1.25</td>\n",
       "      <td>125</td>\n",
       "      <td>5.0</td>\n",
       "      <td>0.75</td>\n",
       "      <td>63.5400</td>\n",
       "      <td>3.3000</td>\n",
       "      <td>2.125</td>\n",
       "      <td>0.800</td>\n",
       "      <td>0</td>\n",
       "    </tr>\n",
       "    <tr>\n",
       "      <th>3</th>\n",
       "      <td>Graves</td>\n",
       "      <td>0.511305</td>\n",
       "      <td>Specialist</td>\n",
       "      <td>555.0</td>\n",
       "      <td>92</td>\n",
       "      <td>340</td>\n",
       "      <td>33.0</td>\n",
       "      <td>3.4</td>\n",
       "      <td>32.0</td>\n",
       "      <td>1.25</td>\n",
       "      <td>...</td>\n",
       "      <td>32.0</td>\n",
       "      <td>1.25</td>\n",
       "      <td>150</td>\n",
       "      <td>7.0</td>\n",
       "      <td>0.50</td>\n",
       "      <td>62.0000</td>\n",
       "      <td>2.0000</td>\n",
       "      <td>2.500</td>\n",
       "      <td>0.667</td>\n",
       "      <td>1</td>\n",
       "    </tr>\n",
       "    <tr>\n",
       "      <th>4</th>\n",
       "      <td>Camille</td>\n",
       "      <td>0.524364</td>\n",
       "      <td>Diver</td>\n",
       "      <td>575.6</td>\n",
       "      <td>85</td>\n",
       "      <td>340</td>\n",
       "      <td>35.0</td>\n",
       "      <td>3.8</td>\n",
       "      <td>32.1</td>\n",
       "      <td>1.25</td>\n",
       "      <td>...</td>\n",
       "      <td>28.0</td>\n",
       "      <td>1.25</td>\n",
       "      <td>175</td>\n",
       "      <td>10.0</td>\n",
       "      <td>0.65</td>\n",
       "      <td>64.0000</td>\n",
       "      <td>3.3000</td>\n",
       "      <td>2.950</td>\n",
       "      <td>0.644</td>\n",
       "      <td>1</td>\n",
       "    </tr>\n",
       "  </tbody>\n",
       "</table>\n",
       "<p>5 rows × 171 columns</p>\n",
       "</div>"
      ],
      "text/plain": [
       "      BTop    BTopWr    BToptags  BTophp  BTophpperlevel  BTopmovespeed  \\\n",
       "0  Camille  0.524364       Diver   575.6              85            340   \n",
       "1  Camille  0.524364       Diver   575.6              85            340   \n",
       "2   Irelia  0.513399       Diver   580.0              95            335   \n",
       "3   Graves  0.511305  Specialist   555.0              92            340   \n",
       "4  Camille  0.524364       Diver   575.6              85            340   \n",
       "\n",
       "   BToparmor  BToparmorperlevel  BTopspellblock  BTopspellblockperlevel  ...  \\\n",
       "0       35.0                3.8            32.1                    1.25  ...   \n",
       "1       35.0                3.8            32.1                    1.25  ...   \n",
       "2       36.0                3.0            32.0                    1.25  ...   \n",
       "3       33.0                3.4            32.0                    1.25  ...   \n",
       "4       35.0                3.8            32.1                    1.25  ...   \n",
       "\n",
       "   RSupspellblock  RSupspellblockperlevel  RSupattackrange  RSuphpregen  \\\n",
       "0            30.0                    0.50              525          5.5   \n",
       "1            30.0                    0.50              525          5.5   \n",
       "2            32.1                    1.25              125          5.0   \n",
       "3            32.0                    1.25              150          7.0   \n",
       "4            28.0                    1.25              175         10.0   \n",
       "\n",
       "   RSuphpregenperlevel  RSupattackdamage  RSupattackdamageperlevel  \\\n",
       "0                 0.55           53.5440                    3.3000   \n",
       "1                 0.55           54.9379                    3.1416   \n",
       "2                 0.75           63.5400                    3.3000   \n",
       "3                 0.50           62.0000                    2.0000   \n",
       "4                 0.65           64.0000                    3.3000   \n",
       "\n",
       "  RSupattackspeedperlevel  RSupattackspeed Winner  \n",
       "0                   2.300            0.625      1  \n",
       "1                   1.360            0.625      0  \n",
       "2                   2.125            0.800      0  \n",
       "3                   2.500            0.667      1  \n",
       "4                   2.950            0.644      1  \n",
       "\n",
       "[5 rows x 171 columns]"
      ]
     },
     "execution_count": 5,
     "metadata": {},
     "output_type": "execute_result"
    }
   ],
   "source": [
    "df.head()"
   ]
  },
  {
   "cell_type": "code",
   "execution_count": 6,
   "id": "incorrect-packet",
   "metadata": {},
   "outputs": [
    {
     "name": "stdout",
     "output_type": "stream",
     "text": [
      "Index(['BTop', 'BTopWr', 'BToptags', 'BTophp', 'BTophpperlevel',\n",
      "       'BTopmovespeed', 'BToparmor', 'BToparmorperlevel', 'BTopspellblock',\n",
      "       'BTopspellblockperlevel',\n",
      "       ...\n",
      "       'RSupspellblock', 'RSupspellblockperlevel', 'RSupattackrange',\n",
      "       'RSuphpregen', 'RSuphpregenperlevel', 'RSupattackdamage',\n",
      "       'RSupattackdamageperlevel', 'RSupattackspeedperlevel',\n",
      "       'RSupattackspeed', 'Winner'],\n",
      "      dtype='object', length=171)\n"
     ]
    }
   ],
   "source": [
    "print(df.columns)"
   ]
  },
  {
   "cell_type": "code",
   "execution_count": 7,
   "id": "documentary-harassment",
   "metadata": {},
   "outputs": [],
   "source": [
    "Blue = ['BTophpperlevel','BToparmorperlevel','BTopspellblock',\n",
    " 'BTopspellblockperlevel','BTophpregenperlevel','BTopattackdamageperlevel','BTopattackspeedperlevel',\n",
    " 'BJnghpperlevel','BJngarmorperlevel','BJngspellblock',\n",
    " 'BJngspellblockperlevel','BJnghpregenperlevel','BJngattackdamageperlevel','BJngattackspeedperlevel',\n",
    " 'BMidhpperlevel','BMidarmorperlevel','BMidspellblock',\n",
    " 'BMidspellblockperlevel','BMidhpregenperlevel','BMidattackdamageperlevel','BMidattackspeedperlevel',\n",
    " 'BAdchpperlevel','BAdcarmorperlevel','BAdcspellblock',\n",
    " 'BAdcspellblockperlevel','BAdchpregenperlevel','BAdcattackdamageperlevel','BAdcattackspeedperlevel',\n",
    " 'BSuphpperlevel','BSuparmorperlevel','BSupspellblock',\n",
    " 'BSupspellblockperlevel','BSuphpregenperlevel','BSupattackdamageperlevel','BSupattackspeedperlevel']"
   ]
  },
  {
   "cell_type": "code",
   "execution_count": 8,
   "id": "sunrise-liechtenstein",
   "metadata": {},
   "outputs": [],
   "source": [
    "# Blue"
   ]
  },
  {
   "cell_type": "code",
   "execution_count": 12,
   "id": "duplicate-writer",
   "metadata": {},
   "outputs": [],
   "source": [
    "Red = ['R'+blue[1:] for blue in Blue]"
   ]
  },
  {
   "cell_type": "code",
   "execution_count": 13,
   "id": "considerable-discretion",
   "metadata": {},
   "outputs": [],
   "source": [
    "# Red"
   ]
  },
  {
   "cell_type": "code",
   "execution_count": 14,
   "id": "advisory-henry",
   "metadata": {},
   "outputs": [],
   "source": [
    "df.drop(Blue,axis=1,inplace=True)"
   ]
  },
  {
   "cell_type": "code",
   "execution_count": 15,
   "id": "immediate-automation",
   "metadata": {},
   "outputs": [
    {
     "data": {
      "text/html": [
       "<div>\n",
       "<style scoped>\n",
       "    .dataframe tbody tr th:only-of-type {\n",
       "        vertical-align: middle;\n",
       "    }\n",
       "\n",
       "    .dataframe tbody tr th {\n",
       "        vertical-align: top;\n",
       "    }\n",
       "\n",
       "    .dataframe thead th {\n",
       "        text-align: right;\n",
       "    }\n",
       "</style>\n",
       "<table border=\"1\" class=\"dataframe\">\n",
       "  <thead>\n",
       "    <tr style=\"text-align: right;\">\n",
       "      <th></th>\n",
       "      <th>BTop</th>\n",
       "      <th>BTopWr</th>\n",
       "      <th>BToptags</th>\n",
       "      <th>BTophp</th>\n",
       "      <th>BTopmovespeed</th>\n",
       "      <th>BToparmor</th>\n",
       "      <th>BTopattackrange</th>\n",
       "      <th>BTophpregen</th>\n",
       "      <th>BTopattackdamage</th>\n",
       "      <th>BTopattackspeed</th>\n",
       "      <th>...</th>\n",
       "      <th>RSupspellblock</th>\n",
       "      <th>RSupspellblockperlevel</th>\n",
       "      <th>RSupattackrange</th>\n",
       "      <th>RSuphpregen</th>\n",
       "      <th>RSuphpregenperlevel</th>\n",
       "      <th>RSupattackdamage</th>\n",
       "      <th>RSupattackdamageperlevel</th>\n",
       "      <th>RSupattackspeedperlevel</th>\n",
       "      <th>RSupattackspeed</th>\n",
       "      <th>Winner</th>\n",
       "    </tr>\n",
       "  </thead>\n",
       "  <tbody>\n",
       "    <tr>\n",
       "      <th>0</th>\n",
       "      <td>Camille</td>\n",
       "      <td>0.524364</td>\n",
       "      <td>Diver</td>\n",
       "      <td>575.6</td>\n",
       "      <td>340</td>\n",
       "      <td>35.0</td>\n",
       "      <td>125</td>\n",
       "      <td>8.5</td>\n",
       "      <td>68.0</td>\n",
       "      <td>0.644</td>\n",
       "      <td>...</td>\n",
       "      <td>30.0</td>\n",
       "      <td>0.50</td>\n",
       "      <td>525</td>\n",
       "      <td>5.5</td>\n",
       "      <td>0.55</td>\n",
       "      <td>53.5440</td>\n",
       "      <td>3.3000</td>\n",
       "      <td>2.300</td>\n",
       "      <td>0.625</td>\n",
       "      <td>1</td>\n",
       "    </tr>\n",
       "    <tr>\n",
       "      <th>1</th>\n",
       "      <td>Camille</td>\n",
       "      <td>0.524364</td>\n",
       "      <td>Diver</td>\n",
       "      <td>575.6</td>\n",
       "      <td>340</td>\n",
       "      <td>35.0</td>\n",
       "      <td>125</td>\n",
       "      <td>8.5</td>\n",
       "      <td>68.0</td>\n",
       "      <td>0.644</td>\n",
       "      <td>...</td>\n",
       "      <td>30.0</td>\n",
       "      <td>0.50</td>\n",
       "      <td>525</td>\n",
       "      <td>5.5</td>\n",
       "      <td>0.55</td>\n",
       "      <td>54.9379</td>\n",
       "      <td>3.1416</td>\n",
       "      <td>1.360</td>\n",
       "      <td>0.625</td>\n",
       "      <td>0</td>\n",
       "    </tr>\n",
       "    <tr>\n",
       "      <th>2</th>\n",
       "      <td>Irelia</td>\n",
       "      <td>0.513399</td>\n",
       "      <td>Diver</td>\n",
       "      <td>580.0</td>\n",
       "      <td>335</td>\n",
       "      <td>36.0</td>\n",
       "      <td>200</td>\n",
       "      <td>8.5</td>\n",
       "      <td>65.0</td>\n",
       "      <td>0.656</td>\n",
       "      <td>...</td>\n",
       "      <td>32.1</td>\n",
       "      <td>1.25</td>\n",
       "      <td>125</td>\n",
       "      <td>5.0</td>\n",
       "      <td>0.75</td>\n",
       "      <td>63.5400</td>\n",
       "      <td>3.3000</td>\n",
       "      <td>2.125</td>\n",
       "      <td>0.800</td>\n",
       "      <td>0</td>\n",
       "    </tr>\n",
       "    <tr>\n",
       "      <th>3</th>\n",
       "      <td>Graves</td>\n",
       "      <td>0.511305</td>\n",
       "      <td>Specialist</td>\n",
       "      <td>555.0</td>\n",
       "      <td>340</td>\n",
       "      <td>33.0</td>\n",
       "      <td>425</td>\n",
       "      <td>8.0</td>\n",
       "      <td>68.0</td>\n",
       "      <td>0.475</td>\n",
       "      <td>...</td>\n",
       "      <td>32.0</td>\n",
       "      <td>1.25</td>\n",
       "      <td>150</td>\n",
       "      <td>7.0</td>\n",
       "      <td>0.50</td>\n",
       "      <td>62.0000</td>\n",
       "      <td>2.0000</td>\n",
       "      <td>2.500</td>\n",
       "      <td>0.667</td>\n",
       "      <td>1</td>\n",
       "    </tr>\n",
       "    <tr>\n",
       "      <th>4</th>\n",
       "      <td>Camille</td>\n",
       "      <td>0.524364</td>\n",
       "      <td>Diver</td>\n",
       "      <td>575.6</td>\n",
       "      <td>340</td>\n",
       "      <td>35.0</td>\n",
       "      <td>125</td>\n",
       "      <td>8.5</td>\n",
       "      <td>68.0</td>\n",
       "      <td>0.644</td>\n",
       "      <td>...</td>\n",
       "      <td>28.0</td>\n",
       "      <td>1.25</td>\n",
       "      <td>175</td>\n",
       "      <td>10.0</td>\n",
       "      <td>0.65</td>\n",
       "      <td>64.0000</td>\n",
       "      <td>3.3000</td>\n",
       "      <td>2.950</td>\n",
       "      <td>0.644</td>\n",
       "      <td>1</td>\n",
       "    </tr>\n",
       "  </tbody>\n",
       "</table>\n",
       "<p>5 rows × 136 columns</p>\n",
       "</div>"
      ],
      "text/plain": [
       "      BTop    BTopWr    BToptags  BTophp  BTopmovespeed  BToparmor  \\\n",
       "0  Camille  0.524364       Diver   575.6            340       35.0   \n",
       "1  Camille  0.524364       Diver   575.6            340       35.0   \n",
       "2   Irelia  0.513399       Diver   580.0            335       36.0   \n",
       "3   Graves  0.511305  Specialist   555.0            340       33.0   \n",
       "4  Camille  0.524364       Diver   575.6            340       35.0   \n",
       "\n",
       "   BTopattackrange  BTophpregen  BTopattackdamage  BTopattackspeed  ...  \\\n",
       "0              125          8.5              68.0            0.644  ...   \n",
       "1              125          8.5              68.0            0.644  ...   \n",
       "2              200          8.5              65.0            0.656  ...   \n",
       "3              425          8.0              68.0            0.475  ...   \n",
       "4              125          8.5              68.0            0.644  ...   \n",
       "\n",
       "  RSupspellblock  RSupspellblockperlevel RSupattackrange  RSuphpregen  \\\n",
       "0           30.0                    0.50             525          5.5   \n",
       "1           30.0                    0.50             525          5.5   \n",
       "2           32.1                    1.25             125          5.0   \n",
       "3           32.0                    1.25             150          7.0   \n",
       "4           28.0                    1.25             175         10.0   \n",
       "\n",
       "   RSuphpregenperlevel  RSupattackdamage  RSupattackdamageperlevel  \\\n",
       "0                 0.55           53.5440                    3.3000   \n",
       "1                 0.55           54.9379                    3.1416   \n",
       "2                 0.75           63.5400                    3.3000   \n",
       "3                 0.50           62.0000                    2.0000   \n",
       "4                 0.65           64.0000                    3.3000   \n",
       "\n",
       "   RSupattackspeedperlevel  RSupattackspeed  Winner  \n",
       "0                    2.300            0.625       1  \n",
       "1                    1.360            0.625       0  \n",
       "2                    2.125            0.800       0  \n",
       "3                    2.500            0.667       1  \n",
       "4                    2.950            0.644       1  \n",
       "\n",
       "[5 rows x 136 columns]"
      ]
     },
     "execution_count": 15,
     "metadata": {},
     "output_type": "execute_result"
    }
   ],
   "source": [
    "df.head()"
   ]
  },
  {
   "cell_type": "code",
   "execution_count": 16,
   "id": "constant-answer",
   "metadata": {},
   "outputs": [],
   "source": [
    "df.drop(Red,axis=1,inplace=True)"
   ]
  },
  {
   "cell_type": "code",
   "execution_count": 17,
   "id": "waiting-polish",
   "metadata": {},
   "outputs": [
    {
     "data": {
      "text/html": [
       "<div>\n",
       "<style scoped>\n",
       "    .dataframe tbody tr th:only-of-type {\n",
       "        vertical-align: middle;\n",
       "    }\n",
       "\n",
       "    .dataframe tbody tr th {\n",
       "        vertical-align: top;\n",
       "    }\n",
       "\n",
       "    .dataframe thead th {\n",
       "        text-align: right;\n",
       "    }\n",
       "</style>\n",
       "<table border=\"1\" class=\"dataframe\">\n",
       "  <thead>\n",
       "    <tr style=\"text-align: right;\">\n",
       "      <th></th>\n",
       "      <th>BTop</th>\n",
       "      <th>BTopWr</th>\n",
       "      <th>BToptags</th>\n",
       "      <th>BTophp</th>\n",
       "      <th>BTopmovespeed</th>\n",
       "      <th>BToparmor</th>\n",
       "      <th>BTopattackrange</th>\n",
       "      <th>BTophpregen</th>\n",
       "      <th>BTopattackdamage</th>\n",
       "      <th>BTopattackspeed</th>\n",
       "      <th>...</th>\n",
       "      <th>RSupWr</th>\n",
       "      <th>RSuptags</th>\n",
       "      <th>RSuphp</th>\n",
       "      <th>RSupmovespeed</th>\n",
       "      <th>RSuparmor</th>\n",
       "      <th>RSupattackrange</th>\n",
       "      <th>RSuphpregen</th>\n",
       "      <th>RSupattackdamage</th>\n",
       "      <th>RSupattackspeed</th>\n",
       "      <th>Winner</th>\n",
       "    </tr>\n",
       "  </thead>\n",
       "  <tbody>\n",
       "    <tr>\n",
       "      <th>0</th>\n",
       "      <td>Camille</td>\n",
       "      <td>0.524364</td>\n",
       "      <td>Diver</td>\n",
       "      <td>575.6</td>\n",
       "      <td>340</td>\n",
       "      <td>35.0</td>\n",
       "      <td>125</td>\n",
       "      <td>8.5</td>\n",
       "      <td>68.0</td>\n",
       "      <td>0.644</td>\n",
       "      <td>...</td>\n",
       "      <td>0.492260</td>\n",
       "      <td>Enchanter</td>\n",
       "      <td>534.0</td>\n",
       "      <td>335</td>\n",
       "      <td>26.00</td>\n",
       "      <td>525</td>\n",
       "      <td>5.5</td>\n",
       "      <td>53.5440</td>\n",
       "      <td>0.625</td>\n",
       "      <td>1</td>\n",
       "    </tr>\n",
       "    <tr>\n",
       "      <th>1</th>\n",
       "      <td>Camille</td>\n",
       "      <td>0.524364</td>\n",
       "      <td>Diver</td>\n",
       "      <td>575.6</td>\n",
       "      <td>340</td>\n",
       "      <td>35.0</td>\n",
       "      <td>125</td>\n",
       "      <td>8.5</td>\n",
       "      <td>68.0</td>\n",
       "      <td>0.644</td>\n",
       "      <td>...</td>\n",
       "      <td>0.440678</td>\n",
       "      <td>Artillery</td>\n",
       "      <td>520.0</td>\n",
       "      <td>340</td>\n",
       "      <td>21.88</td>\n",
       "      <td>525</td>\n",
       "      <td>5.5</td>\n",
       "      <td>54.9379</td>\n",
       "      <td>0.625</td>\n",
       "      <td>0</td>\n",
       "    </tr>\n",
       "    <tr>\n",
       "      <th>2</th>\n",
       "      <td>Irelia</td>\n",
       "      <td>0.513399</td>\n",
       "      <td>Diver</td>\n",
       "      <td>580.0</td>\n",
       "      <td>335</td>\n",
       "      <td>36.0</td>\n",
       "      <td>200</td>\n",
       "      <td>8.5</td>\n",
       "      <td>65.0</td>\n",
       "      <td>0.656</td>\n",
       "      <td>...</td>\n",
       "      <td>0.527418</td>\n",
       "      <td>Vanguard</td>\n",
       "      <td>565.0</td>\n",
       "      <td>335</td>\n",
       "      <td>39.00</td>\n",
       "      <td>125</td>\n",
       "      <td>5.0</td>\n",
       "      <td>63.5400</td>\n",
       "      <td>0.800</td>\n",
       "      <td>0</td>\n",
       "    </tr>\n",
       "    <tr>\n",
       "      <th>3</th>\n",
       "      <td>Graves</td>\n",
       "      <td>0.511305</td>\n",
       "      <td>Specialist</td>\n",
       "      <td>555.0</td>\n",
       "      <td>340</td>\n",
       "      <td>33.0</td>\n",
       "      <td>425</td>\n",
       "      <td>8.0</td>\n",
       "      <td>68.0</td>\n",
       "      <td>0.475</td>\n",
       "      <td>...</td>\n",
       "      <td>0.492582</td>\n",
       "      <td>Assassin</td>\n",
       "      <td>600.0</td>\n",
       "      <td>330</td>\n",
       "      <td>45.00</td>\n",
       "      <td>150</td>\n",
       "      <td>7.0</td>\n",
       "      <td>62.0000</td>\n",
       "      <td>0.667</td>\n",
       "      <td>1</td>\n",
       "    </tr>\n",
       "    <tr>\n",
       "      <th>4</th>\n",
       "      <td>Camille</td>\n",
       "      <td>0.524364</td>\n",
       "      <td>Diver</td>\n",
       "      <td>575.6</td>\n",
       "      <td>340</td>\n",
       "      <td>35.0</td>\n",
       "      <td>125</td>\n",
       "      <td>8.5</td>\n",
       "      <td>68.0</td>\n",
       "      <td>0.644</td>\n",
       "      <td>...</td>\n",
       "      <td>0.473513</td>\n",
       "      <td>Diver</td>\n",
       "      <td>580.0</td>\n",
       "      <td>345</td>\n",
       "      <td>40.00</td>\n",
       "      <td>175</td>\n",
       "      <td>10.0</td>\n",
       "      <td>64.0000</td>\n",
       "      <td>0.644</td>\n",
       "      <td>1</td>\n",
       "    </tr>\n",
       "  </tbody>\n",
       "</table>\n",
       "<p>5 rows × 101 columns</p>\n",
       "</div>"
      ],
      "text/plain": [
       "      BTop    BTopWr    BToptags  BTophp  BTopmovespeed  BToparmor  \\\n",
       "0  Camille  0.524364       Diver   575.6            340       35.0   \n",
       "1  Camille  0.524364       Diver   575.6            340       35.0   \n",
       "2   Irelia  0.513399       Diver   580.0            335       36.0   \n",
       "3   Graves  0.511305  Specialist   555.0            340       33.0   \n",
       "4  Camille  0.524364       Diver   575.6            340       35.0   \n",
       "\n",
       "   BTopattackrange  BTophpregen  BTopattackdamage  BTopattackspeed  ...  \\\n",
       "0              125          8.5              68.0            0.644  ...   \n",
       "1              125          8.5              68.0            0.644  ...   \n",
       "2              200          8.5              65.0            0.656  ...   \n",
       "3              425          8.0              68.0            0.475  ...   \n",
       "4              125          8.5              68.0            0.644  ...   \n",
       "\n",
       "     RSupWr   RSuptags RSuphp  RSupmovespeed  RSuparmor  RSupattackrange  \\\n",
       "0  0.492260  Enchanter  534.0            335      26.00              525   \n",
       "1  0.440678  Artillery  520.0            340      21.88              525   \n",
       "2  0.527418   Vanguard  565.0            335      39.00              125   \n",
       "3  0.492582   Assassin  600.0            330      45.00              150   \n",
       "4  0.473513      Diver  580.0            345      40.00              175   \n",
       "\n",
       "   RSuphpregen  RSupattackdamage  RSupattackspeed  Winner  \n",
       "0          5.5           53.5440            0.625       1  \n",
       "1          5.5           54.9379            0.625       0  \n",
       "2          5.0           63.5400            0.800       0  \n",
       "3          7.0           62.0000            0.667       1  \n",
       "4         10.0           64.0000            0.644       1  \n",
       "\n",
       "[5 rows x 101 columns]"
      ]
     },
     "execution_count": 17,
     "metadata": {},
     "output_type": "execute_result"
    }
   ],
   "source": [
    "df.head()"
   ]
  },
  {
   "cell_type": "code",
   "execution_count": 18,
   "id": "white-reduction",
   "metadata": {},
   "outputs": [],
   "source": [
    "role = ['BTop','BJng','BMid','BAdc','BSup','RTop','RJng','RMid','RAdc','RSup']\n",
    "df.drop(role,axis=1,inplace=True)"
   ]
  },
  {
   "cell_type": "code",
   "execution_count": 19,
   "id": "everyday-trash",
   "metadata": {},
   "outputs": [
    {
     "data": {
      "text/html": [
       "<div>\n",
       "<style scoped>\n",
       "    .dataframe tbody tr th:only-of-type {\n",
       "        vertical-align: middle;\n",
       "    }\n",
       "\n",
       "    .dataframe tbody tr th {\n",
       "        vertical-align: top;\n",
       "    }\n",
       "\n",
       "    .dataframe thead th {\n",
       "        text-align: right;\n",
       "    }\n",
       "</style>\n",
       "<table border=\"1\" class=\"dataframe\">\n",
       "  <thead>\n",
       "    <tr style=\"text-align: right;\">\n",
       "      <th></th>\n",
       "      <th>BTopWr</th>\n",
       "      <th>BToptags</th>\n",
       "      <th>BTophp</th>\n",
       "      <th>BTopmovespeed</th>\n",
       "      <th>BToparmor</th>\n",
       "      <th>BTopattackrange</th>\n",
       "      <th>BTophpregen</th>\n",
       "      <th>BTopattackdamage</th>\n",
       "      <th>BTopattackspeed</th>\n",
       "      <th>BJngWr</th>\n",
       "      <th>...</th>\n",
       "      <th>RSupWr</th>\n",
       "      <th>RSuptags</th>\n",
       "      <th>RSuphp</th>\n",
       "      <th>RSupmovespeed</th>\n",
       "      <th>RSuparmor</th>\n",
       "      <th>RSupattackrange</th>\n",
       "      <th>RSuphpregen</th>\n",
       "      <th>RSupattackdamage</th>\n",
       "      <th>RSupattackspeed</th>\n",
       "      <th>Winner</th>\n",
       "    </tr>\n",
       "  </thead>\n",
       "  <tbody>\n",
       "    <tr>\n",
       "      <th>0</th>\n",
       "      <td>0.524364</td>\n",
       "      <td>Diver</td>\n",
       "      <td>575.6</td>\n",
       "      <td>340</td>\n",
       "      <td>35.0</td>\n",
       "      <td>125</td>\n",
       "      <td>8.5</td>\n",
       "      <td>68.0</td>\n",
       "      <td>0.644</td>\n",
       "      <td>0.506967</td>\n",
       "      <td>...</td>\n",
       "      <td>0.492260</td>\n",
       "      <td>Enchanter</td>\n",
       "      <td>534.0</td>\n",
       "      <td>335</td>\n",
       "      <td>26.00</td>\n",
       "      <td>525</td>\n",
       "      <td>5.5</td>\n",
       "      <td>53.5440</td>\n",
       "      <td>0.625</td>\n",
       "      <td>1</td>\n",
       "    </tr>\n",
       "    <tr>\n",
       "      <th>1</th>\n",
       "      <td>0.524364</td>\n",
       "      <td>Diver</td>\n",
       "      <td>575.6</td>\n",
       "      <td>340</td>\n",
       "      <td>35.0</td>\n",
       "      <td>125</td>\n",
       "      <td>8.5</td>\n",
       "      <td>68.0</td>\n",
       "      <td>0.644</td>\n",
       "      <td>0.504318</td>\n",
       "      <td>...</td>\n",
       "      <td>0.440678</td>\n",
       "      <td>Artillery</td>\n",
       "      <td>520.0</td>\n",
       "      <td>340</td>\n",
       "      <td>21.88</td>\n",
       "      <td>525</td>\n",
       "      <td>5.5</td>\n",
       "      <td>54.9379</td>\n",
       "      <td>0.625</td>\n",
       "      <td>0</td>\n",
       "    </tr>\n",
       "    <tr>\n",
       "      <th>2</th>\n",
       "      <td>0.513399</td>\n",
       "      <td>Diver</td>\n",
       "      <td>580.0</td>\n",
       "      <td>335</td>\n",
       "      <td>36.0</td>\n",
       "      <td>200</td>\n",
       "      <td>8.5</td>\n",
       "      <td>65.0</td>\n",
       "      <td>0.656</td>\n",
       "      <td>0.486450</td>\n",
       "      <td>...</td>\n",
       "      <td>0.527418</td>\n",
       "      <td>Vanguard</td>\n",
       "      <td>565.0</td>\n",
       "      <td>335</td>\n",
       "      <td>39.00</td>\n",
       "      <td>125</td>\n",
       "      <td>5.0</td>\n",
       "      <td>63.5400</td>\n",
       "      <td>0.800</td>\n",
       "      <td>0</td>\n",
       "    </tr>\n",
       "    <tr>\n",
       "      <th>3</th>\n",
       "      <td>0.511305</td>\n",
       "      <td>Specialist</td>\n",
       "      <td>555.0</td>\n",
       "      <td>340</td>\n",
       "      <td>33.0</td>\n",
       "      <td>425</td>\n",
       "      <td>8.0</td>\n",
       "      <td>68.0</td>\n",
       "      <td>0.475</td>\n",
       "      <td>0.505097</td>\n",
       "      <td>...</td>\n",
       "      <td>0.492582</td>\n",
       "      <td>Assassin</td>\n",
       "      <td>600.0</td>\n",
       "      <td>330</td>\n",
       "      <td>45.00</td>\n",
       "      <td>150</td>\n",
       "      <td>7.0</td>\n",
       "      <td>62.0000</td>\n",
       "      <td>0.667</td>\n",
       "      <td>1</td>\n",
       "    </tr>\n",
       "    <tr>\n",
       "      <th>4</th>\n",
       "      <td>0.524364</td>\n",
       "      <td>Diver</td>\n",
       "      <td>575.6</td>\n",
       "      <td>340</td>\n",
       "      <td>35.0</td>\n",
       "      <td>125</td>\n",
       "      <td>8.5</td>\n",
       "      <td>68.0</td>\n",
       "      <td>0.644</td>\n",
       "      <td>0.509764</td>\n",
       "      <td>...</td>\n",
       "      <td>0.473513</td>\n",
       "      <td>Diver</td>\n",
       "      <td>580.0</td>\n",
       "      <td>345</td>\n",
       "      <td>40.00</td>\n",
       "      <td>175</td>\n",
       "      <td>10.0</td>\n",
       "      <td>64.0000</td>\n",
       "      <td>0.644</td>\n",
       "      <td>1</td>\n",
       "    </tr>\n",
       "  </tbody>\n",
       "</table>\n",
       "<p>5 rows × 91 columns</p>\n",
       "</div>"
      ],
      "text/plain": [
       "     BTopWr    BToptags  BTophp  BTopmovespeed  BToparmor  BTopattackrange  \\\n",
       "0  0.524364       Diver   575.6            340       35.0              125   \n",
       "1  0.524364       Diver   575.6            340       35.0              125   \n",
       "2  0.513399       Diver   580.0            335       36.0              200   \n",
       "3  0.511305  Specialist   555.0            340       33.0              425   \n",
       "4  0.524364       Diver   575.6            340       35.0              125   \n",
       "\n",
       "   BTophpregen  BTopattackdamage  BTopattackspeed    BJngWr  ...    RSupWr  \\\n",
       "0          8.5              68.0            0.644  0.506967  ...  0.492260   \n",
       "1          8.5              68.0            0.644  0.504318  ...  0.440678   \n",
       "2          8.5              65.0            0.656  0.486450  ...  0.527418   \n",
       "3          8.0              68.0            0.475  0.505097  ...  0.492582   \n",
       "4          8.5              68.0            0.644  0.509764  ...  0.473513   \n",
       "\n",
       "    RSuptags  RSuphp  RSupmovespeed  RSuparmor  RSupattackrange  RSuphpregen  \\\n",
       "0  Enchanter   534.0            335      26.00              525          5.5   \n",
       "1  Artillery   520.0            340      21.88              525          5.5   \n",
       "2   Vanguard   565.0            335      39.00              125          5.0   \n",
       "3   Assassin   600.0            330      45.00              150          7.0   \n",
       "4      Diver   580.0            345      40.00              175         10.0   \n",
       "\n",
       "   RSupattackdamage  RSupattackspeed Winner  \n",
       "0           53.5440            0.625      1  \n",
       "1           54.9379            0.625      0  \n",
       "2           63.5400            0.800      0  \n",
       "3           62.0000            0.667      1  \n",
       "4           64.0000            0.644      1  \n",
       "\n",
       "[5 rows x 91 columns]"
      ]
     },
     "execution_count": 19,
     "metadata": {},
     "output_type": "execute_result"
    }
   ],
   "source": [
    "df.head()"
   ]
  },
  {
   "cell_type": "code",
   "execution_count": 20,
   "id": "nuclear-broadcasting",
   "metadata": {},
   "outputs": [
    {
     "data": {
      "text/plain": [
       "0    9920\n",
       "1    9759\n",
       "Name: Winner, dtype: int64"
      ]
     },
     "execution_count": 20,
     "metadata": {},
     "output_type": "execute_result"
    }
   ],
   "source": [
    "df['Winner'].value_counts()"
   ]
  },
  {
   "cell_type": "code",
   "execution_count": 21,
   "id": "listed-migration",
   "metadata": {},
   "outputs": [],
   "source": [
    "cat_cols = ['BToptags','BJngtags','BMidtags','BAdctags','BSuptags','RToptags','RJngtags','RMidtags','RAdctags','RSuptags']"
   ]
  },
  {
   "cell_type": "code",
   "execution_count": 22,
   "id": "stable-chess",
   "metadata": {},
   "outputs": [],
   "source": [
    "cont_cols = list(df.columns)\n",
    "\n",
    "for i in cont_cols:\n",
    "    if i in cat_cols:\n",
    "        cont_cols.remove(i)"
   ]
  },
  {
   "cell_type": "code",
   "execution_count": 23,
   "id": "significant-conservation",
   "metadata": {},
   "outputs": [],
   "source": [
    "cont_cols.remove('Winner')"
   ]
  },
  {
   "cell_type": "code",
   "execution_count": 24,
   "id": "lasting-steering",
   "metadata": {},
   "outputs": [
    {
     "data": {
      "text/plain": [
       "80"
      ]
     },
     "execution_count": 24,
     "metadata": {},
     "output_type": "execute_result"
    }
   ],
   "source": [
    "len(cont_cols)"
   ]
  },
  {
   "cell_type": "code",
   "execution_count": 25,
   "id": "collaborative-money",
   "metadata": {
    "scrolled": true
   },
   "outputs": [
    {
     "data": {
      "text/plain": [
       "91"
      ]
     },
     "execution_count": 25,
     "metadata": {},
     "output_type": "execute_result"
    }
   ],
   "source": [
    "len(df.columns)"
   ]
  },
  {
   "cell_type": "code",
   "execution_count": 26,
   "id": "greatest-excitement",
   "metadata": {},
   "outputs": [
    {
     "data": {
      "text/plain": [
       "10"
      ]
     },
     "execution_count": 26,
     "metadata": {},
     "output_type": "execute_result"
    }
   ],
   "source": [
    "len(cat_cols)"
   ]
  },
  {
   "cell_type": "code",
   "execution_count": 27,
   "id": "prospective-forum",
   "metadata": {},
   "outputs": [
    {
     "data": {
      "text/plain": [
       "BTopWr              float64\n",
       "BToptags             object\n",
       "BTophp              float64\n",
       "BTopmovespeed         int64\n",
       "BToparmor           float64\n",
       "                     ...   \n",
       "RSupattackrange       int64\n",
       "RSuphpregen         float64\n",
       "RSupattackdamage    float64\n",
       "RSupattackspeed     float64\n",
       "Winner                int64\n",
       "Length: 91, dtype: object"
      ]
     },
     "execution_count": 27,
     "metadata": {},
     "output_type": "execute_result"
    }
   ],
   "source": [
    "df.dtypes"
   ]
  },
  {
   "cell_type": "code",
   "execution_count": 28,
   "id": "invisible-finland",
   "metadata": {},
   "outputs": [],
   "source": [
    "for cat in cat_cols:\n",
    "    df[cat] = df[cat].astype('category')"
   ]
  },
  {
   "cell_type": "code",
   "execution_count": 29,
   "id": "alone-median",
   "metadata": {},
   "outputs": [
    {
     "data": {
      "text/plain": [
       "BTopWr               float64\n",
       "BToptags            category\n",
       "BTophp               float64\n",
       "BTopmovespeed          int64\n",
       "BToparmor            float64\n",
       "                      ...   \n",
       "RSupattackrange        int64\n",
       "RSuphpregen          float64\n",
       "RSupattackdamage     float64\n",
       "RSupattackspeed      float64\n",
       "Winner                 int64\n",
       "Length: 91, dtype: object"
      ]
     },
     "execution_count": 29,
     "metadata": {},
     "output_type": "execute_result"
    }
   ],
   "source": [
    "df.dtypes"
   ]
  },
  {
   "cell_type": "code",
   "execution_count": 30,
   "id": "happy-passport",
   "metadata": {},
   "outputs": [
    {
     "data": {
      "text/plain": [
       "0         Diver\n",
       "1         Diver\n",
       "2         Diver\n",
       "3    Specialist\n",
       "4         Diver\n",
       "Name: BToptags, dtype: category\n",
       "Categories (13, object): ['Artillery', 'Assassin', 'Battlemage', 'Burst', ..., 'Skirmisher', 'Specialist', 'Vanguard', 'Warden']"
      ]
     },
     "execution_count": 30,
     "metadata": {},
     "output_type": "execute_result"
    }
   ],
   "source": [
    "df['BToptags'].head()"
   ]
  },
  {
   "cell_type": "code",
   "execution_count": 31,
   "id": "overhead-force",
   "metadata": {},
   "outputs": [
    {
     "data": {
      "text/plain": [
       "Index(['Artillery', 'Assassin', 'Battlemage', 'Burst', 'Catcher', 'Diver',\n",
       "       'Enchanter', 'Juggernaut', 'Marksman', 'Skirmisher', 'Specialist',\n",
       "       'Vanguard', 'Warden'],\n",
       "      dtype='object')"
      ]
     },
     "execution_count": 31,
     "metadata": {},
     "output_type": "execute_result"
    }
   ],
   "source": [
    "df['BToptags'].cat.categories"
   ]
  },
  {
   "cell_type": "code",
   "execution_count": 32,
   "id": "crucial-enhancement",
   "metadata": {},
   "outputs": [
    {
     "data": {
      "text/plain": [
       "0         5\n",
       "1         5\n",
       "2         5\n",
       "3        10\n",
       "4         5\n",
       "         ..\n",
       "19674     0\n",
       "19675     8\n",
       "19676     8\n",
       "19677     2\n",
       "19678     5\n",
       "Length: 19679, dtype: int8"
      ]
     },
     "execution_count": 32,
     "metadata": {},
     "output_type": "execute_result"
    }
   ],
   "source": [
    "df['BToptags'].cat.codes"
   ]
  },
  {
   "cell_type": "code",
   "execution_count": 33,
   "id": "exotic-music",
   "metadata": {},
   "outputs": [],
   "source": [
    "cats = np.stack([df[col].cat.codes.values for col in cat_cols], 1)"
   ]
  },
  {
   "cell_type": "code",
   "execution_count": 34,
   "id": "present-alignment",
   "metadata": {},
   "outputs": [
    {
     "data": {
      "text/plain": [
       "array([[ 5, 11,  9, ...,  3,  8,  6],\n",
       "       [ 5, 10, 12, ...,  0,  8,  0],\n",
       "       [ 5,  1,  3, ...,  3,  8, 11],\n",
       "       ...,\n",
       "       [ 8, 10,  5, ...,  8,  8, 12],\n",
       "       [ 2,  7,  3, ...,  2,  8,  4],\n",
       "       [ 5,  5,  3, ..., 12,  8,  4]], dtype=int8)"
      ]
     },
     "execution_count": 34,
     "metadata": {},
     "output_type": "execute_result"
    }
   ],
   "source": [
    "cats"
   ]
  },
  {
   "cell_type": "code",
   "execution_count": 35,
   "id": "regional-throw",
   "metadata": {},
   "outputs": [
    {
     "data": {
      "text/plain": [
       "(19679, 10)"
      ]
     },
     "execution_count": 35,
     "metadata": {},
     "output_type": "execute_result"
    }
   ],
   "source": [
    "cats.shape"
   ]
  },
  {
   "cell_type": "code",
   "execution_count": 36,
   "id": "classified-globe",
   "metadata": {},
   "outputs": [],
   "source": [
    "cats = torch.tensor(cats, dtype=torch.int64)"
   ]
  },
  {
   "cell_type": "code",
   "execution_count": 37,
   "id": "miniature-sudan",
   "metadata": {},
   "outputs": [
    {
     "data": {
      "text/plain": [
       "tensor([[ 5, 11,  9,  ...,  3,  8,  6],\n",
       "        [ 5, 10, 12,  ...,  0,  8,  0],\n",
       "        [ 5,  1,  3,  ...,  3,  8, 11],\n",
       "        ...,\n",
       "        [ 8, 10,  5,  ...,  8,  8, 12],\n",
       "        [ 2,  7,  3,  ...,  2,  8,  4],\n",
       "        [ 5,  5,  3,  ..., 12,  8,  4]])"
      ]
     },
     "execution_count": 37,
     "metadata": {},
     "output_type": "execute_result"
    }
   ],
   "source": [
    "cats"
   ]
  },
  {
   "cell_type": "code",
   "execution_count": 38,
   "id": "refined-essence",
   "metadata": {},
   "outputs": [],
   "source": [
    "conts = np.stack([df[col].values for col in cont_cols], 1)\n",
    "conts = torch.tensor(conts, dtype=torch.float)"
   ]
  },
  {
   "cell_type": "code",
   "execution_count": 39,
   "id": "facial-version",
   "metadata": {},
   "outputs": [
    {
     "data": {
      "text/plain": [
       "tensor([[5.2436e-01, 5.7560e+02, 3.4000e+02,  ..., 5.5000e+00, 5.3544e+01,\n",
       "         6.2500e-01],\n",
       "        [5.2436e-01, 5.7560e+02, 3.4000e+02,  ..., 5.5000e+00, 5.4938e+01,\n",
       "         6.2500e-01],\n",
       "        [5.1340e-01, 5.8000e+02, 3.3500e+02,  ..., 5.0000e+00, 6.3540e+01,\n",
       "         8.0000e-01],\n",
       "        ...,\n",
       "        [4.9311e-01, 5.5900e+02, 3.2500e+02,  ..., 8.5000e+00, 5.5376e+01,\n",
       "         6.4400e-01],\n",
       "        [4.7015e-01, 5.3700e+02, 3.3000e+02,  ..., 7.0000e+00, 5.6000e+01,\n",
       "         6.2500e-01],\n",
       "        [5.2436e-01, 5.7560e+02, 3.4000e+02,  ..., 5.0000e+00, 6.2000e+01,\n",
       "         6.3500e-01]])"
      ]
     },
     "execution_count": 39,
     "metadata": {},
     "output_type": "execute_result"
    }
   ],
   "source": [
    "conts"
   ]
  },
  {
   "cell_type": "code",
   "execution_count": 40,
   "id": "provincial-spread",
   "metadata": {},
   "outputs": [
    {
     "data": {
      "text/plain": [
       "torch.Size([19679, 80])"
      ]
     },
     "execution_count": 40,
     "metadata": {},
     "output_type": "execute_result"
    }
   ],
   "source": [
    "conts.shape"
   ]
  },
  {
   "cell_type": "code",
   "execution_count": 41,
   "id": "junior-anime",
   "metadata": {},
   "outputs": [
    {
     "data": {
      "text/plain": [
       "'torch.FloatTensor'"
      ]
     },
     "execution_count": 41,
     "metadata": {},
     "output_type": "execute_result"
    }
   ],
   "source": [
    "conts.type()"
   ]
  },
  {
   "cell_type": "code",
   "execution_count": 42,
   "id": "seventh-irish",
   "metadata": {},
   "outputs": [],
   "source": [
    "y_col = ['Winner']"
   ]
  },
  {
   "cell_type": "code",
   "execution_count": 43,
   "id": "applied-kelly",
   "metadata": {},
   "outputs": [],
   "source": [
    "y = torch.tensor(df[y_col].values).flatten()\n",
    "\n",
    "#Note: the CrossEntropyLoss function expects a 1d y-tensor, so we end up using .flatten()"
   ]
  },
  {
   "cell_type": "code",
   "execution_count": 44,
   "id": "formed-ground",
   "metadata": {},
   "outputs": [
    {
     "data": {
      "text/plain": [
       "tensor([1, 0, 0,  ..., 0, 0, 1])"
      ]
     },
     "execution_count": 44,
     "metadata": {},
     "output_type": "execute_result"
    }
   ],
   "source": [
    "y"
   ]
  },
  {
   "cell_type": "code",
   "execution_count": 45,
   "id": "narrative-dividend",
   "metadata": {},
   "outputs": [
    {
     "data": {
      "text/plain": [
       "torch.Size([19679, 10])"
      ]
     },
     "execution_count": 45,
     "metadata": {},
     "output_type": "execute_result"
    }
   ],
   "source": [
    "cats.shape"
   ]
  },
  {
   "cell_type": "code",
   "execution_count": 46,
   "id": "basic-atlas",
   "metadata": {},
   "outputs": [
    {
     "data": {
      "text/plain": [
       "torch.Size([19679, 80])"
      ]
     },
     "execution_count": 46,
     "metadata": {},
     "output_type": "execute_result"
    }
   ],
   "source": [
    "conts.shape"
   ]
  },
  {
   "cell_type": "code",
   "execution_count": 47,
   "id": "banned-replication",
   "metadata": {},
   "outputs": [
    {
     "data": {
      "text/plain": [
       "torch.Size([19679])"
      ]
     },
     "execution_count": 47,
     "metadata": {},
     "output_type": "execute_result"
    }
   ],
   "source": [
    "y.shape"
   ]
  },
  {
   "cell_type": "code",
   "execution_count": 48,
   "id": "banner-snake",
   "metadata": {},
   "outputs": [
    {
     "data": {
      "text/plain": [
       "[(13, 7),\n",
       " (13, 7),\n",
       " (13, 7),\n",
       " (13, 7),\n",
       " (13, 7),\n",
       " (13, 7),\n",
       " (12, 6),\n",
       " (13, 7),\n",
       " (13, 7),\n",
       " (13, 7)]"
      ]
     },
     "execution_count": 48,
     "metadata": {},
     "output_type": "execute_result"
    }
   ],
   "source": [
    "cat_szs = [len(df[col].cat.categories) for col in cat_cols]\n",
    "emb_szs = [(size, min(50, (size+1)//2)) for size in cat_szs]\n",
    "emb_szs"
   ]
  },
  {
   "cell_type": "code",
   "execution_count": 49,
   "id": "unusual-satellite",
   "metadata": {},
   "outputs": [],
   "source": [
    "class TabularModel(nn.Module):\n",
    "\n",
    "    def __init__(self, emb_szs, n_cont, out_sz, layers, p=0.5):\n",
    "        super().__init__()\n",
    "        self.embeds = nn.ModuleList([nn.Embedding(ni, nf) for ni,nf in emb_szs])\n",
    "        self.emb_drop = nn.Dropout(p)\n",
    "        self.bn_cont = nn.BatchNorm1d(n_cont)\n",
    "        \n",
    "        layerlist = []\n",
    "        n_emb = sum((nf for ni,nf in emb_szs))\n",
    "        n_in = n_emb + n_cont\n",
    "        \n",
    "        for i in layers:\n",
    "            layerlist.append(nn.Linear(n_in,i)) \n",
    "            layerlist.append(nn.ReLU(inplace=True))\n",
    "            layerlist.append(nn.BatchNorm1d(i))\n",
    "            layerlist.append(nn.Dropout(p))\n",
    "            n_in = i\n",
    "        layerlist.append(nn.Linear(layers[-1],out_sz))\n",
    "            \n",
    "        self.layers = nn.Sequential(*layerlist)\n",
    "    \n",
    "    def forward(self, x_cat, x_cont):\n",
    "        embeddings = []\n",
    "        for i,e in enumerate(self.embeds):\n",
    "            embeddings.append(e(x_cat[:,i]))\n",
    "        x = torch.cat(embeddings, 1)\n",
    "        x = self.emb_drop(x)\n",
    "        \n",
    "        x_cont = self.bn_cont(x_cont)\n",
    "        x = torch.cat([x, x_cont], 1)\n",
    "        x = self.layers(x)\n",
    "        return x"
   ]
  },
  {
   "cell_type": "code",
   "execution_count": 50,
   "id": "coastal-economy",
   "metadata": {},
   "outputs": [],
   "source": [
    "model = TabularModel(emb_szs, conts.shape[1], 2, [300, 400, 350,240,200,160,140,120,130], p=0.4) # out_sz = 2"
   ]
  },
  {
   "cell_type": "code",
   "execution_count": 51,
   "id": "earlier-title",
   "metadata": {},
   "outputs": [
    {
     "data": {
      "text/plain": [
       "TabularModel(\n",
       "  (embeds): ModuleList(\n",
       "    (0): Embedding(13, 7)\n",
       "    (1): Embedding(13, 7)\n",
       "    (2): Embedding(13, 7)\n",
       "    (3): Embedding(13, 7)\n",
       "    (4): Embedding(13, 7)\n",
       "    (5): Embedding(13, 7)\n",
       "    (6): Embedding(12, 6)\n",
       "    (7): Embedding(13, 7)\n",
       "    (8): Embedding(13, 7)\n",
       "    (9): Embedding(13, 7)\n",
       "  )\n",
       "  (emb_drop): Dropout(p=0.4, inplace=False)\n",
       "  (bn_cont): BatchNorm1d(80, eps=1e-05, momentum=0.1, affine=True, track_running_stats=True)\n",
       "  (layers): Sequential(\n",
       "    (0): Linear(in_features=149, out_features=300, bias=True)\n",
       "    (1): ReLU(inplace=True)\n",
       "    (2): BatchNorm1d(300, eps=1e-05, momentum=0.1, affine=True, track_running_stats=True)\n",
       "    (3): Dropout(p=0.4, inplace=False)\n",
       "    (4): Linear(in_features=300, out_features=400, bias=True)\n",
       "    (5): ReLU(inplace=True)\n",
       "    (6): BatchNorm1d(400, eps=1e-05, momentum=0.1, affine=True, track_running_stats=True)\n",
       "    (7): Dropout(p=0.4, inplace=False)\n",
       "    (8): Linear(in_features=400, out_features=350, bias=True)\n",
       "    (9): ReLU(inplace=True)\n",
       "    (10): BatchNorm1d(350, eps=1e-05, momentum=0.1, affine=True, track_running_stats=True)\n",
       "    (11): Dropout(p=0.4, inplace=False)\n",
       "    (12): Linear(in_features=350, out_features=240, bias=True)\n",
       "    (13): ReLU(inplace=True)\n",
       "    (14): BatchNorm1d(240, eps=1e-05, momentum=0.1, affine=True, track_running_stats=True)\n",
       "    (15): Dropout(p=0.4, inplace=False)\n",
       "    (16): Linear(in_features=240, out_features=200, bias=True)\n",
       "    (17): ReLU(inplace=True)\n",
       "    (18): BatchNorm1d(200, eps=1e-05, momentum=0.1, affine=True, track_running_stats=True)\n",
       "    (19): Dropout(p=0.4, inplace=False)\n",
       "    (20): Linear(in_features=200, out_features=160, bias=True)\n",
       "    (21): ReLU(inplace=True)\n",
       "    (22): BatchNorm1d(160, eps=1e-05, momentum=0.1, affine=True, track_running_stats=True)\n",
       "    (23): Dropout(p=0.4, inplace=False)\n",
       "    (24): Linear(in_features=160, out_features=140, bias=True)\n",
       "    (25): ReLU(inplace=True)\n",
       "    (26): BatchNorm1d(140, eps=1e-05, momentum=0.1, affine=True, track_running_stats=True)\n",
       "    (27): Dropout(p=0.4, inplace=False)\n",
       "    (28): Linear(in_features=140, out_features=120, bias=True)\n",
       "    (29): ReLU(inplace=True)\n",
       "    (30): BatchNorm1d(120, eps=1e-05, momentum=0.1, affine=True, track_running_stats=True)\n",
       "    (31): Dropout(p=0.4, inplace=False)\n",
       "    (32): Linear(in_features=120, out_features=130, bias=True)\n",
       "    (33): ReLU(inplace=True)\n",
       "    (34): BatchNorm1d(130, eps=1e-05, momentum=0.1, affine=True, track_running_stats=True)\n",
       "    (35): Dropout(p=0.4, inplace=False)\n",
       "    (36): Linear(in_features=130, out_features=2, bias=True)\n",
       "  )\n",
       ")"
      ]
     },
     "execution_count": 51,
     "metadata": {},
     "output_type": "execute_result"
    }
   ],
   "source": [
    "model"
   ]
  },
  {
   "cell_type": "code",
   "execution_count": 52,
   "id": "exciting-replication",
   "metadata": {},
   "outputs": [],
   "source": [
    "criterion = nn.CrossEntropyLoss()\n",
    "optimizer = torch.optim.Adam(model.parameters(), lr=0.0003)"
   ]
  },
  {
   "cell_type": "code",
   "execution_count": 53,
   "id": "seven-newcastle",
   "metadata": {},
   "outputs": [],
   "source": [
    "batch_size = 10000\n",
    "test_size = 5000\n",
    "\n",
    "cat_train = cats[:batch_size-test_size]\n",
    "cat_test = cats[batch_size-test_size:batch_size]\n",
    "con_train = conts[:batch_size-test_size]\n",
    "con_test = conts[batch_size-test_size:batch_size]\n",
    "y_train = y[:batch_size-test_size]\n",
    "y_test = y[batch_size-test_size:batch_size]"
   ]
  },
  {
   "cell_type": "code",
   "execution_count": 54,
   "id": "phantom-uzbekistan",
   "metadata": {},
   "outputs": [
    {
     "data": {
      "text/plain": [
       "5000"
      ]
     },
     "execution_count": 54,
     "metadata": {},
     "output_type": "execute_result"
    }
   ],
   "source": [
    "len(cat_train)"
   ]
  },
  {
   "cell_type": "code",
   "execution_count": 55,
   "id": "enclosed-register",
   "metadata": {},
   "outputs": [
    {
     "data": {
      "text/plain": [
       "5000"
      ]
     },
     "execution_count": 55,
     "metadata": {},
     "output_type": "execute_result"
    }
   ],
   "source": [
    "len(cat_test)"
   ]
  },
  {
   "cell_type": "code",
   "execution_count": 63,
   "id": "suffering-pittsburgh",
   "metadata": {
    "scrolled": true
   },
   "outputs": [
    {
     "name": "stdout",
     "output_type": "stream",
     "text": [
      "epoch:   1  loss: 0.69687033\n",
      "epoch:  26  loss: 0.69641423\n",
      "epoch:  51  loss: 0.69383472\n",
      "epoch:  76  loss: 0.69522208\n",
      "epoch: 101  loss: 0.69569945\n",
      "epoch: 126  loss: 0.69283485\n",
      "epoch: 151  loss: 0.69290656\n",
      "epoch: 176  loss: 0.69304121\n",
      "epoch: 201  loss: 0.69210136\n",
      "epoch: 226  loss: 0.69215494\n",
      "epoch: 250  loss: 0.69090968\n",
      "\n",
      "Duration: 101 seconds\n"
     ]
    }
   ],
   "source": [
    "import time\n",
    "start_time = time.time()\n",
    "\n",
    "epochs = 250\n",
    "losses = []\n",
    "\n",
    "for i in range(epochs):\n",
    "    y_pred = model(cat_train, con_train)\n",
    "    loss = criterion(y_pred, y_train)\n",
    "    losses.append(loss.item())\n",
    "    \n",
    "    # a neat trick to save screen space:\n",
    "    if i%25 == 0:\n",
    "        print(f'epoch: {i+1:3}  loss: {loss.item():10.8f}')\n",
    "\n",
    "    optimizer.zero_grad()\n",
    "    loss.backward()\n",
    "    optimizer.step()\n",
    "\n",
    "print(f'epoch: {i+1:3}  loss: {loss.item():10.8f}') # print the last line\n",
    "print(f'\\nDuration: {time.time() - start_time:.0f} seconds') # print the time elapsed"
   ]
  },
  {
   "cell_type": "code",
   "execution_count": 64,
   "id": "advance-roads",
   "metadata": {},
   "outputs": [
    {
     "data": {
      "image/png": "[encoded data removed]",
      "text/plain": [
       "<Figure size 432x288 with 1 Axes>"
      ]
     },
     "metadata": {
      "needs_background": "light"
     },
     "output_type": "display_data"
    }
   ],
   "source": [
    "plt.plot(range(epochs), losses)\n",
    "plt.ylabel('Cross Entropy Loss')\n",
    "plt.xlabel('epoch');"
   ]
  },
  {
   "cell_type": "code",
   "execution_count": 65,
   "id": "successful-return",
   "metadata": {
    "scrolled": true
   },
   "outputs": [
    {
     "name": "stdout",
     "output_type": "stream",
     "text": [
      "CE Loss: 0.69324577\n"
     ]
    }
   ],
   "source": [
    "# TO EVALUATE THE ENTIRE TEST SET\n",
    "with torch.no_grad():\n",
    "    y_val = model(cat_test, con_test)\n",
    "    loss = criterion(y_val, y_test)\n",
    "print(f'CE Loss: {loss:.8f}')"
   ]
  },
  {
   "cell_type": "code",
   "execution_count": 66,
   "id": "social-coach",
   "metadata": {},
   "outputs": [
    {
     "name": "stdout",
     "output_type": "stream",
     "text": [
      "MODEL OUTPUT               ARGMAX  Y_TEST\n",
      "tensor([-0.1598, -0.0553])    1      0   \n",
      "tensor([0.5231, 0.4631])      0      1   \n",
      "tensor([0.8051, 0.7683])      0      1   \n",
      "tensor([-0.2344, -0.3166])    0      1   \n",
      "tensor([-0.4788, -0.5343])    0      1   \n",
      "tensor([-0.1386,  0.1445])    1      0   \n",
      "tensor([-0.3393, -0.5205])    0      0   \n",
      "tensor([-1.0562, -0.9465])    1      1   \n",
      "tensor([-0.1179, -0.2499])    0      1   \n",
      "tensor([ 0.0052, -0.1102])    0      1   \n",
      "tensor([0.6718, 0.7749])      1      0   \n",
      "tensor([-0.1983, -0.3781])    0      1   \n",
      "tensor([0.7433, 0.7301])      0      0   \n",
      "tensor([0.8364, 0.7954])      0      0   \n",
      "tensor([-1.2260, -1.2426])    0      1   \n",
      "tensor([-0.1222, -0.2026])    0      0   \n",
      "tensor([0.3430, 0.3367])      0      1   \n",
      "tensor([0.1350, 0.0744])      0      1   \n",
      "tensor([-0.0483,  0.1144])    1      1   \n",
      "tensor([-0.7249, -0.6064])    1      1   \n",
      "tensor([0.4541, 0.4416])      0      1   \n",
      "tensor([-0.0318, -0.2365])    0      1   \n",
      "tensor([-1.4867, -1.4426])    1      0   \n",
      "tensor([-0.1798, -0.1968])    0      0   \n",
      "tensor([-0.2820, -0.4165])    0      0   \n",
      "tensor([0.4740, 0.4795])      1      1   \n",
      "tensor([0.6178, 0.4777])      0      1   \n",
      "tensor([ 0.1806, -0.0323])    0      0   \n",
      "tensor([-0.2730, -0.4367])    0      0   \n",
      "tensor([-0.1060, -0.1436])    0      0   \n",
      "tensor([0.1175, 0.0309])      0      0   \n",
      "tensor([-0.3633, -0.3832])    0      1   \n",
      "tensor([0.2508, 0.2902])      1      1   \n",
      "tensor([-0.0025,  0.0262])    1      0   \n",
      "tensor([-0.1502, -0.1700])    0      0   \n",
      "tensor([0.1136, 0.1792])      1      1   \n",
      "tensor([-0.1307, -0.2026])    0      0   \n",
      "tensor([0.3636, 0.1676])      0      0   \n",
      "tensor([-0.1257,  0.0721])    1      1   \n",
      "tensor([ 0.0645, -0.0137])    0      0   \n",
      "tensor([-0.6857, -0.6975])    0      1   \n",
      "tensor([0.7997, 1.9688])      1      0   \n",
      "tensor([-0.3692, -0.2276])    1      0   \n",
      "tensor([0.3561, 0.3764])      1      1   \n",
      "tensor([-0.5642, -0.6042])    0      0   \n",
      "tensor([-0.2076, -0.2229])    0      0   \n",
      "tensor([0.9866, 0.9579])      0      1   \n",
      "tensor([ 0.1090, -0.0708])    0      1   \n",
      "tensor([-1.0372, -0.9433])    1      1   \n",
      "tensor([-0.0822, -0.2199])    0      0   \n",
      "tensor([0.4549, 0.3891])      0      0   \n",
      "tensor([-0.0657, -0.1818])    0      1   \n",
      "tensor([0.2147, 0.1141])      0      0   \n",
      "tensor([-0.0806, -0.1697])    0      0   \n",
      "tensor([-1.3891, -1.5769])    0      0   \n",
      "tensor([0.0090, 0.0014])      0      0   \n",
      "tensor([-0.6932, -0.7318])    0      0   \n",
      "tensor([0.9330, 0.8646])      0      0   \n",
      "tensor([-0.3506, -0.2565])    1      1   \n",
      "tensor([-0.0790, -0.0759])    1      1   \n",
      "tensor([-0.0121, -0.1176])    0      0   \n",
      "tensor([0.8218, 0.7828])      0      0   \n",
      "tensor([0.4201, 0.4550])      1      0   \n",
      "tensor([ 0.0833, -0.0038])    0      0   \n",
      "tensor([-0.2127, -0.0693])    1      1   \n",
      "tensor([0.5860, 0.5107])      0      0   \n",
      "tensor([-0.3553, -0.4310])    0      1   \n",
      "tensor([-0.4432, -0.3943])    1      0   \n",
      "tensor([-1.6799, -1.6960])    0      1   \n",
      "tensor([0.4198, 0.4418])      1      1   \n",
      "tensor([0.5620, 0.5361])      0      1   \n",
      "tensor([0.2474, 0.1806])      0      1   \n",
      "tensor([1.4758, 1.6230])      1      1   \n",
      "tensor([-0.7244, -0.7257])    0      0   \n",
      "tensor([-0.0143, -0.1516])    0      0   \n",
      "tensor([0.2504, 0.2058])      0      1   \n",
      "tensor([0.8903, 0.8706])      0      0   \n",
      "tensor([0.6301, 0.5534])      0      0   \n",
      "tensor([0.2454, 0.0785])      0      0   \n",
      "tensor([-0.0497, -0.1862])    0      0   \n",
      "tensor([0.0922, 0.0438])      0      0   \n",
      "tensor([-0.2058, -0.1774])    1      0   \n",
      "tensor([0.2811, 0.1301])      0      1   \n",
      "tensor([0.0532, 0.1415])      1      1   \n",
      "tensor([0.0608, 0.0754])      1      1   \n",
      "tensor([-0.3264, -0.3316])    0      1   \n",
      "tensor([0.3253, 0.2793])      0      1   \n",
      "tensor([0.4016, 0.1861])      0      1   \n",
      "tensor([0.2582, 0.2222])      0      0   \n",
      "tensor([0.3975, 0.3146])      0      1   \n",
      "tensor([-0.2936,  0.1377])    1      1   \n",
      "tensor([0.4764, 0.3523])      0      1   \n",
      "tensor([-0.2331, -0.2993])    0      0   \n",
      "tensor([0.5468, 0.4855])      0      0   \n",
      "tensor([-0.1473, -0.2902])    0      0   \n",
      "tensor([-0.3492, -0.2619])    1      1   \n",
      "tensor([-0.5314, -0.6932])    0      1   \n",
      "tensor([-0.5807, -0.7090])    0      1   \n",
      "tensor([-0.0627, -0.1354])    0      1   \n",
      "tensor([ 0.0681, -0.1141])    0      1   \n",
      "tensor([-0.2386, -0.3089])    0      0   \n",
      "tensor([0.2557, 0.2774])      1      1   \n",
      "tensor([0.2373, 0.1674])      0      1   \n",
      "tensor([-0.1868, -0.2558])    0      0   \n",
      "tensor([0.0065, 0.5216])      1      0   \n",
      "tensor([-0.0660, -0.2112])    0      1   \n",
      "tensor([ 0.0762, -0.0419])    0      1   \n",
      "tensor([ 0.0532, -0.1031])    0      0   \n",
      "tensor([-0.9060, -0.8311])    1      0   \n",
      "tensor([-0.6434, -0.6625])    0      1   \n",
      "tensor([-0.2569, -0.3208])    0      1   \n",
      "tensor([0.4126, 0.2848])      0      0   \n",
      "tensor([0.2192, 0.0372])      0      0   \n",
      "tensor([-0.0484, -0.0990])    0      1   \n",
      "tensor([-0.6818, -0.8369])    0      1   \n",
      "tensor([-0.5275, -0.5952])    0      0   \n",
      "tensor([-1.1919, -0.9352])    1      0   \n",
      "tensor([-0.4678, -0.3247])    1      1   \n",
      "tensor([0.3981, 0.2637])      0      1   \n",
      "tensor([0.3017, 0.2750])      0      1   \n",
      "tensor([0.6858, 0.6532])      0      0   \n",
      "tensor([-0.0346, -0.1305])    0      1   \n",
      "tensor([0.4788, 0.3490])      0      0   \n",
      "tensor([-0.6197, -0.6816])    0      0   \n",
      "tensor([-0.9304, -0.9121])    1      1   \n",
      "tensor([-0.3721, -0.3843])    0      1   \n",
      "tensor([-0.2293, -0.2586])    0      0   \n",
      "tensor([ 0.0863, -0.0814])    0      0   \n",
      "tensor([0.0378, 0.0303])      0      0   \n",
      "tensor([0.3385, 0.2963])      0      1   \n",
      "tensor([-1.0769, -1.0056])    1      1   \n",
      "tensor([-0.2458, -0.2947])    0      0   \n",
      "tensor([-0.4837, -0.6128])    0      1   \n",
      "tensor([-0.1876, -0.2702])    0      1   \n",
      "tensor([-0.4740, -0.5136])    0      0   \n",
      "tensor([-0.5318, -0.5854])    0      1   \n",
      "tensor([-0.4875, -0.5313])    0      0   \n",
      "tensor([-0.8238, -0.8793])    0      1   \n",
      "tensor([0.0082, 0.0065])      0      1   \n",
      "tensor([0.6046, 0.4455])      0      1   \n",
      "tensor([ 0.0469, -0.1519])    0      1   \n",
      "tensor([ 0.0226, -0.0590])    0      1   \n",
      "tensor([0.8961, 1.0530])      1      1   \n",
      "tensor([-0.4456, -0.4760])    0      1   \n",
      "tensor([0.1336, 0.0997])      0      1   \n",
      "tensor([ 0.0434, -0.0823])    0      0   \n",
      "tensor([0.0875, 0.0986])      1      0   \n",
      "tensor([-0.3263, -0.4117])    0      0   \n",
      "tensor([-0.3878, -0.1680])    1      0   \n",
      "tensor([0.9328, 1.0332])      1      0   \n",
      "tensor([1.2483, 1.0895])      0      0   \n",
      "tensor([0.3557, 0.3611])      1      1   \n",
      "tensor([0.5913, 0.4452])      0      0   \n",
      "tensor([0.4126, 0.4273])      1      1   \n",
      "tensor([-0.0915, -0.0559])    1      0   \n",
      "tensor([0.2776, 0.1848])      0      0   \n",
      "tensor([0.3241, 0.3173])      0      0   \n",
      "tensor([-0.4026, -0.4553])    0      1   \n",
      "tensor([0.1975, 0.0660])      0      0   \n",
      "tensor([0.6713, 0.5640])      0      0   \n",
      "tensor([0.4467, 0.4569])      1      0   \n",
      "tensor([-0.1802, -0.2457])    0      0   \n",
      "tensor([-0.5193, -0.6009])    0      0   \n",
      "tensor([0.5571, 0.4246])      0      1   \n",
      "tensor([0.6630, 0.6421])      0      1   \n",
      "tensor([0.3336, 0.2092])      0      0   \n",
      "tensor([0.5744, 0.5683])      0      1   \n",
      "tensor([-0.2606, -0.1254])    1      0   \n",
      "tensor([0.4086, 0.2228])      0      0   \n",
      "tensor([-0.6933, -0.4237])    1      1   \n",
      "tensor([-0.0795, -0.2012])    0      1   \n",
      "tensor([0.3632, 0.2972])      0      0   \n",
      "tensor([0.0947, 0.2578])      1      1   \n",
      "tensor([-0.7684, -0.8734])    0      0   \n",
      "tensor([0.6314, 0.4552])      0      0   \n",
      "tensor([0.4422, 0.2761])      0      1   \n",
      "tensor([0.8336, 0.9544])      1      1   \n",
      "tensor([0.8122, 0.7905])      0      0   \n",
      "tensor([-0.1867, -0.2666])    0      1   \n",
      "tensor([0.7675, 0.6937])      0      1   \n",
      "tensor([0.3111, 0.2139])      0      1   \n",
      "tensor([-0.3282, -0.3533])    0      1   \n",
      "tensor([-1.6498, -1.4286])    1      1   \n",
      "tensor([-0.7040, -0.8469])    0      1   \n",
      "tensor([0.2136, 0.2291])      1      0   \n",
      "tensor([-0.6407, -0.6382])    1      0   \n",
      "tensor([-0.2483, -0.2677])    0      1   \n",
      "tensor([-0.4812, -0.4886])    0      1   \n",
      "tensor([-0.4241, -0.4706])    0      0   \n",
      "tensor([-0.0811, -0.0934])    0      0   \n",
      "tensor([-1.7372, -1.9588])    0      0   \n",
      "tensor([-0.6890, -0.7502])    0      0   \n",
      "tensor([-0.3162, -0.4880])    0      1   \n",
      "tensor([-0.8171, -0.8820])    0      1   \n",
      "tensor([0.0241, 0.0441])      1      0   \n",
      "tensor([-0.3345, -0.2578])    1      1   \n",
      "tensor([0.4949, 0.4526])      0      0   \n",
      "tensor([-0.7960, -0.9853])    0      1   \n",
      "tensor([0.1844, 0.0991])      0      0   \n",
      "tensor([-0.4771,  0.1529])    1      0   \n",
      "tensor([0.2753, 0.1805])      0      1   \n",
      "tensor([-0.0122, -0.1811])    0      0   \n",
      "tensor([-0.1049, -0.1739])    0      0   \n",
      "tensor([0.1063, 0.4412])      1      1   \n",
      "tensor([0.1229, 0.1517])      1      0   \n",
      "tensor([-0.5377, -0.6543])    0      1   \n",
      "tensor([-0.1900, -0.1033])    1      0   \n",
      "tensor([-0.2034, -0.3775])    0      0   \n",
      "tensor([0.0695, 0.0556])      0      0   \n",
      "tensor([0.1007, 0.1476])      1      0   \n",
      "tensor([-0.5665, -0.5793])    0      0   \n",
      "tensor([0.3858, 0.2807])      0      1   \n",
      "tensor([0.7926, 0.6502])      0      1   \n",
      "tensor([0.7196, 0.6118])      0      0   \n",
      "tensor([ 0.0032, -0.1316])    0      0   \n",
      "tensor([-0.6213, -0.7768])    0      0   \n",
      "tensor([-0.1423, -0.1610])    0      1   \n",
      "tensor([-0.5002, -0.5705])    0      0   \n",
      "tensor([-0.0955, -0.1325])    0      0   \n",
      "tensor([0.0418, 0.0603])      1      0   \n",
      "tensor([0.2884, 0.1182])      0      1   \n",
      "tensor([-2.3579, -1.7793])    1      1   \n",
      "tensor([0.3893, 0.3141])      0      1   \n",
      "tensor([0.3370, 0.2300])      0      1   \n",
      "tensor([0.2281, 0.4675])      1      1   \n",
      "tensor([0.4077, 0.2539])      0      0   \n",
      "tensor([-0.2134, -0.4085])    0      0   \n",
      "tensor([ 0.0277, -0.1057])    0      0   \n",
      "tensor([-0.4255,  0.0583])    1      1   \n",
      "tensor([0.1033, 0.0955])      0      1   \n",
      "tensor([-0.2804, -0.3923])    0      1   \n",
      "tensor([-0.3721, -0.4229])    0      0   \n",
      "tensor([-0.3896, -0.5032])    0      1   \n",
      "tensor([0.6897, 0.6233])      0      1   \n",
      "tensor([-0.5079, -0.3953])    1      1   \n",
      "tensor([0.2331, 0.2100])      0      1   \n",
      "tensor([-0.3697, -0.3018])    1      0   \n",
      "tensor([0.2925, 0.2813])      0      0   \n",
      "tensor([-0.2470, -0.3346])    0      0   \n",
      "tensor([-0.5626, -0.5467])    1      1   \n",
      "tensor([0.2360, 0.1938])      0      0   \n",
      "tensor([0.3005, 0.2367])      0      0   \n",
      "tensor([-0.2792, -0.4380])    0      1   \n",
      "tensor([-0.2464,  0.1844])    1      0   \n",
      "tensor([-0.0840, -0.2001])    0      0   \n",
      "tensor([-0.1667, -0.2207])    0      0   \n",
      "tensor([0.5992, 0.5306])      0      0   \n",
      "tensor([-1.0335, -1.0322])    1      1   \n",
      "tensor([0.8907, 0.8231])      0      0   \n",
      "tensor([-0.7063, -0.8601])    0      1   \n",
      "tensor([0.4229, 0.3296])      0      1   \n",
      "tensor([-0.0414, -0.1344])    0      0   \n",
      "tensor([-0.3186, -0.4996])    0      0   \n",
      "tensor([0.1806, 0.1070])      0      1   \n",
      "tensor([0.3803, 0.4319])      1      1   \n",
      "tensor([-0.8864, -0.9515])    0      1   \n",
      "tensor([-1.0039, -0.9785])    1      1   \n",
      "tensor([-0.2162, -0.3053])    0      0   \n",
      "tensor([0.1193, 0.0490])      0      1   \n",
      "tensor([-0.6132, -0.6816])    0      1   \n",
      "tensor([0.3302, 0.1496])      0      0   \n",
      "tensor([-0.4159, -0.4933])    0      1   \n",
      "tensor([0.3004, 0.0906])      0      0   \n",
      "tensor([-1.5182, -1.2669])    1      1   \n",
      "tensor([0.1804, 0.1322])      0      0   \n",
      "tensor([-0.3114, -0.3211])    0      0   \n",
      "tensor([0.5001, 0.4026])      0      0   \n",
      "tensor([-0.4545, -0.5641])    0      1   \n",
      "tensor([0.1815, 0.1646])      0      1   \n",
      "tensor([0.3566, 0.5371])      1      1   \n",
      "tensor([-0.0204, -0.0489])    0      0   \n",
      "tensor([0.3455, 0.2438])      0      1   \n",
      "tensor([-0.2471, -0.3429])    0      0   \n",
      "tensor([-1.3677, -1.2891])    1      1   \n",
      "tensor([-0.7468, -0.7492])    0      1   \n",
      "tensor([-0.5366, -0.7061])    0      1   \n",
      "tensor([-0.5024, -0.5423])    0      0   \n",
      "tensor([0.0853, 0.0437])      0      1   \n",
      "tensor([0.4699, 0.4716])      1      0   \n",
      "tensor([-0.2898, -0.2293])    1      0   \n",
      "tensor([ 0.0128, -0.0671])    0      1   \n",
      "tensor([-0.0008, -0.0765])    0      1   \n",
      "tensor([-0.6401, -0.6306])    1      1   \n",
      "tensor([-0.2677, -0.4103])    0      0   \n",
      "tensor([-1.0232, -0.8216])    1      1   \n",
      "tensor([-0.8538, -0.6575])    1      1   \n",
      "tensor([-0.7491, -0.7328])    1      0   \n",
      "tensor([0.2226, 0.0847])      0      0   \n",
      "tensor([0.2095, 0.2200])      1      0   \n",
      "tensor([1.2854, 1.3488])      1      1   \n",
      "tensor([-0.6260, -0.4067])    1      1   \n",
      "tensor([-0.1952, -0.2202])    0      0   \n",
      "tensor([ 0.0134, -0.0581])    0      1   \n",
      "tensor([0.5400, 0.4433])      0      1   \n",
      "tensor([0.5280, 0.4543])      0      0   \n",
      "tensor([0.6620, 0.5237])      0      0   \n",
      "tensor([-0.4665, -0.5527])    0      0   \n",
      "tensor([0.1093, 0.0023])      0      1   \n",
      "tensor([-0.7926, -0.5750])    1      1   \n",
      "tensor([ 0.1007, -0.0644])    0      1   \n",
      "tensor([0.2356, 0.1887])      0      1   \n",
      "tensor([-0.2807, -0.3572])    0      0   \n",
      "tensor([ 0.1347, -0.0308])    0      0   \n",
      "tensor([-0.2572, -0.4073])    0      1   \n",
      "tensor([0.7302, 0.8670])      1      1   \n",
      "tensor([-0.2955, -0.3935])    0      1   \n",
      "tensor([0.5071, 0.2864])      0      0   \n",
      "tensor([0.9233, 1.0131])      1      1   \n",
      "tensor([-1.5455, -1.6505])    0      1   \n",
      "tensor([0.4144, 0.6598])      1      1   \n",
      "tensor([0.4967, 0.4403])      0      0   \n",
      "tensor([-0.3794, -0.4861])    0      0   \n",
      "tensor([0.7165, 0.8176])      1      1   \n",
      "tensor([0.8385, 1.0579])      1      1   \n",
      "tensor([1.3294, 1.3112])      0      1   \n",
      "tensor([0.1777, 0.0757])      0      1   \n",
      "tensor([-0.6552, -0.7684])    0      0   \n",
      "tensor([0.3287, 0.3259])      0      1   \n",
      "tensor([-0.1518, -0.2655])    0      0   \n",
      "tensor([-0.6512, -0.6757])    0      1   \n",
      "tensor([-0.4106, -0.4198])    0      1   \n",
      "tensor([ 0.0176, -0.0757])    0      0   \n",
      "tensor([0.3765, 0.2741])      0      0   \n",
      "tensor([-0.4515, -0.5724])    0      1   \n",
      "tensor([-0.5477, -0.5491])    0      0   \n",
      "tensor([ 0.1642, -0.0040])    0      1   \n",
      "tensor([-0.3084, -0.4089])    0      0   \n",
      "tensor([0.2685, 0.1318])      0      1   \n",
      "tensor([-0.0935, -0.1485])    0      1   \n",
      "tensor([-0.4840, -0.4531])    1      1   \n",
      "tensor([-0.9419, -0.8581])    1      0   \n",
      "tensor([0.1373, 0.0224])      0      0   \n",
      "tensor([0.1566, 0.2728])      1      1   \n",
      "tensor([0.3800, 0.2746])      0      1   \n",
      "tensor([1.3248, 1.2457])      0      0   \n",
      "tensor([0.3124, 0.2015])      0      0   \n",
      "tensor([0.5057, 0.4414])      0      1   \n",
      "tensor([-0.0425, -0.1335])    0      1   \n",
      "tensor([-0.1793, -0.3567])    0      0   \n",
      "tensor([-0.0173,  0.2461])    1      0   \n",
      "tensor([-0.4158, -0.5086])    0      1   \n",
      "tensor([-0.2633, -0.3511])    0      1   \n",
      "tensor([-0.2542, -0.2848])    0      1   \n",
      "tensor([ 0.1374, -0.0008])    0      0   \n",
      "tensor([0.6129, 0.3971])      0      1   \n",
      "tensor([0.2001, 0.1863])      0      1   \n",
      "tensor([-0.5114, -0.5627])    0      0   \n",
      "tensor([-0.2028, -0.0809])    1      1   \n",
      "tensor([0.1663, 0.2003])      1      1   \n",
      "tensor([0.1409, 0.0431])      0      0   \n",
      "tensor([0.5276, 0.6345])      1      0   \n",
      "tensor([-0.1375, -0.0479])    1      0   \n",
      "tensor([0.2228, 0.0775])      0      1   \n",
      "tensor([-0.8934, -0.9752])    0      1   \n",
      "tensor([-0.4072, -0.4223])    0      0   \n",
      "tensor([-0.1513, -0.1527])    0      1   \n",
      "tensor([-0.1119, -0.2221])    0      0   \n",
      "tensor([-0.1237, -0.2571])    0      0   \n",
      "tensor([-0.8022, -0.9252])    0      0   \n",
      "tensor([0.3057, 0.1724])      0      1   \n",
      "tensor([0.3235, 0.0838])      0      0   \n",
      "tensor([0.2336, 0.1848])      0      0   \n",
      "tensor([-0.0429, -0.0404])    1      1   \n",
      "tensor([-0.3348, -0.4160])    0      0   \n",
      "tensor([-0.1431, -0.3959])    0      0   \n",
      "tensor([-0.2831, -0.2945])    0      1   \n",
      "tensor([0.1592, 0.0069])      0      1   \n",
      "tensor([ 0.0670, -0.0970])    0      0   \n",
      "tensor([0.0711, 0.2228])      1      1   \n",
      "tensor([-0.2109, -0.1534])    1      1   \n",
      "tensor([-0.9731, -0.8238])    1      1   \n",
      "tensor([0.1157, 0.1647])      1      1   \n",
      "tensor([0.2666, 0.1572])      0      0   \n",
      "tensor([0.2925, 0.1480])      0      0   \n",
      "tensor([0.0557, 0.1106])      1      1   \n",
      "tensor([-0.5316, -0.4951])    1      0   \n",
      "tensor([-0.0620, -0.1430])    0      1   \n",
      "tensor([0.8633, 0.7593])      0      0   \n",
      "tensor([-0.3348, -0.3069])    1      0   \n",
      "tensor([0.2460, 0.1356])      0      1   \n",
      "tensor([0.9811, 1.2844])      1      0   \n",
      "tensor([-0.3744, -0.3105])    1      0   \n",
      "tensor([ 0.0245, -0.0856])    0      0   \n",
      "tensor([-0.4798, -0.3749])    1      1   \n",
      "tensor([0.1967, 0.2125])      1      0   \n",
      "tensor([-0.5678, -0.4823])    1      0   \n",
      "tensor([-0.7989, -0.9161])    0      0   \n",
      "tensor([0.5188, 0.3421])      0      1   \n",
      "tensor([0.3793, 0.2850])      0      1   \n",
      "tensor([-0.8301, -0.8632])    0      0   \n",
      "tensor([ 0.1369, -0.0729])    0      1   \n",
      "tensor([0.5493, 0.5009])      0      0   \n",
      "tensor([-0.3026, -0.2444])    1      0   \n",
      "tensor([0.4741, 0.4003])      0      1   \n",
      "tensor([-0.1292, -0.1440])    0      0   \n",
      "tensor([ 0.0017, -0.1047])    0      1   \n",
      "tensor([0.5142, 0.5401])      1      0   \n",
      "tensor([-0.8221, -0.8552])    0      1   \n",
      "tensor([0.2396, 0.1349])      0      0   \n",
      "tensor([-0.3555, -0.4455])    0      0   \n",
      "tensor([-0.3449, -0.3451])    0      0   \n",
      "tensor([-0.2256, -0.2499])    0      1   \n",
      "tensor([0.1686, 0.1577])      0      0   \n",
      "tensor([0.5024, 0.4779])      0      0   \n",
      "tensor([0.7992, 0.7380])      0      0   \n",
      "tensor([0.1964, 0.1048])      0      0   \n",
      "tensor([0.4380, 0.3510])      0      1   \n",
      "tensor([-0.2910, -0.2282])    1      1   \n",
      "tensor([0.5595, 0.3517])      0      1   \n",
      "tensor([1.1837, 1.3879])      1      0   \n",
      "tensor([-0.2566, -0.1363])    1      0   \n",
      "tensor([0.3353, 0.2848])      0      1   \n",
      "tensor([-0.1342, -0.2510])    0      0   \n",
      "tensor([0.4715, 0.2789])      0      0   \n",
      "tensor([1.2994, 1.7983])      1      0   \n",
      "tensor([-0.3168, -0.3359])    0      0   \n",
      "tensor([-0.1544, -0.0971])    1      1   \n",
      "tensor([-0.1391, -0.2319])    0      1   \n",
      "tensor([-0.0345, -0.1609])    0      1   \n",
      "tensor([-0.1274, -0.2359])    0      0   \n",
      "tensor([-0.8500, -0.6607])    1      1   \n",
      "tensor([-0.1277, -0.1718])    0      0   \n",
      "tensor([0.7598, 0.7148])      0      0   \n",
      "tensor([0.5070, 0.4366])      0      1   \n",
      "tensor([0.2570, 0.1193])      0      1   \n",
      "tensor([0.1578, 0.0475])      0      0   \n",
      "tensor([-0.4309, -0.5414])    0      0   \n",
      "tensor([-0.0721, -0.1424])    0      1   \n",
      "tensor([-0.6294, -0.7595])    0      1   \n",
      "tensor([0.3124, 0.4171])      1      0   \n",
      "tensor([0.4335, 0.2424])      0      1   \n",
      "tensor([0.4991, 0.4071])      0      0   \n",
      "tensor([-0.5625, -0.5205])    1      0   \n",
      "tensor([-0.2714, -0.3673])    0      1   \n",
      "tensor([0.5709, 0.4444])      0      1   \n",
      "tensor([0.3043, 0.3100])      1      1   \n",
      "tensor([-0.4478, -0.2641])    1      0   \n",
      "tensor([-0.8937, -0.9605])    0      1   \n",
      "tensor([-0.3192, -0.3279])    0      1   \n",
      "tensor([-0.0263, -0.1996])    0      0   \n",
      "tensor([-0.0032, -0.0084])    0      1   \n",
      "tensor([0.6739, 0.5050])      0      0   \n",
      "tensor([ 0.0628, -0.0363])    0      0   \n",
      "tensor([0.5302, 0.6498])      1      0   \n",
      "tensor([-0.2567, -0.2479])    1      0   \n",
      "tensor([0.3426, 0.5513])      1      0   \n",
      "tensor([-1.0467, -0.6185])    1      1   \n",
      "tensor([-0.4544, -0.5705])    0      0   \n",
      "tensor([0.2924, 0.1683])      0      0   \n",
      "tensor([-0.6388, -0.5014])    1      0   \n",
      "tensor([-0.2483, -0.3456])    0      1   \n",
      "tensor([0.3309, 0.2635])      0      1   \n",
      "tensor([-0.0459, -0.1293])    0      1   \n",
      "tensor([-0.3683, -0.3506])    1      1   \n",
      "tensor([0.5843, 0.8333])      1      0   \n",
      "tensor([-0.1458, -0.2709])    0      0   \n",
      "tensor([-0.8657, -0.9133])    0      1   \n",
      "tensor([0.2502, 0.2891])      1      0   \n",
      "tensor([0.2519, 0.0828])      0      1   \n",
      "tensor([-0.5824, -0.6136])    0      1   \n",
      "tensor([0.2497, 0.1715])      0      0   \n",
      "tensor([0.2577, 0.2211])      0      1   \n",
      "tensor([-0.2324, -0.3493])    0      0   \n",
      "tensor([0.5605, 0.4223])      0      0   \n",
      "tensor([0.1930, 0.0879])      0      1   \n",
      "tensor([-0.7892, -0.8982])    0      0   \n",
      "tensor([-0.3343, -0.4674])    0      1   \n",
      "tensor([-0.4526, -0.3905])    1      0   \n",
      "tensor([0.1963, 0.0924])      0      1   \n",
      "tensor([-1.8679, -1.6901])    1      0   \n",
      "tensor([-0.0828,  0.0536])    1      1   \n",
      "tensor([-0.8308, -0.6608])    1      1   \n",
      "tensor([0.2191, 0.0475])      0      0   \n",
      "tensor([-0.0040, -0.0505])    0      0   \n",
      "tensor([0.6551, 0.4614])      0      1   \n",
      "tensor([0.9944, 1.2423])      1      1   \n",
      "tensor([0.6558, 0.8891])      1      0   \n",
      "tensor([-0.4725, -0.4706])    1      0   \n",
      "tensor([0.4940, 0.3018])      0      1   \n",
      "tensor([0.1896, 0.1042])      0      1   \n",
      "tensor([-0.3804, -0.4532])    0      0   \n",
      "tensor([ 0.0780, -0.1142])    0      0   \n",
      "tensor([0.2516, 0.1593])      0      0   \n",
      "tensor([0.8005, 0.7836])      0      0   \n",
      "tensor([-0.2368, -0.3763])    0      1   \n",
      "tensor([-0.8427, -0.8932])    0      1   \n",
      "tensor([0.2179, 0.1713])      0      0   \n",
      "tensor([1.0450, 1.0580])      1      0   \n",
      "tensor([0.6268, 0.5711])      0      0   \n",
      "tensor([-0.4479, -0.5237])    0      1   \n",
      "tensor([0.1328, 0.1889])      1      1   \n",
      "tensor([-0.5092, -0.5636])    0      1   \n",
      "tensor([-0.3752, -0.1839])    1      0   \n",
      "tensor([-0.2394, -0.3401])    0      0   \n",
      "tensor([-1.1984, -0.7038])    1      1   \n",
      "tensor([0.1777, 0.1372])      0      1   \n",
      "tensor([0.6252, 0.5988])      0      0   \n",
      "tensor([0.3596, 0.1860])      0      1   \n",
      "tensor([0.5760, 0.6492])      1      1   \n",
      "tensor([-0.2486, -0.1580])    1      0   \n",
      "\n",
      "262 out of 500 = 52.40% correct\n"
     ]
    }
   ],
   "source": [
    "rows = 500\n",
    "correct = 0\n",
    "print(f'{\"MODEL OUTPUT\":26} ARGMAX  Y_TEST')\n",
    "for i in range(rows):\n",
    "    print(f'{str(y_val[i]):26} {y_val[i].argmax():^7}{y_test[i]:^7}')\n",
    "    if y_val[i].argmax().item() == y_test[i]:\n",
    "        correct += 1\n",
    "print(f'\\n{correct} out of {rows} = {100*correct/rows:.2f}% correct')\n"
   ]
  },
  {
   "cell_type": "code",
   "execution_count": 67,
   "id": "boring-motorcycle",
   "metadata": {},
   "outputs": [],
   "source": [
    "y_pred = []\n",
    "\n",
    "for i in range(len(y_val)):\n",
    "    a = y_val[i].argmax().item()\n",
    "    y_pred.append(a)"
   ]
  },
  {
   "cell_type": "code",
   "execution_count": 68,
   "id": "governing-lightweight",
   "metadata": {},
   "outputs": [
    {
     "data": {
      "text/plain": [
       "5000"
      ]
     },
     "execution_count": 68,
     "metadata": {},
     "output_type": "execute_result"
    }
   ],
   "source": [
    "len(y_pred)"
   ]
  },
  {
   "cell_type": "code",
   "execution_count": 71,
   "id": "available-response",
   "metadata": {},
   "outputs": [
    {
     "name": "stdout",
     "output_type": "stream",
     "text": [
      "[[1805 1820]\n",
      " [ 624  751]]\n",
      "\n",
      "\n",
      "              precision    recall  f1-score   support\n",
      "\n",
      "           0       0.74      0.50      0.60      3625\n",
      "           1       0.29      0.55      0.38      1375\n",
      "\n",
      "    accuracy                           0.51      5000\n",
      "   macro avg       0.52      0.52      0.49      5000\n",
      "weighted avg       0.62      0.51      0.54      5000\n",
      "\n"
     ]
    }
   ],
   "source": [
    "from sklearn.metrics import classification_report,confusion_matrix\n",
    "\n",
    "print(confusion_matrix(y_pred,y_test))\n",
    "print('\\n')\n",
    "print(classification_report(y_pred,y_test))"
   ]
  },
  {
   "cell_type": "code",
   "execution_count": null,
   "id": "promotional-supervisor",
   "metadata": {},
   "outputs": [],
   "source": []
  },
  {
   "cell_type": "code",
   "execution_count": null,
   "id": "auburn-rwanda",
   "metadata": {},
   "outputs": [],
   "source": []
  }
 ],
 "metadata": {
  "kernelspec": {
   "display_name": "Python 3",
   "language": "python",
   "name": "python3"
  },
  "language_info": {
   "codemirror_mode": {
    "name": "ipython",
    "version": 3
   },
   "file_extension": ".py",
   "mimetype": "text/x-python",
   "name": "python",
   "nbconvert_exporter": "python",
   "pygments_lexer": "ipython3",
   "version": "3.8.5"
  }
 },
 "nbformat": 4,
 "nbformat_minor": 5
}
