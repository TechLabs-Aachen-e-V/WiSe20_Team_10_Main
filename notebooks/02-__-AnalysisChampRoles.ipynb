{
 "cells": [
  {
   "cell_type": "markdown",
   "id": "b17bd1cf",
   "metadata": {},
   "source": [
    "# To analyze champion data in more detail across roles\n",
    "\n",
    "\n",
    "\n"
   ]
  },
  {
   "cell_type": "code",
   "execution_count": null,
   "id": "2c4886ef",
   "metadata": {},
   "outputs": [],
   "source": [
    "import numpy as np\n",
    "import pandas as pd\n",
    "import matplotlib.pyplot as plt\n",
    "import seaborn as sns\n",
    "%matplotlib inline"
   ]
  },
  {
   "cell_type": "code",
   "execution_count": null,
   "id": "cbcc7946",
   "metadata": {},
   "outputs": [],
   "source": [
    "df = pd.read_csv('../data/processed/ChampionStats.csv')"
   ]
  },
  {
   "cell_type": "code",
   "execution_count": null,
   "id": "57dd0a6d",
   "metadata": {},
   "outputs": [],
   "source": [
    "df.head()"
   ]
  },
  {
   "cell_type": "code",
   "execution_count": null,
   "id": "cb750e28",
   "metadata": {},
   "outputs": [],
   "source": [
    "df.drop(['Role2','#Role2'],axis=1,inplace=True)"
   ]
  },
  {
   "cell_type": "code",
   "execution_count": null,
   "id": "6f8aeb2a",
   "metadata": {},
   "outputs": [],
   "source": [
    "df.head()"
   ]
  },
  {
   "cell_type": "code",
   "execution_count": null,
   "id": "7a13e2b7",
   "metadata": {},
   "outputs": [],
   "source": [
    "df.describe()"
   ]
  },
  {
   "cell_type": "code",
   "execution_count": null,
   "id": "c9af4d91",
   "metadata": {},
   "outputs": [],
   "source": [
    "sns.distplot(df['Totalwinrate'])"
   ]
  },
  {
   "cell_type": "markdown",
   "id": "56d8bcfd",
   "metadata": {},
   "source": [
    "#### We can see from the above plot that most of the winrate distribution is between 47% to 52%\n"
   ]
  },
  {
   "cell_type": "code",
   "execution_count": null,
   "id": "54f12aae",
   "metadata": {},
   "outputs": [],
   "source": [
    "df['#Role1'].min()"
   ]
  },
  {
   "cell_type": "code",
   "execution_count": null,
   "id": "a7bef3cc",
   "metadata": {},
   "outputs": [],
   "source": [
    "df[df['#Role1']==80]"
   ]
  },
  {
   "cell_type": "markdown",
   "id": "20d0a8bf",
   "metadata": {},
   "source": [
    "#### From this we can observe that a minimum a champion was played in its primary role was 80 games (and we can consider this a good enough data size)"
   ]
  },
  {
   "cell_type": "code",
   "execution_count": null,
   "id": "6139d229",
   "metadata": {},
   "outputs": [],
   "source": [
    "sns.jointplot(x='Totalwinrate',y='#Role1',data=df,kind='hex')"
   ]
  },
  {
   "cell_type": "markdown",
   "id": "556f434c",
   "metadata": {},
   "source": [
    "#### Since we have considered only champions in the primary roles, it has to be noted that there wasnt any niche picks\n",
    "\n",
    "#### Also we can conclude that the champions which were played the most (or OP champs as we call it), had winrates slightly better than chance\n",
    "\n",
    "#### We can also derive the fact that high variance in winrates across the two ends of the spectrum is due to insufficient data pool wrt to the other champions"
   ]
  },
  {
   "cell_type": "markdown",
   "id": "b553be0c",
   "metadata": {},
   "source": [
    "### Now lets have a look at which champions were OP AND popular\n"
   ]
  },
  {
   "cell_type": "code",
   "execution_count": null,
   "id": "b1a9451f",
   "metadata": {
    "lines_to_next_cell": 2
   },
   "outputs": [],
   "source": [
    "df[(df['Totalwinrate']>0.49) & (df['#Role1']>1000)]"
   ]
  },
  {
   "cell_type": "code",
   "execution_count": null,
   "id": "aa449e44",
   "metadata": {},
   "outputs": [],
   "source": [
    "len(df[(df['Totalwinrate']>0.49) & (df['#Role1']>1000)])"
   ]
  },
  {
   "cell_type": "markdown",
   "id": "d6484193",
   "metadata": {},
   "source": [
    "## There are a total of 40 popular and OP champs, lets have a closer look at them\n",
    "\n",
    "#### Why only these 40 you might wonder, mainly because these 40 champions had more impact on the game (both in winrate and choice of selection) and one of our hypothesis is that these champions will have more say in how our model is being built"
   ]
  },
  {
   "cell_type": "code",
   "execution_count": null,
   "id": "8dc736a9",
   "metadata": {
    "lines_to_next_cell": 2
   },
   "outputs": [],
   "source": [
    "popchamp = df[(df['Totalwinrate']>0.49) & (df['#Role1']>1000)]\n",
    "popchamp = popchamp.copy()"
   ]
  },
  {
   "cell_type": "code",
   "execution_count": null,
   "id": "475912ab",
   "metadata": {
    "lines_to_end_of_cell_marker": 2
   },
   "outputs": [],
   "source": [
    "fig, ax = plt.subplots()\n",
    "ax.set(ylim=(0.48,0.52))\n",
    "sns.barplot(x='Role1',y='Totalwinrate',data=popchamp)"
   ]
  },
  {
   "cell_type": "markdown",
   "id": "de2868cd",
   "metadata": {},
   "source": [
    "#### From the above graph we can see that popular champions in jungle and mid roles made more impact on the game¶"
   ]
  },
  {
   "cell_type": "code",
   "execution_count": null,
   "id": "7313d9cb",
   "metadata": {},
   "outputs": [],
   "source": [
    "fig, ax = plt.subplots()\n",
    "ax.set(ylim=(0.48,0.52))\n",
    "sns.barplot(x='Role1',y='Totalwinrate',data=df)"
   ]
  },
  {
   "cell_type": "markdown",
   "id": "2927c1e4",
   "metadata": {},
   "source": [
    "#### On comparing with the previous graph we can see that, in general overall play though, support role played a more impactful game. This means that there is a lot more variance in support role winrates"
   ]
  },
  {
   "cell_type": "code",
   "execution_count": null,
   "id": "536e863f",
   "metadata": {},
   "outputs": [],
   "source": [
    "optop = popchamp.copy()\n",
    "optop = optop[popchamp['Role1']=='Top']"
   ]
  },
  {
   "cell_type": "code",
   "execution_count": null,
   "id": "ce660e69",
   "metadata": {},
   "outputs": [],
   "source": [
    "optop"
   ]
  },
  {
   "cell_type": "code",
   "execution_count": null,
   "id": "ff5a7163",
   "metadata": {},
   "outputs": [],
   "source": [
    "fig, ax = plt.subplots()\n",
    "ax.set(ylim=(0.48,0.52))\n",
    "sns.barplot(x='Champions',y='Totalwinrate',data=optop)"
   ]
  },
  {
   "cell_type": "code",
   "execution_count": null,
   "id": "99d275e8",
   "metadata": {},
   "outputs": [],
   "source": [
    "sns.boxplot(x='Role1',y='Totalwinrate',data=popchamp,)"
   ]
  },
  {
   "cell_type": "code",
   "execution_count": null,
   "id": "430e6312",
   "metadata": {},
   "outputs": [],
   "source": [
    "sns.boxplot(x='Role1',y='Totalwinrate',data=df,)"
   ]
  },
  {
   "cell_type": "code",
   "execution_count": null,
   "id": "c9c717b2",
   "metadata": {},
   "outputs": [],
   "source": []
  }
 ],
 "metadata": {
  "jupytext": {
   "encoding": "# -*- coding: utf-8 -*-",
   "formats": "ipynb,py:light",
   "text_representation": {
    "extension": ".py",
    "format_name": "light",
    "format_version": "1.5",
    "jupytext_version": "1.8.0"
   }
  },
  "kernelspec": {
   "display_name": "Python 3",
   "language": "python",
   "name": "python3"
  },
  "language_info": {
   "codemirror_mode": {
    "name": "ipython",
    "version": 3
   },
   "file_extension": ".py",
   "mimetype": "text/x-python",
   "name": "python",
   "nbconvert_exporter": "python",
   "pygments_lexer": "ipython3",
   "version": "3.8.5"
  }
 },
 "nbformat": 4,
 "nbformat_minor": 5
}
