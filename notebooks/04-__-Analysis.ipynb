{
 "cells": [
  {
   "cell_type": "code",
   "execution_count": 1,
   "metadata": {
    "lines_to_next_cell": 2
   },
   "outputs": [],
   "source": [
    "import numpy as np\n",
    "import pandas as pd\n",
    "import matplotlib.pyplot as plt\n",
    "import seaborn as sns\n",
    "import tqdm # <- tqdm is a handy small package to get a progress bar of for-loops :) Just do `pip install tqdm`\n",
    "%matplotlib inline"
   ]
  },
  {
   "cell_type": "code",
   "execution_count": 2,
   "metadata": {},
   "outputs": [],
   "source": [
    "df = pd.read_csv('../Data/LOLOracleData.csv')"
   ]
  },
  {
   "cell_type": "code",
   "execution_count": 3,
   "metadata": {},
   "outputs": [
    {
     "data": {
      "text/html": [
       "<div>\n",
       "<style scoped>\n",
       "    .dataframe tbody tr th:only-of-type {\n",
       "        vertical-align: middle;\n",
       "    }\n",
       "\n",
       "    .dataframe tbody tr th {\n",
       "        vertical-align: top;\n",
       "    }\n",
       "\n",
       "    .dataframe thead th {\n",
       "        text-align: right;\n",
       "    }\n",
       "</style>\n",
       "<table border=\"1\" class=\"dataframe\">\n",
       "  <thead>\n",
       "    <tr style=\"text-align: right;\">\n",
       "      <th></th>\n",
       "      <th>server</th>\n",
       "      <th>summoner_name</th>\n",
       "      <th>winner</th>\n",
       "      <th>BTop</th>\n",
       "      <th>BJng</th>\n",
       "      <th>BMid</th>\n",
       "      <th>BAdc</th>\n",
       "      <th>BSup</th>\n",
       "      <th>RTop</th>\n",
       "      <th>RJng</th>\n",
       "      <th>RMid</th>\n",
       "      <th>RAdc</th>\n",
       "      <th>RSup</th>\n",
       "      <th>Time</th>\n",
       "    </tr>\n",
       "  </thead>\n",
       "  <tbody>\n",
       "    <tr>\n",
       "      <th>0</th>\n",
       "      <td>na</td>\n",
       "      <td>AnDa</td>\n",
       "      <td>Red</td>\n",
       "      <td>Camille</td>\n",
       "      <td>Gragas</td>\n",
       "      <td>Yone</td>\n",
       "      <td>Jhin</td>\n",
       "      <td>Brand</td>\n",
       "      <td>Shen</td>\n",
       "      <td>Graves</td>\n",
       "      <td>Sylas</td>\n",
       "      <td>Kai'Sa</td>\n",
       "      <td>Karma</td>\n",
       "      <td>2020-12-23 14:12:18 26m 18s</td>\n",
       "    </tr>\n",
       "    <tr>\n",
       "      <th>1</th>\n",
       "      <td>na</td>\n",
       "      <td>AnDa</td>\n",
       "      <td>Blue</td>\n",
       "      <td>Camille</td>\n",
       "      <td>Nidalee</td>\n",
       "      <td>Galio</td>\n",
       "      <td>Jhin</td>\n",
       "      <td>Anivia</td>\n",
       "      <td>Riven</td>\n",
       "      <td>Hecarim</td>\n",
       "      <td>Xerath</td>\n",
       "      <td>Miss Fortune</td>\n",
       "      <td>Vel'Koz</td>\n",
       "      <td>2020-12-23 13:19:48 20m 42s</td>\n",
       "    </tr>\n",
       "    <tr>\n",
       "      <th>2</th>\n",
       "      <td>na</td>\n",
       "      <td>AnDa</td>\n",
       "      <td>Blue</td>\n",
       "      <td>Irelia</td>\n",
       "      <td>Ekko</td>\n",
       "      <td>Annie</td>\n",
       "      <td>Kai'Sa</td>\n",
       "      <td>Thresh</td>\n",
       "      <td>Aatrox</td>\n",
       "      <td>Jarvan IV</td>\n",
       "      <td>Orianna</td>\n",
       "      <td>Aphelios</td>\n",
       "      <td>Maokai</td>\n",
       "      <td>2020-12-22 15:11:07 15m 20s</td>\n",
       "    </tr>\n",
       "    <tr>\n",
       "      <th>3</th>\n",
       "      <td>na</td>\n",
       "      <td>AnDa</td>\n",
       "      <td>Red</td>\n",
       "      <td>Graves</td>\n",
       "      <td>Kindred</td>\n",
       "      <td>Sylas</td>\n",
       "      <td>Vayne</td>\n",
       "      <td>Bard</td>\n",
       "      <td>Renekton</td>\n",
       "      <td>Nidalee</td>\n",
       "      <td>Ekko</td>\n",
       "      <td>Sivir</td>\n",
       "      <td>Pyke</td>\n",
       "      <td>2020-12-22 14:46:00 30m 34s</td>\n",
       "    </tr>\n",
       "    <tr>\n",
       "      <th>4</th>\n",
       "      <td>na</td>\n",
       "      <td>AnDa</td>\n",
       "      <td>Red</td>\n",
       "      <td>Camille</td>\n",
       "      <td>Lee Sin</td>\n",
       "      <td>Lucian</td>\n",
       "      <td>Kai'Sa</td>\n",
       "      <td>Leona</td>\n",
       "      <td>Jhin</td>\n",
       "      <td>Nidalee</td>\n",
       "      <td>Yone</td>\n",
       "      <td>Orianna</td>\n",
       "      <td>Pantheon</td>\n",
       "      <td>2020-12-22 13:59:22 29m 58s</td>\n",
       "    </tr>\n",
       "  </tbody>\n",
       "</table>\n",
       "</div>"
      ],
      "text/plain": [
       "  server summoner_name winner     BTop     BJng    BMid    BAdc    BSup  \\\n",
       "0     na          AnDa    Red  Camille   Gragas    Yone    Jhin   Brand   \n",
       "1     na          AnDa   Blue  Camille  Nidalee   Galio    Jhin  Anivia   \n",
       "2     na          AnDa   Blue   Irelia     Ekko   Annie  Kai'Sa  Thresh   \n",
       "3     na          AnDa    Red   Graves  Kindred   Sylas   Vayne    Bard   \n",
       "4     na          AnDa    Red  Camille  Lee Sin  Lucian  Kai'Sa   Leona   \n",
       "\n",
       "       RTop       RJng     RMid          RAdc      RSup  \\\n",
       "0      Shen     Graves    Sylas        Kai'Sa     Karma   \n",
       "1     Riven    Hecarim   Xerath  Miss Fortune   Vel'Koz   \n",
       "2    Aatrox  Jarvan IV  Orianna      Aphelios    Maokai   \n",
       "3  Renekton    Nidalee     Ekko         Sivir      Pyke   \n",
       "4      Jhin    Nidalee     Yone       Orianna  Pantheon   \n",
       "\n",
       "                          Time  \n",
       "0  2020-12-23 14:12:18 26m 18s  \n",
       "1  2020-12-23 13:19:48 20m 42s  \n",
       "2  2020-12-22 15:11:07 15m 20s  \n",
       "3  2020-12-22 14:46:00 30m 34s  \n",
       "4  2020-12-22 13:59:22 29m 58s  "
      ]
     },
     "execution_count": 3,
     "metadata": {},
     "output_type": "execute_result"
    }
   ],
   "source": [
    "df.head()"
   ]
  },
  {
   "cell_type": "code",
   "execution_count": 4,
   "metadata": {},
   "outputs": [],
   "source": [
    "rd = df.copy()        #to extract data we need to work on and to remove unwanted columns"
   ]
  },
  {
   "cell_type": "code",
   "execution_count": 5,
   "metadata": {},
   "outputs": [
    {
     "data": {
      "text/plain": [
       "Index(['server', 'summoner_name', 'winner', 'BTop', 'BJng', 'BMid', 'BAdc',\n",
       "       'BSup', 'RTop', 'RJng', 'RMid', 'RAdc', 'RSup', 'Time'],\n",
       "      dtype='object')"
      ]
     },
     "execution_count": 5,
     "metadata": {},
     "output_type": "execute_result"
    }
   ],
   "source": [
    "rd.columns"
   ]
  },
  {
   "cell_type": "code",
   "execution_count": 6,
   "metadata": {},
   "outputs": [],
   "source": [
    "rd.drop(['server', 'summoner_name','Time'],axis=1,inplace=True)"
   ]
  },
  {
   "cell_type": "code",
   "execution_count": 7,
   "metadata": {},
   "outputs": [
    {
     "data": {
      "text/html": [
       "<div>\n",
       "<style scoped>\n",
       "    .dataframe tbody tr th:only-of-type {\n",
       "        vertical-align: middle;\n",
       "    }\n",
       "\n",
       "    .dataframe tbody tr th {\n",
       "        vertical-align: top;\n",
       "    }\n",
       "\n",
       "    .dataframe thead th {\n",
       "        text-align: right;\n",
       "    }\n",
       "</style>\n",
       "<table border=\"1\" class=\"dataframe\">\n",
       "  <thead>\n",
       "    <tr style=\"text-align: right;\">\n",
       "      <th></th>\n",
       "      <th>winner</th>\n",
       "      <th>BTop</th>\n",
       "      <th>BJng</th>\n",
       "      <th>BMid</th>\n",
       "      <th>BAdc</th>\n",
       "      <th>BSup</th>\n",
       "      <th>RTop</th>\n",
       "      <th>RJng</th>\n",
       "      <th>RMid</th>\n",
       "      <th>RAdc</th>\n",
       "      <th>RSup</th>\n",
       "    </tr>\n",
       "  </thead>\n",
       "  <tbody>\n",
       "    <tr>\n",
       "      <th>0</th>\n",
       "      <td>Red</td>\n",
       "      <td>Camille</td>\n",
       "      <td>Gragas</td>\n",
       "      <td>Yone</td>\n",
       "      <td>Jhin</td>\n",
       "      <td>Brand</td>\n",
       "      <td>Shen</td>\n",
       "      <td>Graves</td>\n",
       "      <td>Sylas</td>\n",
       "      <td>Kai'Sa</td>\n",
       "      <td>Karma</td>\n",
       "    </tr>\n",
       "    <tr>\n",
       "      <th>1</th>\n",
       "      <td>Blue</td>\n",
       "      <td>Camille</td>\n",
       "      <td>Nidalee</td>\n",
       "      <td>Galio</td>\n",
       "      <td>Jhin</td>\n",
       "      <td>Anivia</td>\n",
       "      <td>Riven</td>\n",
       "      <td>Hecarim</td>\n",
       "      <td>Xerath</td>\n",
       "      <td>Miss Fortune</td>\n",
       "      <td>Vel'Koz</td>\n",
       "    </tr>\n",
       "    <tr>\n",
       "      <th>2</th>\n",
       "      <td>Blue</td>\n",
       "      <td>Irelia</td>\n",
       "      <td>Ekko</td>\n",
       "      <td>Annie</td>\n",
       "      <td>Kai'Sa</td>\n",
       "      <td>Thresh</td>\n",
       "      <td>Aatrox</td>\n",
       "      <td>Jarvan IV</td>\n",
       "      <td>Orianna</td>\n",
       "      <td>Aphelios</td>\n",
       "      <td>Maokai</td>\n",
       "    </tr>\n",
       "    <tr>\n",
       "      <th>3</th>\n",
       "      <td>Red</td>\n",
       "      <td>Graves</td>\n",
       "      <td>Kindred</td>\n",
       "      <td>Sylas</td>\n",
       "      <td>Vayne</td>\n",
       "      <td>Bard</td>\n",
       "      <td>Renekton</td>\n",
       "      <td>Nidalee</td>\n",
       "      <td>Ekko</td>\n",
       "      <td>Sivir</td>\n",
       "      <td>Pyke</td>\n",
       "    </tr>\n",
       "    <tr>\n",
       "      <th>4</th>\n",
       "      <td>Red</td>\n",
       "      <td>Camille</td>\n",
       "      <td>Lee Sin</td>\n",
       "      <td>Lucian</td>\n",
       "      <td>Kai'Sa</td>\n",
       "      <td>Leona</td>\n",
       "      <td>Jhin</td>\n",
       "      <td>Nidalee</td>\n",
       "      <td>Yone</td>\n",
       "      <td>Orianna</td>\n",
       "      <td>Pantheon</td>\n",
       "    </tr>\n",
       "  </tbody>\n",
       "</table>\n",
       "</div>"
      ],
      "text/plain": [
       "  winner     BTop     BJng    BMid    BAdc    BSup      RTop       RJng  \\\n",
       "0    Red  Camille   Gragas    Yone    Jhin   Brand      Shen     Graves   \n",
       "1   Blue  Camille  Nidalee   Galio    Jhin  Anivia     Riven    Hecarim   \n",
       "2   Blue   Irelia     Ekko   Annie  Kai'Sa  Thresh    Aatrox  Jarvan IV   \n",
       "3    Red   Graves  Kindred   Sylas   Vayne    Bard  Renekton    Nidalee   \n",
       "4    Red  Camille  Lee Sin  Lucian  Kai'Sa   Leona      Jhin    Nidalee   \n",
       "\n",
       "      RMid          RAdc      RSup  \n",
       "0    Sylas        Kai'Sa     Karma  \n",
       "1   Xerath  Miss Fortune   Vel'Koz  \n",
       "2  Orianna      Aphelios    Maokai  \n",
       "3     Ekko         Sivir      Pyke  \n",
       "4     Yone       Orianna  Pantheon  "
      ]
     },
     "execution_count": 7,
     "metadata": {},
     "output_type": "execute_result"
    }
   ],
   "source": [
    "rd.head()"
   ]
  },
  {
   "cell_type": "code",
   "execution_count": 8,
   "metadata": {},
   "outputs": [],
   "source": [
    "Blue = ['BTop', 'BJng', 'BMid', 'BAdc',\n",
    "       'BSup']\n",
    "Red = ['RTop', 'RJng', 'RMid', 'RAdc', 'RSup']"
   ]
  },
  {
   "cell_type": "code",
   "execution_count": 9,
   "metadata": {},
   "outputs": [],
   "source": [
    "#To determine Blue side and red side winrate\n",
    "\n",
    "g = len(rd['winner'])   # Total number of games\n",
    "b = len(rd[rd['winner']=='Blue'])     # No of games blue won\n",
    "r = len(rd[rd['winner']=='Red'])      # No of games red won\n",
    "bw = b/g\n",
    "rw = r/g"
   ]
  },
  {
   "cell_type": "code",
   "execution_count": 10,
   "metadata": {},
   "outputs": [
    {
     "data": {
      "text/plain": [
       "0.504090655012958"
      ]
     },
     "execution_count": 10,
     "metadata": {},
     "output_type": "execute_result"
    }
   ],
   "source": [
    "bw #Blue Winrate"
   ]
  },
  {
   "cell_type": "code",
   "execution_count": 11,
   "metadata": {},
   "outputs": [
    {
     "data": {
      "text/plain": [
       "0.49590934498704203"
      ]
     },
     "execution_count": 11,
     "metadata": {},
     "output_type": "execute_result"
    }
   ],
   "source": [
    "rw #Red Winrate"
   ]
  },
  {
   "cell_type": "code",
   "execution_count": 12,
   "metadata": {},
   "outputs": [],
   "source": [
    "#Conclusion is that there is no discernable difference in the winrates of both sides"
   ]
  },
  {
   "cell_type": "code",
   "execution_count": 13,
   "metadata": {},
   "outputs": [],
   "source": [
    "#To determine now the winrate of each champion"
   ]
  },
  {
   "cell_type": "code",
   "execution_count": 14,
   "metadata": {},
   "outputs": [],
   "source": [
    "#To collect all the unique champion names\n",
    "\n",
    "col = Blue + Red\n",
    "champ= []\n",
    "for i in col:\n",
    "    tempchamp = rd[i].unique()\n",
    "    champ = np.append(champ,tempchamp)\n",
    "    \n",
    "    \n",
    "#Converting the data to a series to extract unique values and converting it back to a list    \n",
    "temp = pd.Series(champ)\n",
    "champions = temp.unique()\n",
    "champions = list(champions)"
   ]
  },
  {
   "cell_type": "code",
   "execution_count": 15,
   "metadata": {},
   "outputs": [
    {
     "data": {
      "text/plain": [
       "153"
      ]
     },
     "execution_count": 15,
     "metadata": {},
     "output_type": "execute_result"
    }
   ],
   "source": [
    "len(champions) #Total no of unique champions"
   ]
  },
  {
   "cell_type": "code",
   "execution_count": 16,
   "metadata": {},
   "outputs": [],
   "source": [
    "#Now we need to create a different dataset with all the champion winrates along with which side they were played"
   ]
  },
  {
   "cell_type": "code",
   "execution_count": 17,
   "metadata": {},
   "outputs": [],
   "source": [
    "cd = pd.DataFrame(champions,columns=['Champions'])   #cd - champion data"
   ]
  },
  {
   "cell_type": "code",
   "execution_count": null,
   "metadata": {
    "lines_to_next_cell": 2
   },
   "outputs": [],
   "source": []
  },
  {
   "cell_type": "code",
   "execution_count": 18,
   "metadata": {},
   "outputs": [
    {
     "data": {
      "text/html": [
       "<div>\n",
       "<style scoped>\n",
       "    .dataframe tbody tr th:only-of-type {\n",
       "        vertical-align: middle;\n",
       "    }\n",
       "\n",
       "    .dataframe tbody tr th {\n",
       "        vertical-align: top;\n",
       "    }\n",
       "\n",
       "    .dataframe thead th {\n",
       "        text-align: right;\n",
       "    }\n",
       "</style>\n",
       "<table border=\"1\" class=\"dataframe\">\n",
       "  <thead>\n",
       "    <tr style=\"text-align: right;\">\n",
       "      <th></th>\n",
       "      <th>Champions</th>\n",
       "    </tr>\n",
       "  </thead>\n",
       "  <tbody>\n",
       "    <tr>\n",
       "      <th>0</th>\n",
       "      <td>Camille</td>\n",
       "    </tr>\n",
       "    <tr>\n",
       "      <th>1</th>\n",
       "      <td>Irelia</td>\n",
       "    </tr>\n",
       "    <tr>\n",
       "      <th>2</th>\n",
       "      <td>Graves</td>\n",
       "    </tr>\n",
       "    <tr>\n",
       "      <th>3</th>\n",
       "      <td>Vladimir</td>\n",
       "    </tr>\n",
       "    <tr>\n",
       "      <th>4</th>\n",
       "      <td>Volibear</td>\n",
       "    </tr>\n",
       "  </tbody>\n",
       "</table>\n",
       "</div>"
      ],
      "text/plain": [
       "  Champions\n",
       "0   Camille\n",
       "1    Irelia\n",
       "2    Graves\n",
       "3  Vladimir\n",
       "4  Volibear"
      ]
     },
     "execution_count": 18,
     "metadata": {},
     "output_type": "execute_result"
    }
   ],
   "source": [
    "cd.head()"
   ]
  },
  {
   "cell_type": "code",
   "execution_count": 19,
   "metadata": {},
   "outputs": [],
   "source": [
    "# rd.head()"
   ]
  },
  {
   "cell_type": "code",
   "execution_count": 20,
   "metadata": {},
   "outputs": [],
   "source": [
    "#Example for one champion\n",
    "\n",
    "countb=0\n",
    "countbw=0\n",
    "for j in Blue:\n",
    "    for i in range(len(rd)):\n",
    "        if(rd.loc[i,j]=='Camille'):\n",
    "            if(rd.loc[i,'winner']=='Blue'):\n",
    "                countbw = countbw+1\n",
    "            countb = countb+1\n",
    "cd.loc[cd['Champions']=='Camille','BlueWon'] =  countbw \n",
    "cd.loc[cd['Champions']=='Camille','BluePlayed'] = countb\n",
    "\n",
    "\n",
    "countr=0\n",
    "countrw=0\n",
    "for j in Red:\n",
    "    for i in range(len(rd)):\n",
    "        if(rd.loc[i,j]=='Camille'):\n",
    "            if(rd.loc[i,'winner']=='Red'):\n",
    "                countrw = countrw+1\n",
    "            countr = countr+1\n",
    "cd.loc[cd['Champions']=='Camille','RedWon'] =  countrw \n",
    "cd.loc[cd['Champions']=='Camille','RedPlayed'] = countr"
   ]
  },
  {
   "cell_type": "code",
   "execution_count": 29,
   "metadata": {},
   "outputs": [
    {
     "data": {
      "text/html": [
       "<div>\n",
       "<style scoped>\n",
       "    .dataframe tbody tr th:only-of-type {\n",
       "        vertical-align: middle;\n",
       "    }\n",
       "\n",
       "    .dataframe tbody tr th {\n",
       "        vertical-align: top;\n",
       "    }\n",
       "\n",
       "    .dataframe thead th {\n",
       "        text-align: right;\n",
       "    }\n",
       "</style>\n",
       "<table border=\"1\" class=\"dataframe\">\n",
       "  <thead>\n",
       "    <tr style=\"text-align: right;\">\n",
       "      <th></th>\n",
       "      <th>Champions</th>\n",
       "      <th>BlueWon</th>\n",
       "      <th>BluePlayed</th>\n",
       "      <th>RedWon</th>\n",
       "      <th>RedPlayed</th>\n",
       "    </tr>\n",
       "  </thead>\n",
       "  <tbody>\n",
       "    <tr>\n",
       "      <th>0</th>\n",
       "      <td>Camille</td>\n",
       "      <td>3598.0</td>\n",
       "      <td>6908.0</td>\n",
       "      <td>1166.0</td>\n",
       "      <td>2270.0</td>\n",
       "    </tr>\n",
       "    <tr>\n",
       "      <th>1</th>\n",
       "      <td>Irelia</td>\n",
       "      <td>NaN</td>\n",
       "      <td>NaN</td>\n",
       "      <td>NaN</td>\n",
       "      <td>NaN</td>\n",
       "    </tr>\n",
       "    <tr>\n",
       "      <th>2</th>\n",
       "      <td>Graves</td>\n",
       "      <td>NaN</td>\n",
       "      <td>NaN</td>\n",
       "      <td>NaN</td>\n",
       "      <td>NaN</td>\n",
       "    </tr>\n",
       "    <tr>\n",
       "      <th>3</th>\n",
       "      <td>Vladimir</td>\n",
       "      <td>NaN</td>\n",
       "      <td>NaN</td>\n",
       "      <td>NaN</td>\n",
       "      <td>NaN</td>\n",
       "    </tr>\n",
       "    <tr>\n",
       "      <th>4</th>\n",
       "      <td>Volibear</td>\n",
       "      <td>NaN</td>\n",
       "      <td>NaN</td>\n",
       "      <td>NaN</td>\n",
       "      <td>NaN</td>\n",
       "    </tr>\n",
       "  </tbody>\n",
       "</table>\n",
       "</div>"
      ],
      "text/plain": [
       "  Champions  BlueWon  BluePlayed  RedWon  RedPlayed\n",
       "0   Camille   3598.0      6908.0  1166.0     2270.0\n",
       "1    Irelia      NaN         NaN     NaN        NaN\n",
       "2    Graves      NaN         NaN     NaN        NaN\n",
       "3  Vladimir      NaN         NaN     NaN        NaN\n",
       "4  Volibear      NaN         NaN     NaN        NaN"
      ]
     },
     "execution_count": 29,
     "metadata": {},
     "output_type": "execute_result"
    }
   ],
   "source": [
    "cd.head()"
   ]
  },
  {
   "cell_type": "code",
   "execution_count": 83,
   "metadata": {},
   "outputs": [
    {
     "name": "stderr",
     "output_type": "stream",
     "text": [
      "19679it [00:02, 9830.78it/s]\n"
     ]
    }
   ],
   "source": [
    "# An alternative way to do it saves many look-ups in the large dataframe (rd) and uses the ultra-fast\n",
    "# native python datatype dictionary:\n",
    "\n",
    "# 1. Set up the empty dictionaries with champion names as keys and one of the four counters as values.\n",
    "#    We also now have the advantage that we know what we will do afterwards. We therefore record the roles as well.\n",
    "blue_played = {champ: 0 for champ in champions}\n",
    "blue_won = {champ: 0 for champ in champions}\n",
    "red_played = {champ: 0 for champ in champions}\n",
    "red_won = {champ: 0 for champ in champions}\n",
    "roles = ['Top', 'Jng', 'Mid', 'Adc', 'Sup']\n",
    "roles_played = {champ: {role: 0 for role in roles} for champ in champions}\n",
    "\n",
    "# 2. Run through the rows of rd and then through all 10 roles (in two loops of 5 roles). Add to the counters of\n",
    "#    the 10 champions that occur in the row with the correct logic for winning champs (boolean variables \n",
    "#    winner_is_blue and winner_is_red will be transformed to integers automatically):\n",
    "\n",
    "for _row in tqdm.tqdm(rd.iterrows()): \n",
    "    row = _row[1]\n",
    "    winner_is_blue = row.winner=='Blue'\n",
    "    winner_is_red = not winner_is_blue\n",
    "    for blue_role in Blue:\n",
    "        champ = row[blue_role]\n",
    "        blue_played[champ] += 1\n",
    "        blue_won[champ] += winner_is_blue\n",
    "        roles_played[champ][blue_role[1:]] += 1 # Strip the \"B\"/\"R\" from blue_role to get the role.\n",
    "    for red_role in Red:\n",
    "        champ = row[red_role]\n",
    "        red_played[champ] += 1\n",
    "        red_won[champ] += winner_is_red\n",
    "        roles_played[champ][red_role[1:]] += 1 \n",
    "        \n",
    "# 3. Turn the dictionary into a dataframe: Make sure to refer to a *fixed-order* container with all champions.\n",
    "#    If we don't, we will mess up the rows of the data frame because the four dictionaries are *not* ordered!\n",
    "#    For the roles, we need some pre-processing to order how often which role was played\n",
    "\n",
    "number_of_roles_to_record = 2 # We use 2 roles, could use up to all 5\n",
    "ordered_roles_played = [[] for _ in range(number_of_roles_to_record)]\n",
    "numbers_roles_played = [[] for _ in range(number_of_roles_to_record)]\n",
    "for i, champ in enumerate(champions):\n",
    "    # This is a list of tuples (role, #plays in the role):\n",
    "    roles_for_this_champ = list(roles_played[champ].items()) \n",
    "    # sort by number of plays, in descending order (reverse=True)\n",
    "    sorted_roles_for_this_champ = sorted(roles_for_this_champ, key=lambda x: x[1], reverse=True)\n",
    "    \n",
    "    # Now let's record the sorted tuples as order of most played roles (and their # of plays) \n",
    "    for j in range(number_of_roles_to_record):\n",
    "        ordered_roles_played[j].append(sorted_roles_for_this_champ[j][0]) # Record the role\n",
    "        numbers_roles_played[j].append(sorted_roles_for_this_champ[j][1]) # Record the # of plays\n",
    "        \n",
    "most_played_roles = {f\"Role{j+1}\": ordered_roles_played[j] for j in range(number_of_roles_to_record)}\n",
    "most_played_numbers = {f\"#Role{j+1}\": numbers_roles_played[j] for j in range(number_of_roles_to_record)}\n",
    "\n",
    "cd = pd.DataFrame({\n",
    "    'Champion': champions,\n",
    "    'BluePlayed': [blue_played[champ] for champ in champions],\n",
    "    'BlueWon': [blue_won[champ] for champ in champions],\n",
    "    'RedPlayed': [red_played[champ] for champ in champions],\n",
    "    'RedWon': [red_won[champ] for champ in champions],\n",
    "    **most_played_roles,\n",
    "    **most_played_numbers,\n",
    "})"
   ]
  },
  {
   "cell_type": "code",
   "execution_count": 84,
   "metadata": {},
   "outputs": [],
   "source": [
    "#For all champions (old version)\n",
    "\n",
    "# for a in champions:\n",
    "#     countb=0\n",
    "#     countbw=0\n",
    "#     for j in Blue:\n",
    "#         for i in range(len(rd)):\n",
    "#             if(rd.loc[i,j]==a):\n",
    "#                 if(rd.loc[i,'winner']=='Blue'):\n",
    "#                     countbw = countbw+1\n",
    "#                 countb = countb+1\n",
    "#     cd.loc[cd['Champions']==a,'BlueWon'] =  countbw \n",
    "#     cd.loc[cd['Champions']==a,'BluePlayed'] = countb\n",
    "\n",
    "\n",
    "#     countr=0\n",
    "#     countrw=0\n",
    "#     for j in Red:\n",
    "#         for i in range(len(rd)):\n",
    "#             if(rd.loc[i,j]==a):\n",
    "#                 if(rd.loc[i,'winner']=='Red'):\n",
    "#                     countrw = countrw+1\n",
    "#                 countr = countr+1\n",
    "#     cd.loc[cd['Champions']==a,'RedWon'] =  countrw \n",
    "#     cd.loc[cd['Champions']==a,'RedPlayed'] = countr\n",
    "    "
   ]
  },
  {
   "cell_type": "code",
   "execution_count": 85,
   "metadata": {},
   "outputs": [],
   "source": [
    "cd['TotalPlayed'] = cd['BluePlayed'] + cd['RedPlayed']"
   ]
  },
  {
   "cell_type": "code",
   "execution_count": 86,
   "metadata": {},
   "outputs": [],
   "source": [
    "cd['Bluewinrate'] = cd['BlueWon'] / cd['BluePlayed']\n",
    "cd['Redwinrate'] = cd['RedWon'] / cd['RedPlayed']\n",
    "cd['Totalwinrate'] = (cd['BlueWon']+cd['RedWon'])/cd['TotalPlayed']"
   ]
  },
  {
   "cell_type": "code",
   "execution_count": null,
   "metadata": {},
   "outputs": [],
   "source": []
  },
  {
   "cell_type": "code",
   "execution_count": 87,
   "metadata": {},
   "outputs": [
    {
     "data": {
      "text/html": [
       "<div>\n",
       "<style scoped>\n",
       "    .dataframe tbody tr th:only-of-type {\n",
       "        vertical-align: middle;\n",
       "    }\n",
       "\n",
       "    .dataframe tbody tr th {\n",
       "        vertical-align: top;\n",
       "    }\n",
       "\n",
       "    .dataframe thead th {\n",
       "        text-align: right;\n",
       "    }\n",
       "</style>\n",
       "<table border=\"1\" class=\"dataframe\">\n",
       "  <thead>\n",
       "    <tr style=\"text-align: right;\">\n",
       "      <th></th>\n",
       "      <th>Champion</th>\n",
       "      <th>BluePlayed</th>\n",
       "      <th>BlueWon</th>\n",
       "      <th>RedPlayed</th>\n",
       "      <th>RedWon</th>\n",
       "      <th>Role1</th>\n",
       "      <th>Role2</th>\n",
       "      <th>#Role1</th>\n",
       "      <th>#Role2</th>\n",
       "      <th>TotalPlayed</th>\n",
       "      <th>Bluewinrate</th>\n",
       "      <th>Redwinrate</th>\n",
       "      <th>Totalwinrate</th>\n",
       "    </tr>\n",
       "  </thead>\n",
       "  <tbody>\n",
       "    <tr>\n",
       "      <th>0</th>\n",
       "      <td>Camille</td>\n",
       "      <td>2319</td>\n",
       "      <td>1216</td>\n",
       "      <td>2270</td>\n",
       "      <td>1166</td>\n",
       "      <td>Top</td>\n",
       "      <td>Mid</td>\n",
       "      <td>4076</td>\n",
       "      <td>309</td>\n",
       "      <td>4589</td>\n",
       "      <td>0.524364</td>\n",
       "      <td>0.513656</td>\n",
       "      <td>0.519067</td>\n",
       "    </tr>\n",
       "    <tr>\n",
       "      <th>1</th>\n",
       "      <td>Irelia</td>\n",
       "      <td>1084</td>\n",
       "      <td>534</td>\n",
       "      <td>1134</td>\n",
       "      <td>538</td>\n",
       "      <td>Top</td>\n",
       "      <td>Mid</td>\n",
       "      <td>1457</td>\n",
       "      <td>727</td>\n",
       "      <td>2218</td>\n",
       "      <td>0.492620</td>\n",
       "      <td>0.474427</td>\n",
       "      <td>0.483318</td>\n",
       "    </tr>\n",
       "    <tr>\n",
       "      <th>2</th>\n",
       "      <td>Graves</td>\n",
       "      <td>3096</td>\n",
       "      <td>1583</td>\n",
       "      <td>2716</td>\n",
       "      <td>1343</td>\n",
       "      <td>Jng</td>\n",
       "      <td>Mid</td>\n",
       "      <td>5708</td>\n",
       "      <td>48</td>\n",
       "      <td>5812</td>\n",
       "      <td>0.511305</td>\n",
       "      <td>0.494477</td>\n",
       "      <td>0.503441</td>\n",
       "    </tr>\n",
       "  </tbody>\n",
       "</table>\n",
       "</div>"
      ],
      "text/plain": [
       "  Champion  BluePlayed  BlueWon  RedPlayed  RedWon Role1 Role2  #Role1  \\\n",
       "0  Camille        2319     1216       2270    1166   Top   Mid    4076   \n",
       "1   Irelia        1084      534       1134     538   Top   Mid    1457   \n",
       "2   Graves        3096     1583       2716    1343   Jng   Mid    5708   \n",
       "\n",
       "   #Role2  TotalPlayed  Bluewinrate  Redwinrate  Totalwinrate  \n",
       "0     309         4589     0.524364    0.513656      0.519067  \n",
       "1     727         2218     0.492620    0.474427      0.483318  \n",
       "2      48         5812     0.511305    0.494477      0.503441  "
      ]
     },
     "execution_count": 87,
     "metadata": {},
     "output_type": "execute_result"
    }
   ],
   "source": [
    "cd.head(3)"
   ]
  },
  {
   "cell_type": "code",
   "execution_count": 88,
   "metadata": {},
   "outputs": [
    {
     "data": {
      "text/html": [
       "<div>\n",
       "<style scoped>\n",
       "    .dataframe tbody tr th:only-of-type {\n",
       "        vertical-align: middle;\n",
       "    }\n",
       "\n",
       "    .dataframe tbody tr th {\n",
       "        vertical-align: top;\n",
       "    }\n",
       "\n",
       "    .dataframe thead th {\n",
       "        text-align: right;\n",
       "    }\n",
       "</style>\n",
       "<table border=\"1\" class=\"dataframe\">\n",
       "  <thead>\n",
       "    <tr style=\"text-align: right;\">\n",
       "      <th></th>\n",
       "      <th>winner</th>\n",
       "      <th>BTop</th>\n",
       "      <th>BJng</th>\n",
       "      <th>BMid</th>\n",
       "      <th>BAdc</th>\n",
       "      <th>BSup</th>\n",
       "      <th>RTop</th>\n",
       "      <th>RJng</th>\n",
       "      <th>RMid</th>\n",
       "      <th>RAdc</th>\n",
       "      <th>RSup</th>\n",
       "    </tr>\n",
       "  </thead>\n",
       "  <tbody>\n",
       "    <tr>\n",
       "      <th>0</th>\n",
       "      <td>Red</td>\n",
       "      <td>Camille</td>\n",
       "      <td>Gragas</td>\n",
       "      <td>Yone</td>\n",
       "      <td>Jhin</td>\n",
       "      <td>Brand</td>\n",
       "      <td>Shen</td>\n",
       "      <td>Graves</td>\n",
       "      <td>Sylas</td>\n",
       "      <td>Kai'Sa</td>\n",
       "      <td>Karma</td>\n",
       "    </tr>\n",
       "    <tr>\n",
       "      <th>1</th>\n",
       "      <td>Blue</td>\n",
       "      <td>Camille</td>\n",
       "      <td>Nidalee</td>\n",
       "      <td>Galio</td>\n",
       "      <td>Jhin</td>\n",
       "      <td>Anivia</td>\n",
       "      <td>Riven</td>\n",
       "      <td>Hecarim</td>\n",
       "      <td>Xerath</td>\n",
       "      <td>Miss Fortune</td>\n",
       "      <td>Vel'Koz</td>\n",
       "    </tr>\n",
       "    <tr>\n",
       "      <th>2</th>\n",
       "      <td>Blue</td>\n",
       "      <td>Irelia</td>\n",
       "      <td>Ekko</td>\n",
       "      <td>Annie</td>\n",
       "      <td>Kai'Sa</td>\n",
       "      <td>Thresh</td>\n",
       "      <td>Aatrox</td>\n",
       "      <td>Jarvan IV</td>\n",
       "      <td>Orianna</td>\n",
       "      <td>Aphelios</td>\n",
       "      <td>Maokai</td>\n",
       "    </tr>\n",
       "  </tbody>\n",
       "</table>\n",
       "</div>"
      ],
      "text/plain": [
       "  winner     BTop     BJng   BMid    BAdc    BSup    RTop       RJng     RMid  \\\n",
       "0    Red  Camille   Gragas   Yone    Jhin   Brand    Shen     Graves    Sylas   \n",
       "1   Blue  Camille  Nidalee  Galio    Jhin  Anivia   Riven    Hecarim   Xerath   \n",
       "2   Blue   Irelia     Ekko  Annie  Kai'Sa  Thresh  Aatrox  Jarvan IV  Orianna   \n",
       "\n",
       "           RAdc     RSup  \n",
       "0        Kai'Sa    Karma  \n",
       "1  Miss Fortune  Vel'Koz  \n",
       "2      Aphelios   Maokai  "
      ]
     },
     "execution_count": 88,
     "metadata": {},
     "output_type": "execute_result"
    }
   ],
   "source": [
    "rd.head(3)"
   ]
  },
  {
   "cell_type": "code",
   "execution_count": 89,
   "metadata": {},
   "outputs": [
    {
     "data": {
      "text/plain": [
       "'Top'"
      ]
     },
     "execution_count": 89,
     "metadata": {},
     "output_type": "execute_result"
    }
   ],
   "source": [
    "'BTop'.split('B')[1]"
   ]
  },
  {
   "cell_type": "code",
   "execution_count": 90,
   "metadata": {},
   "outputs": [],
   "source": [
    "Top = ['BTop','RTop']\n",
    "Mid = ['BMid','RMid']\n",
    "Jng = ['BJng','RJng']\n",
    "Adc = ['BAdc','RAdc']\n",
    "Sup = ['BSup','RSup']\n",
    "\n",
    "Roles = [Top,Jng,Mid,Adc,Sup]"
   ]
  },
  {
   "cell_type": "code",
   "execution_count": 91,
   "metadata": {
    "lines_to_next_cell": 0
   },
   "outputs": [],
   "source": [
    "#To find most commonly played roles for each champ"
   ]
  },
  {
   "cell_type": "code",
   "execution_count": 92,
   "metadata": {},
   "outputs": [],
   "source": [
    "#Example for one champion - old version, this is now done in the first loop already\n",
    "# first=0\n",
    "# second=0\n",
    "# arole='None'\n",
    "# brole='None'\n",
    "# for j,k in Roles:\n",
    "#     count=0\n",
    "#     for i in range(len(rd)):\n",
    "#         if(rd.loc[i,j]=='Vladimir'):\n",
    "#             count=count+1\n",
    "#         if(rd.loc[i,k]=='Vladimir'):\n",
    "#             count=count+1\n",
    "        \n",
    "#     if count>first:\n",
    "#         first = count\n",
    "#         arole = j.split('B')[1]\n",
    "\n",
    "# for j,k in Roles:\n",
    "#     count=0\n",
    "#     for i in range(len(rd)):\n",
    "#         if(rd.loc[i,j]=='Vladimir'):\n",
    "#             count=count+1\n",
    "#         if(rd.loc[i,k]=='Vladimir'):\n",
    "#             count=count+1\n",
    "    \n",
    "#     if count!=first:\n",
    "#         if count>second:\n",
    "#             second = count\n",
    "#             brole = j.split('B')[1]\n",
    "        \n",
    "# cd.loc[cd['Champions']=='Vladimir','Role1'] = arole\n",
    "# cd.loc[cd['Champions']=='Vladimir','Role2'] = brole\n",
    "# cd.loc[cd['Champions']=='Vladimir','#Role1'] = first\n",
    "# cd.loc[cd['Champions']=='Vladimir','#Role2'] = second\n"
   ]
  },
  {
   "cell_type": "code",
   "execution_count": 93,
   "metadata": {},
   "outputs": [
    {
     "data": {
      "text/plain": [
       "843"
      ]
     },
     "execution_count": 93,
     "metadata": {},
     "output_type": "execute_result"
    }
   ],
   "source": [
    "first"
   ]
  },
  {
   "cell_type": "code",
   "execution_count": 94,
   "metadata": {},
   "outputs": [
    {
     "data": {
      "text/plain": [
       "0"
      ]
     },
     "execution_count": 94,
     "metadata": {},
     "output_type": "execute_result"
    }
   ],
   "source": [
    "second"
   ]
  },
  {
   "cell_type": "code",
   "execution_count": 95,
   "metadata": {},
   "outputs": [
    {
     "data": {
      "text/plain": [
       "'Top'"
      ]
     },
     "execution_count": 95,
     "metadata": {},
     "output_type": "execute_result"
    }
   ],
   "source": [
    "arole"
   ]
  },
  {
   "cell_type": "code",
   "execution_count": 96,
   "metadata": {},
   "outputs": [
    {
     "data": {
      "text/plain": [
       "'None'"
      ]
     },
     "execution_count": 96,
     "metadata": {},
     "output_type": "execute_result"
    }
   ],
   "source": [
    "brole"
   ]
  },
  {
   "cell_type": "code",
   "execution_count": 97,
   "metadata": {},
   "outputs": [
    {
     "data": {
      "text/html": [
       "<div>\n",
       "<style scoped>\n",
       "    .dataframe tbody tr th:only-of-type {\n",
       "        vertical-align: middle;\n",
       "    }\n",
       "\n",
       "    .dataframe tbody tr th {\n",
       "        vertical-align: top;\n",
       "    }\n",
       "\n",
       "    .dataframe thead th {\n",
       "        text-align: right;\n",
       "    }\n",
       "</style>\n",
       "<table border=\"1\" class=\"dataframe\">\n",
       "  <thead>\n",
       "    <tr style=\"text-align: right;\">\n",
       "      <th></th>\n",
       "      <th>Champion</th>\n",
       "      <th>BluePlayed</th>\n",
       "      <th>BlueWon</th>\n",
       "      <th>RedPlayed</th>\n",
       "      <th>RedWon</th>\n",
       "      <th>Role1</th>\n",
       "      <th>Role2</th>\n",
       "      <th>#Role1</th>\n",
       "      <th>#Role2</th>\n",
       "      <th>TotalPlayed</th>\n",
       "      <th>Bluewinrate</th>\n",
       "      <th>Redwinrate</th>\n",
       "      <th>Totalwinrate</th>\n",
       "    </tr>\n",
       "  </thead>\n",
       "  <tbody>\n",
       "    <tr>\n",
       "      <th>0</th>\n",
       "      <td>Camille</td>\n",
       "      <td>2319</td>\n",
       "      <td>1216</td>\n",
       "      <td>2270</td>\n",
       "      <td>1166</td>\n",
       "      <td>Top</td>\n",
       "      <td>Mid</td>\n",
       "      <td>4076</td>\n",
       "      <td>309</td>\n",
       "      <td>4589</td>\n",
       "      <td>0.524364</td>\n",
       "      <td>0.513656</td>\n",
       "      <td>0.519067</td>\n",
       "    </tr>\n",
       "    <tr>\n",
       "      <th>1</th>\n",
       "      <td>Irelia</td>\n",
       "      <td>1084</td>\n",
       "      <td>534</td>\n",
       "      <td>1134</td>\n",
       "      <td>538</td>\n",
       "      <td>Top</td>\n",
       "      <td>Mid</td>\n",
       "      <td>1457</td>\n",
       "      <td>727</td>\n",
       "      <td>2218</td>\n",
       "      <td>0.492620</td>\n",
       "      <td>0.474427</td>\n",
       "      <td>0.483318</td>\n",
       "    </tr>\n",
       "    <tr>\n",
       "      <th>2</th>\n",
       "      <td>Graves</td>\n",
       "      <td>3096</td>\n",
       "      <td>1583</td>\n",
       "      <td>2716</td>\n",
       "      <td>1343</td>\n",
       "      <td>Jng</td>\n",
       "      <td>Mid</td>\n",
       "      <td>5708</td>\n",
       "      <td>48</td>\n",
       "      <td>5812</td>\n",
       "      <td>0.511305</td>\n",
       "      <td>0.494477</td>\n",
       "      <td>0.503441</td>\n",
       "    </tr>\n",
       "    <tr>\n",
       "      <th>3</th>\n",
       "      <td>Vladimir</td>\n",
       "      <td>608</td>\n",
       "      <td>302</td>\n",
       "      <td>596</td>\n",
       "      <td>274</td>\n",
       "      <td>Mid</td>\n",
       "      <td>Top</td>\n",
       "      <td>663</td>\n",
       "      <td>529</td>\n",
       "      <td>1204</td>\n",
       "      <td>0.496711</td>\n",
       "      <td>0.459732</td>\n",
       "      <td>0.478405</td>\n",
       "    </tr>\n",
       "    <tr>\n",
       "      <th>4</th>\n",
       "      <td>Volibear</td>\n",
       "      <td>404</td>\n",
       "      <td>182</td>\n",
       "      <td>412</td>\n",
       "      <td>189</td>\n",
       "      <td>Top</td>\n",
       "      <td>Jng</td>\n",
       "      <td>588</td>\n",
       "      <td>176</td>\n",
       "      <td>816</td>\n",
       "      <td>0.450495</td>\n",
       "      <td>0.458738</td>\n",
       "      <td>0.454657</td>\n",
       "    </tr>\n",
       "  </tbody>\n",
       "</table>\n",
       "</div>"
      ],
      "text/plain": [
       "   Champion  BluePlayed  BlueWon  RedPlayed  RedWon Role1 Role2  #Role1  \\\n",
       "0   Camille        2319     1216       2270    1166   Top   Mid    4076   \n",
       "1    Irelia        1084      534       1134     538   Top   Mid    1457   \n",
       "2    Graves        3096     1583       2716    1343   Jng   Mid    5708   \n",
       "3  Vladimir         608      302        596     274   Mid   Top     663   \n",
       "4  Volibear         404      182        412     189   Top   Jng     588   \n",
       "\n",
       "   #Role2  TotalPlayed  Bluewinrate  Redwinrate  Totalwinrate  \n",
       "0     309         4589     0.524364    0.513656      0.519067  \n",
       "1     727         2218     0.492620    0.474427      0.483318  \n",
       "2      48         5812     0.511305    0.494477      0.503441  \n",
       "3     529         1204     0.496711    0.459732      0.478405  \n",
       "4     176          816     0.450495    0.458738      0.454657  "
      ]
     },
     "execution_count": 97,
     "metadata": {},
     "output_type": "execute_result"
    }
   ],
   "source": [
    "cd.head()"
   ]
  },
  {
   "cell_type": "code",
   "execution_count": 98,
   "metadata": {},
   "outputs": [],
   "source": [
    "#For all champions - old version\n",
    "\n",
    "# for a in champions:\n",
    "#     first=0\n",
    "#     second=0\n",
    "#     arole='None'\n",
    "#     brole='None'\n",
    "#     for j,k in Roles:\n",
    "#         count=0\n",
    "#         for i in range(len(rd)):\n",
    "#             if(rd.loc[i,j]==a):\n",
    "#                 count=count+1\n",
    "#             if(rd.loc[i,k]==a):\n",
    "#                 count=count+1\n",
    "        \n",
    "#         if count>first:\n",
    "#             first = count\n",
    "#             arole = j.split('B')[1]\n",
    "\n",
    "#     for j,k in Roles:\n",
    "#         count=0\n",
    "#         for i in range(len(rd)):\n",
    "#             if(rd.loc[i,j]==a):\n",
    "#                 count=count+1\n",
    "#             if(rd.loc[i,k]==a):\n",
    "#                 count=count+1\n",
    "    \n",
    "#         if count!=first:\n",
    "#             if count>second:\n",
    "#                 second = count\n",
    "#                 brole = j.split('B')[1]\n",
    "        \n",
    "#     cd.loc[cd['Champion']==a,'Role1'] = arole\n",
    "#     cd.loc[cd['Champion']==a,'Role2'] = brole\n",
    "#     cd.loc[cd['Champion']==a,'#Role1'] = first\n",
    "#     cd.loc[cd['Champion']==a,'#Role2'] = second\n",
    "        \n",
    "\n"
   ]
  },
  {
   "cell_type": "code",
   "execution_count": 99,
   "metadata": {},
   "outputs": [
    {
     "data": {
      "text/html": [
       "<div>\n",
       "<style scoped>\n",
       "    .dataframe tbody tr th:only-of-type {\n",
       "        vertical-align: middle;\n",
       "    }\n",
       "\n",
       "    .dataframe tbody tr th {\n",
       "        vertical-align: top;\n",
       "    }\n",
       "\n",
       "    .dataframe thead th {\n",
       "        text-align: right;\n",
       "    }\n",
       "</style>\n",
       "<table border=\"1\" class=\"dataframe\">\n",
       "  <thead>\n",
       "    <tr style=\"text-align: right;\">\n",
       "      <th></th>\n",
       "      <th>Champion</th>\n",
       "      <th>BluePlayed</th>\n",
       "      <th>BlueWon</th>\n",
       "      <th>RedPlayed</th>\n",
       "      <th>RedWon</th>\n",
       "      <th>Role1</th>\n",
       "      <th>Role2</th>\n",
       "      <th>#Role1</th>\n",
       "      <th>#Role2</th>\n",
       "      <th>TotalPlayed</th>\n",
       "      <th>Bluewinrate</th>\n",
       "      <th>Redwinrate</th>\n",
       "      <th>Totalwinrate</th>\n",
       "    </tr>\n",
       "  </thead>\n",
       "  <tbody>\n",
       "    <tr>\n",
       "      <th>0</th>\n",
       "      <td>Camille</td>\n",
       "      <td>2319</td>\n",
       "      <td>1216</td>\n",
       "      <td>2270</td>\n",
       "      <td>1166</td>\n",
       "      <td>Top</td>\n",
       "      <td>Mid</td>\n",
       "      <td>4076</td>\n",
       "      <td>309</td>\n",
       "      <td>4589</td>\n",
       "      <td>0.524364</td>\n",
       "      <td>0.513656</td>\n",
       "      <td>0.519067</td>\n",
       "    </tr>\n",
       "    <tr>\n",
       "      <th>1</th>\n",
       "      <td>Irelia</td>\n",
       "      <td>1084</td>\n",
       "      <td>534</td>\n",
       "      <td>1134</td>\n",
       "      <td>538</td>\n",
       "      <td>Top</td>\n",
       "      <td>Mid</td>\n",
       "      <td>1457</td>\n",
       "      <td>727</td>\n",
       "      <td>2218</td>\n",
       "      <td>0.492620</td>\n",
       "      <td>0.474427</td>\n",
       "      <td>0.483318</td>\n",
       "    </tr>\n",
       "    <tr>\n",
       "      <th>2</th>\n",
       "      <td>Graves</td>\n",
       "      <td>3096</td>\n",
       "      <td>1583</td>\n",
       "      <td>2716</td>\n",
       "      <td>1343</td>\n",
       "      <td>Jng</td>\n",
       "      <td>Mid</td>\n",
       "      <td>5708</td>\n",
       "      <td>48</td>\n",
       "      <td>5812</td>\n",
       "      <td>0.511305</td>\n",
       "      <td>0.494477</td>\n",
       "      <td>0.503441</td>\n",
       "    </tr>\n",
       "    <tr>\n",
       "      <th>3</th>\n",
       "      <td>Vladimir</td>\n",
       "      <td>608</td>\n",
       "      <td>302</td>\n",
       "      <td>596</td>\n",
       "      <td>274</td>\n",
       "      <td>Mid</td>\n",
       "      <td>Top</td>\n",
       "      <td>663</td>\n",
       "      <td>529</td>\n",
       "      <td>1204</td>\n",
       "      <td>0.496711</td>\n",
       "      <td>0.459732</td>\n",
       "      <td>0.478405</td>\n",
       "    </tr>\n",
       "    <tr>\n",
       "      <th>4</th>\n",
       "      <td>Volibear</td>\n",
       "      <td>404</td>\n",
       "      <td>182</td>\n",
       "      <td>412</td>\n",
       "      <td>189</td>\n",
       "      <td>Top</td>\n",
       "      <td>Jng</td>\n",
       "      <td>588</td>\n",
       "      <td>176</td>\n",
       "      <td>816</td>\n",
       "      <td>0.450495</td>\n",
       "      <td>0.458738</td>\n",
       "      <td>0.454657</td>\n",
       "    </tr>\n",
       "  </tbody>\n",
       "</table>\n",
       "</div>"
      ],
      "text/plain": [
       "   Champion  BluePlayed  BlueWon  RedPlayed  RedWon Role1 Role2  #Role1  \\\n",
       "0   Camille        2319     1216       2270    1166   Top   Mid    4076   \n",
       "1    Irelia        1084      534       1134     538   Top   Mid    1457   \n",
       "2    Graves        3096     1583       2716    1343   Jng   Mid    5708   \n",
       "3  Vladimir         608      302        596     274   Mid   Top     663   \n",
       "4  Volibear         404      182        412     189   Top   Jng     588   \n",
       "\n",
       "   #Role2  TotalPlayed  Bluewinrate  Redwinrate  Totalwinrate  \n",
       "0     309         4589     0.524364    0.513656      0.519067  \n",
       "1     727         2218     0.492620    0.474427      0.483318  \n",
       "2      48         5812     0.511305    0.494477      0.503441  \n",
       "3     529         1204     0.496711    0.459732      0.478405  \n",
       "4     176          816     0.450495    0.458738      0.454657  "
      ]
     },
     "execution_count": 99,
     "metadata": {},
     "output_type": "execute_result"
    }
   ],
   "source": [
    "cd.head()"
   ]
  },
  {
   "cell_type": "code",
   "execution_count": 296,
   "metadata": {},
   "outputs": [],
   "source": [
    "cd.to_csv('ChampionStats.csv',index=False)"
   ]
  },
  {
   "cell_type": "code",
   "execution_count": 100,
   "metadata": {},
   "outputs": [
    {
     "data": {
      "text/html": [
       "<div>\n",
       "<style scoped>\n",
       "    .dataframe tbody tr th:only-of-type {\n",
       "        vertical-align: middle;\n",
       "    }\n",
       "\n",
       "    .dataframe tbody tr th {\n",
       "        vertical-align: top;\n",
       "    }\n",
       "\n",
       "    .dataframe thead th {\n",
       "        text-align: right;\n",
       "    }\n",
       "</style>\n",
       "<table border=\"1\" class=\"dataframe\">\n",
       "  <thead>\n",
       "    <tr style=\"text-align: right;\">\n",
       "      <th></th>\n",
       "      <th>Champion</th>\n",
       "      <th>BluePlayed</th>\n",
       "      <th>BlueWon</th>\n",
       "      <th>RedPlayed</th>\n",
       "      <th>RedWon</th>\n",
       "      <th>Role1</th>\n",
       "      <th>Role2</th>\n",
       "      <th>#Role1</th>\n",
       "      <th>#Role2</th>\n",
       "      <th>TotalPlayed</th>\n",
       "      <th>Bluewinrate</th>\n",
       "      <th>Redwinrate</th>\n",
       "      <th>Totalwinrate</th>\n",
       "    </tr>\n",
       "  </thead>\n",
       "  <tbody>\n",
       "    <tr>\n",
       "      <th>0</th>\n",
       "      <td>Camille</td>\n",
       "      <td>2319</td>\n",
       "      <td>1216</td>\n",
       "      <td>2270</td>\n",
       "      <td>1166</td>\n",
       "      <td>Top</td>\n",
       "      <td>Mid</td>\n",
       "      <td>4076</td>\n",
       "      <td>309</td>\n",
       "      <td>4589</td>\n",
       "      <td>0.524364</td>\n",
       "      <td>0.513656</td>\n",
       "      <td>0.519067</td>\n",
       "    </tr>\n",
       "    <tr>\n",
       "      <th>1</th>\n",
       "      <td>Irelia</td>\n",
       "      <td>1084</td>\n",
       "      <td>534</td>\n",
       "      <td>1134</td>\n",
       "      <td>538</td>\n",
       "      <td>Top</td>\n",
       "      <td>Mid</td>\n",
       "      <td>1457</td>\n",
       "      <td>727</td>\n",
       "      <td>2218</td>\n",
       "      <td>0.492620</td>\n",
       "      <td>0.474427</td>\n",
       "      <td>0.483318</td>\n",
       "    </tr>\n",
       "    <tr>\n",
       "      <th>2</th>\n",
       "      <td>Graves</td>\n",
       "      <td>3096</td>\n",
       "      <td>1583</td>\n",
       "      <td>2716</td>\n",
       "      <td>1343</td>\n",
       "      <td>Jng</td>\n",
       "      <td>Mid</td>\n",
       "      <td>5708</td>\n",
       "      <td>48</td>\n",
       "      <td>5812</td>\n",
       "      <td>0.511305</td>\n",
       "      <td>0.494477</td>\n",
       "      <td>0.503441</td>\n",
       "    </tr>\n",
       "  </tbody>\n",
       "</table>\n",
       "</div>"
      ],
      "text/plain": [
       "  Champion  BluePlayed  BlueWon  RedPlayed  RedWon Role1 Role2  #Role1  \\\n",
       "0  Camille        2319     1216       2270    1166   Top   Mid    4076   \n",
       "1   Irelia        1084      534       1134     538   Top   Mid    1457   \n",
       "2   Graves        3096     1583       2716    1343   Jng   Mid    5708   \n",
       "\n",
       "   #Role2  TotalPlayed  Bluewinrate  Redwinrate  Totalwinrate  \n",
       "0     309         4589     0.524364    0.513656      0.519067  \n",
       "1     727         2218     0.492620    0.474427      0.483318  \n",
       "2      48         5812     0.511305    0.494477      0.503441  "
      ]
     },
     "execution_count": 100,
     "metadata": {},
     "output_type": "execute_result"
    }
   ],
   "source": [
    "cd.head(3)"
   ]
  },
  {
   "cell_type": "code",
   "execution_count": 101,
   "metadata": {},
   "outputs": [],
   "source": [
    "cd[['BlueWon','BluePlayed','RedWon','RedPlayed','TotalPlayed','#Role1','#Role2']] = cd[['BlueWon','BluePlayed','RedWon','RedPlayed','TotalPlayed','#Role1','#Role2']].astype(int)"
   ]
  },
  {
   "cell_type": "code",
   "execution_count": 102,
   "metadata": {},
   "outputs": [
    {
     "data": {
      "text/html": [
       "<div>\n",
       "<style scoped>\n",
       "    .dataframe tbody tr th:only-of-type {\n",
       "        vertical-align: middle;\n",
       "    }\n",
       "\n",
       "    .dataframe tbody tr th {\n",
       "        vertical-align: top;\n",
       "    }\n",
       "\n",
       "    .dataframe thead th {\n",
       "        text-align: right;\n",
       "    }\n",
       "</style>\n",
       "<table border=\"1\" class=\"dataframe\">\n",
       "  <thead>\n",
       "    <tr style=\"text-align: right;\">\n",
       "      <th></th>\n",
       "      <th>Champion</th>\n",
       "      <th>BluePlayed</th>\n",
       "      <th>BlueWon</th>\n",
       "      <th>RedPlayed</th>\n",
       "      <th>RedWon</th>\n",
       "      <th>Role1</th>\n",
       "      <th>Role2</th>\n",
       "      <th>#Role1</th>\n",
       "      <th>#Role2</th>\n",
       "      <th>TotalPlayed</th>\n",
       "      <th>Bluewinrate</th>\n",
       "      <th>Redwinrate</th>\n",
       "      <th>Totalwinrate</th>\n",
       "    </tr>\n",
       "  </thead>\n",
       "  <tbody>\n",
       "    <tr>\n",
       "      <th>0</th>\n",
       "      <td>Camille</td>\n",
       "      <td>2319</td>\n",
       "      <td>1216</td>\n",
       "      <td>2270</td>\n",
       "      <td>1166</td>\n",
       "      <td>Top</td>\n",
       "      <td>Mid</td>\n",
       "      <td>4076</td>\n",
       "      <td>309</td>\n",
       "      <td>4589</td>\n",
       "      <td>0.524364</td>\n",
       "      <td>0.513656</td>\n",
       "      <td>0.519067</td>\n",
       "    </tr>\n",
       "    <tr>\n",
       "      <th>1</th>\n",
       "      <td>Irelia</td>\n",
       "      <td>1084</td>\n",
       "      <td>534</td>\n",
       "      <td>1134</td>\n",
       "      <td>538</td>\n",
       "      <td>Top</td>\n",
       "      <td>Mid</td>\n",
       "      <td>1457</td>\n",
       "      <td>727</td>\n",
       "      <td>2218</td>\n",
       "      <td>0.492620</td>\n",
       "      <td>0.474427</td>\n",
       "      <td>0.483318</td>\n",
       "    </tr>\n",
       "    <tr>\n",
       "      <th>2</th>\n",
       "      <td>Graves</td>\n",
       "      <td>3096</td>\n",
       "      <td>1583</td>\n",
       "      <td>2716</td>\n",
       "      <td>1343</td>\n",
       "      <td>Jng</td>\n",
       "      <td>Mid</td>\n",
       "      <td>5708</td>\n",
       "      <td>48</td>\n",
       "      <td>5812</td>\n",
       "      <td>0.511305</td>\n",
       "      <td>0.494477</td>\n",
       "      <td>0.503441</td>\n",
       "    </tr>\n",
       "  </tbody>\n",
       "</table>\n",
       "</div>"
      ],
      "text/plain": [
       "  Champion  BluePlayed  BlueWon  RedPlayed  RedWon Role1 Role2  #Role1  \\\n",
       "0  Camille        2319     1216       2270    1166   Top   Mid    4076   \n",
       "1   Irelia        1084      534       1134     538   Top   Mid    1457   \n",
       "2   Graves        3096     1583       2716    1343   Jng   Mid    5708   \n",
       "\n",
       "   #Role2  TotalPlayed  Bluewinrate  Redwinrate  Totalwinrate  \n",
       "0     309         4589     0.524364    0.513656      0.519067  \n",
       "1     727         2218     0.492620    0.474427      0.483318  \n",
       "2      48         5812     0.511305    0.494477      0.503441  "
      ]
     },
     "execution_count": 102,
     "metadata": {},
     "output_type": "execute_result"
    }
   ],
   "source": [
    "cd.head(3)"
   ]
  },
  {
   "cell_type": "code",
   "execution_count": 103,
   "metadata": {},
   "outputs": [],
   "source": [
    "cd = cd.round(6)"
   ]
  },
  {
   "cell_type": "code",
   "execution_count": 104,
   "metadata": {},
   "outputs": [],
   "source": [
    "cd.to_csv('ChampionStats.csv',index=False)"
   ]
  },
  {
   "cell_type": "code",
   "execution_count": null,
   "metadata": {},
   "outputs": [],
   "source": []
  }
 ],
 "metadata": {
  "jupytext": {
   "formats": "ipynb,py:light"
  },
  "kernelspec": {
   "display_name": "Python 3",
   "language": "python",
   "name": "python3"
  },
  "language_info": {
   "codemirror_mode": {
    "name": "ipython",
    "version": 3
   },
   "file_extension": ".py",
   "mimetype": "text/x-python",
   "name": "python",
   "nbconvert_exporter": "python",
   "pygments_lexer": "ipython3",
   "version": "3.8.5"
  }
 },
 "nbformat": 4,
 "nbformat_minor": 2
}
